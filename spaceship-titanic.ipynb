{
 "cells": [
  {
   "cell_type": "markdown",
   "id": "a74ec7a1",
   "metadata": {
    "id": "ZVe2vwntwC-C",
    "papermill": {
     "duration": 0.025674,
     "end_time": "2023-03-22T13:03:02.546906",
     "exception": false,
     "start_time": "2023-03-22T13:03:02.521232",
     "status": "completed"
    },
    "tags": []
   },
   "source": [
    "# Spaceship Titanic"
   ]
  },
  {
   "cell_type": "markdown",
   "id": "ee9f2a41",
   "metadata": {
    "id": "a9rAWDv5wK-y",
    "papermill": {
     "duration": 0.023802,
     "end_time": "2023-03-22T13:03:02.596695",
     "exception": false,
     "start_time": "2023-03-22T13:03:02.572893",
     "status": "completed"
    },
    "tags": []
   },
   "source": [
    "## Importing libs and the dataset"
   ]
  },
  {
   "cell_type": "code",
   "execution_count": 1,
   "id": "641ae2fd",
   "metadata": {
    "execution": {
     "iopub.execute_input": "2023-03-22T13:03:02.647865Z",
     "iopub.status.busy": "2023-03-22T13:03:02.647492Z",
     "iopub.status.idle": "2023-03-22T13:03:03.862042Z",
     "shell.execute_reply": "2023-03-22T13:03:03.860415Z"
    },
    "id": "-WCNKlwNwKp0",
    "papermill": {
     "duration": 1.24429,
     "end_time": "2023-03-22T13:03:03.864934",
     "exception": false,
     "start_time": "2023-03-22T13:03:02.620644",
     "status": "completed"
    },
    "tags": []
   },
   "outputs": [],
   "source": [
    "import pandas as pd\n",
    "import numpy as np\n",
    "import seaborn as sns\n",
    "import matplotlib.pyplot as plt"
   ]
  },
  {
   "cell_type": "code",
   "execution_count": 2,
   "id": "41dafa97",
   "metadata": {
    "execution": {
     "iopub.execute_input": "2023-03-22T13:03:03.916695Z",
     "iopub.status.busy": "2023-03-22T13:03:03.916270Z",
     "iopub.status.idle": "2023-03-22T13:03:03.989195Z",
     "shell.execute_reply": "2023-03-22T13:03:03.986912Z"
    },
    "id": "V7555wJ5uAOG",
    "papermill": {
     "duration": 0.102124,
     "end_time": "2023-03-22T13:03:03.991960",
     "exception": false,
     "start_time": "2023-03-22T13:03:03.889836",
     "status": "completed"
    },
    "tags": []
   },
   "outputs": [],
   "source": [
    "train_df = pd.read_csv('/kaggle/input/spaceship-titanic/train.csv')\n",
    "test_df = pd.read_csv('/kaggle/input/spaceship-titanic/test.csv')"
   ]
  },
  {
   "cell_type": "code",
   "execution_count": 3,
   "id": "94b77c25",
   "metadata": {
    "execution": {
     "iopub.execute_input": "2023-03-22T13:03:04.043530Z",
     "iopub.status.busy": "2023-03-22T13:03:04.043189Z",
     "iopub.status.idle": "2023-03-22T13:03:04.052218Z",
     "shell.execute_reply": "2023-03-22T13:03:04.050704Z"
    },
    "id": "cJBlWiapxW_O",
    "outputId": "218271f2-43b7-4f8c-d54f-812e87f8ad0c",
    "papermill": {
     "duration": 0.038015,
     "end_time": "2023-03-22T13:03:04.055177",
     "exception": false,
     "start_time": "2023-03-22T13:03:04.017162",
     "status": "completed"
    },
    "tags": []
   },
   "outputs": [
    {
     "data": {
      "text/plain": [
       "((8693, 14), (4277, 13))"
      ]
     },
     "execution_count": 3,
     "metadata": {},
     "output_type": "execute_result"
    }
   ],
   "source": [
    "train_df.shape, test_df.shape"
   ]
  },
  {
   "cell_type": "code",
   "execution_count": 4,
   "id": "a80a2a82",
   "metadata": {
    "execution": {
     "iopub.execute_input": "2023-03-22T13:03:04.108462Z",
     "iopub.status.busy": "2023-03-22T13:03:04.108030Z",
     "iopub.status.idle": "2023-03-22T13:03:04.142390Z",
     "shell.execute_reply": "2023-03-22T13:03:04.140833Z"
    },
    "id": "u6jdV6ESwqtl",
    "outputId": "beb21fa1-70fd-4e83-a4c1-f5a6c29f008e",
    "papermill": {
     "duration": 0.064362,
     "end_time": "2023-03-22T13:03:04.144563",
     "exception": false,
     "start_time": "2023-03-22T13:03:04.080201",
     "status": "completed"
    },
    "tags": []
   },
   "outputs": [
    {
     "data": {
      "text/html": [
       "<div>\n",
       "<style scoped>\n",
       "    .dataframe tbody tr th:only-of-type {\n",
       "        vertical-align: middle;\n",
       "    }\n",
       "\n",
       "    .dataframe tbody tr th {\n",
       "        vertical-align: top;\n",
       "    }\n",
       "\n",
       "    .dataframe thead th {\n",
       "        text-align: right;\n",
       "    }\n",
       "</style>\n",
       "<table border=\"1\" class=\"dataframe\">\n",
       "  <thead>\n",
       "    <tr style=\"text-align: right;\">\n",
       "      <th></th>\n",
       "      <th>PassengerId</th>\n",
       "      <th>HomePlanet</th>\n",
       "      <th>CryoSleep</th>\n",
       "      <th>Cabin</th>\n",
       "      <th>Destination</th>\n",
       "      <th>Age</th>\n",
       "      <th>VIP</th>\n",
       "      <th>RoomService</th>\n",
       "      <th>FoodCourt</th>\n",
       "      <th>ShoppingMall</th>\n",
       "      <th>Spa</th>\n",
       "      <th>VRDeck</th>\n",
       "      <th>Name</th>\n",
       "      <th>Transported</th>\n",
       "    </tr>\n",
       "  </thead>\n",
       "  <tbody>\n",
       "    <tr>\n",
       "      <th>0</th>\n",
       "      <td>0001_01</td>\n",
       "      <td>Europa</td>\n",
       "      <td>False</td>\n",
       "      <td>B/0/P</td>\n",
       "      <td>TRAPPIST-1e</td>\n",
       "      <td>39.0</td>\n",
       "      <td>False</td>\n",
       "      <td>0.0</td>\n",
       "      <td>0.0</td>\n",
       "      <td>0.0</td>\n",
       "      <td>0.0</td>\n",
       "      <td>0.0</td>\n",
       "      <td>Maham Ofracculy</td>\n",
       "      <td>False</td>\n",
       "    </tr>\n",
       "    <tr>\n",
       "      <th>1</th>\n",
       "      <td>0002_01</td>\n",
       "      <td>Earth</td>\n",
       "      <td>False</td>\n",
       "      <td>F/0/S</td>\n",
       "      <td>TRAPPIST-1e</td>\n",
       "      <td>24.0</td>\n",
       "      <td>False</td>\n",
       "      <td>109.0</td>\n",
       "      <td>9.0</td>\n",
       "      <td>25.0</td>\n",
       "      <td>549.0</td>\n",
       "      <td>44.0</td>\n",
       "      <td>Juanna Vines</td>\n",
       "      <td>True</td>\n",
       "    </tr>\n",
       "    <tr>\n",
       "      <th>2</th>\n",
       "      <td>0003_01</td>\n",
       "      <td>Europa</td>\n",
       "      <td>False</td>\n",
       "      <td>A/0/S</td>\n",
       "      <td>TRAPPIST-1e</td>\n",
       "      <td>58.0</td>\n",
       "      <td>True</td>\n",
       "      <td>43.0</td>\n",
       "      <td>3576.0</td>\n",
       "      <td>0.0</td>\n",
       "      <td>6715.0</td>\n",
       "      <td>49.0</td>\n",
       "      <td>Altark Susent</td>\n",
       "      <td>False</td>\n",
       "    </tr>\n",
       "    <tr>\n",
       "      <th>3</th>\n",
       "      <td>0003_02</td>\n",
       "      <td>Europa</td>\n",
       "      <td>False</td>\n",
       "      <td>A/0/S</td>\n",
       "      <td>TRAPPIST-1e</td>\n",
       "      <td>33.0</td>\n",
       "      <td>False</td>\n",
       "      <td>0.0</td>\n",
       "      <td>1283.0</td>\n",
       "      <td>371.0</td>\n",
       "      <td>3329.0</td>\n",
       "      <td>193.0</td>\n",
       "      <td>Solam Susent</td>\n",
       "      <td>False</td>\n",
       "    </tr>\n",
       "    <tr>\n",
       "      <th>4</th>\n",
       "      <td>0004_01</td>\n",
       "      <td>Earth</td>\n",
       "      <td>False</td>\n",
       "      <td>F/1/S</td>\n",
       "      <td>TRAPPIST-1e</td>\n",
       "      <td>16.0</td>\n",
       "      <td>False</td>\n",
       "      <td>303.0</td>\n",
       "      <td>70.0</td>\n",
       "      <td>151.0</td>\n",
       "      <td>565.0</td>\n",
       "      <td>2.0</td>\n",
       "      <td>Willy Santantines</td>\n",
       "      <td>True</td>\n",
       "    </tr>\n",
       "  </tbody>\n",
       "</table>\n",
       "</div>"
      ],
      "text/plain": [
       "  PassengerId HomePlanet CryoSleep  Cabin  Destination   Age    VIP  \\\n",
       "0     0001_01     Europa     False  B/0/P  TRAPPIST-1e  39.0  False   \n",
       "1     0002_01      Earth     False  F/0/S  TRAPPIST-1e  24.0  False   \n",
       "2     0003_01     Europa     False  A/0/S  TRAPPIST-1e  58.0   True   \n",
       "3     0003_02     Europa     False  A/0/S  TRAPPIST-1e  33.0  False   \n",
       "4     0004_01      Earth     False  F/1/S  TRAPPIST-1e  16.0  False   \n",
       "\n",
       "   RoomService  FoodCourt  ShoppingMall     Spa  VRDeck               Name  \\\n",
       "0          0.0        0.0           0.0     0.0     0.0    Maham Ofracculy   \n",
       "1        109.0        9.0          25.0   549.0    44.0       Juanna Vines   \n",
       "2         43.0     3576.0           0.0  6715.0    49.0      Altark Susent   \n",
       "3          0.0     1283.0         371.0  3329.0   193.0       Solam Susent   \n",
       "4        303.0       70.0         151.0   565.0     2.0  Willy Santantines   \n",
       "\n",
       "   Transported  \n",
       "0        False  \n",
       "1         True  \n",
       "2        False  \n",
       "3        False  \n",
       "4         True  "
      ]
     },
     "execution_count": 4,
     "metadata": {},
     "output_type": "execute_result"
    }
   ],
   "source": [
    "train_df.head()"
   ]
  },
  {
   "cell_type": "code",
   "execution_count": 5,
   "id": "5e7568fc",
   "metadata": {
    "execution": {
     "iopub.execute_input": "2023-03-22T13:03:04.197395Z",
     "iopub.status.busy": "2023-03-22T13:03:04.196553Z",
     "iopub.status.idle": "2023-03-22T13:03:04.214101Z",
     "shell.execute_reply": "2023-03-22T13:03:04.212482Z"
    },
    "id": "SaZtd3N4pnD3",
    "outputId": "b4589b64-690d-4790-cb50-bf2b037f99c5",
    "papermill": {
     "duration": 0.046552,
     "end_time": "2023-03-22T13:03:04.216766",
     "exception": false,
     "start_time": "2023-03-22T13:03:04.170214",
     "status": "completed"
    },
    "tags": []
   },
   "outputs": [
    {
     "data": {
      "text/html": [
       "<div>\n",
       "<style scoped>\n",
       "    .dataframe tbody tr th:only-of-type {\n",
       "        vertical-align: middle;\n",
       "    }\n",
       "\n",
       "    .dataframe tbody tr th {\n",
       "        vertical-align: top;\n",
       "    }\n",
       "\n",
       "    .dataframe thead th {\n",
       "        text-align: right;\n",
       "    }\n",
       "</style>\n",
       "<table border=\"1\" class=\"dataframe\">\n",
       "  <thead>\n",
       "    <tr style=\"text-align: right;\">\n",
       "      <th></th>\n",
       "      <th>PassengerId</th>\n",
       "      <th>HomePlanet</th>\n",
       "      <th>CryoSleep</th>\n",
       "      <th>Cabin</th>\n",
       "      <th>Destination</th>\n",
       "      <th>Age</th>\n",
       "      <th>VIP</th>\n",
       "      <th>RoomService</th>\n",
       "      <th>FoodCourt</th>\n",
       "      <th>ShoppingMall</th>\n",
       "      <th>Spa</th>\n",
       "      <th>VRDeck</th>\n",
       "      <th>Name</th>\n",
       "    </tr>\n",
       "  </thead>\n",
       "  <tbody>\n",
       "    <tr>\n",
       "      <th>0</th>\n",
       "      <td>0013_01</td>\n",
       "      <td>Earth</td>\n",
       "      <td>True</td>\n",
       "      <td>G/3/S</td>\n",
       "      <td>TRAPPIST-1e</td>\n",
       "      <td>27.0</td>\n",
       "      <td>False</td>\n",
       "      <td>0.0</td>\n",
       "      <td>0.0</td>\n",
       "      <td>0.0</td>\n",
       "      <td>0.0</td>\n",
       "      <td>0.0</td>\n",
       "      <td>Nelly Carsoning</td>\n",
       "    </tr>\n",
       "    <tr>\n",
       "      <th>1</th>\n",
       "      <td>0018_01</td>\n",
       "      <td>Earth</td>\n",
       "      <td>False</td>\n",
       "      <td>F/4/S</td>\n",
       "      <td>TRAPPIST-1e</td>\n",
       "      <td>19.0</td>\n",
       "      <td>False</td>\n",
       "      <td>0.0</td>\n",
       "      <td>9.0</td>\n",
       "      <td>0.0</td>\n",
       "      <td>2823.0</td>\n",
       "      <td>0.0</td>\n",
       "      <td>Lerome Peckers</td>\n",
       "    </tr>\n",
       "    <tr>\n",
       "      <th>2</th>\n",
       "      <td>0019_01</td>\n",
       "      <td>Europa</td>\n",
       "      <td>True</td>\n",
       "      <td>C/0/S</td>\n",
       "      <td>55 Cancri e</td>\n",
       "      <td>31.0</td>\n",
       "      <td>False</td>\n",
       "      <td>0.0</td>\n",
       "      <td>0.0</td>\n",
       "      <td>0.0</td>\n",
       "      <td>0.0</td>\n",
       "      <td>0.0</td>\n",
       "      <td>Sabih Unhearfus</td>\n",
       "    </tr>\n",
       "    <tr>\n",
       "      <th>3</th>\n",
       "      <td>0021_01</td>\n",
       "      <td>Europa</td>\n",
       "      <td>False</td>\n",
       "      <td>C/1/S</td>\n",
       "      <td>TRAPPIST-1e</td>\n",
       "      <td>38.0</td>\n",
       "      <td>False</td>\n",
       "      <td>0.0</td>\n",
       "      <td>6652.0</td>\n",
       "      <td>0.0</td>\n",
       "      <td>181.0</td>\n",
       "      <td>585.0</td>\n",
       "      <td>Meratz Caltilter</td>\n",
       "    </tr>\n",
       "    <tr>\n",
       "      <th>4</th>\n",
       "      <td>0023_01</td>\n",
       "      <td>Earth</td>\n",
       "      <td>False</td>\n",
       "      <td>F/5/S</td>\n",
       "      <td>TRAPPIST-1e</td>\n",
       "      <td>20.0</td>\n",
       "      <td>False</td>\n",
       "      <td>10.0</td>\n",
       "      <td>0.0</td>\n",
       "      <td>635.0</td>\n",
       "      <td>0.0</td>\n",
       "      <td>0.0</td>\n",
       "      <td>Brence Harperez</td>\n",
       "    </tr>\n",
       "  </tbody>\n",
       "</table>\n",
       "</div>"
      ],
      "text/plain": [
       "  PassengerId HomePlanet CryoSleep  Cabin  Destination   Age    VIP  \\\n",
       "0     0013_01      Earth      True  G/3/S  TRAPPIST-1e  27.0  False   \n",
       "1     0018_01      Earth     False  F/4/S  TRAPPIST-1e  19.0  False   \n",
       "2     0019_01     Europa      True  C/0/S  55 Cancri e  31.0  False   \n",
       "3     0021_01     Europa     False  C/1/S  TRAPPIST-1e  38.0  False   \n",
       "4     0023_01      Earth     False  F/5/S  TRAPPIST-1e  20.0  False   \n",
       "\n",
       "   RoomService  FoodCourt  ShoppingMall     Spa  VRDeck              Name  \n",
       "0          0.0        0.0           0.0     0.0     0.0   Nelly Carsoning  \n",
       "1          0.0        9.0           0.0  2823.0     0.0    Lerome Peckers  \n",
       "2          0.0        0.0           0.0     0.0     0.0   Sabih Unhearfus  \n",
       "3          0.0     6652.0           0.0   181.0   585.0  Meratz Caltilter  \n",
       "4         10.0        0.0         635.0     0.0     0.0   Brence Harperez  "
      ]
     },
     "execution_count": 5,
     "metadata": {},
     "output_type": "execute_result"
    }
   ],
   "source": [
    "test_df.head()"
   ]
  },
  {
   "cell_type": "code",
   "execution_count": 6,
   "id": "67b57b91",
   "metadata": {
    "execution": {
     "iopub.execute_input": "2023-03-22T13:03:04.269472Z",
     "iopub.status.busy": "2023-03-22T13:03:04.269040Z",
     "iopub.status.idle": "2023-03-22T13:03:04.303362Z",
     "shell.execute_reply": "2023-03-22T13:03:04.301083Z"
    },
    "id": "gDunaxRjwrwV",
    "outputId": "196858b7-ad07-4061-92ce-4b718426b0dc",
    "papermill": {
     "duration": 0.064887,
     "end_time": "2023-03-22T13:03:04.306950",
     "exception": false,
     "start_time": "2023-03-22T13:03:04.242063",
     "status": "completed"
    },
    "tags": []
   },
   "outputs": [
    {
     "name": "stdout",
     "output_type": "stream",
     "text": [
      "<class 'pandas.core.frame.DataFrame'>\n",
      "RangeIndex: 8693 entries, 0 to 8692\n",
      "Data columns (total 14 columns):\n",
      " #   Column        Non-Null Count  Dtype  \n",
      "---  ------        --------------  -----  \n",
      " 0   PassengerId   8693 non-null   object \n",
      " 1   HomePlanet    8492 non-null   object \n",
      " 2   CryoSleep     8476 non-null   object \n",
      " 3   Cabin         8494 non-null   object \n",
      " 4   Destination   8511 non-null   object \n",
      " 5   Age           8514 non-null   float64\n",
      " 6   VIP           8490 non-null   object \n",
      " 7   RoomService   8512 non-null   float64\n",
      " 8   FoodCourt     8510 non-null   float64\n",
      " 9   ShoppingMall  8485 non-null   float64\n",
      " 10  Spa           8510 non-null   float64\n",
      " 11  VRDeck        8505 non-null   float64\n",
      " 12  Name          8493 non-null   object \n",
      " 13  Transported   8693 non-null   bool   \n",
      "dtypes: bool(1), float64(6), object(7)\n",
      "memory usage: 891.5+ KB\n"
     ]
    }
   ],
   "source": [
    "train_df.info()"
   ]
  },
  {
   "cell_type": "code",
   "execution_count": 7,
   "id": "29c898b8",
   "metadata": {
    "execution": {
     "iopub.execute_input": "2023-03-22T13:03:04.360371Z",
     "iopub.status.busy": "2023-03-22T13:03:04.359953Z",
     "iopub.status.idle": "2023-03-22T13:03:04.372818Z",
     "shell.execute_reply": "2023-03-22T13:03:04.371995Z"
    },
    "id": "ahO5XdSfpqnN",
    "outputId": "e4857ec9-112c-4933-e981-ab552cdd631f",
    "papermill": {
     "duration": 0.042689,
     "end_time": "2023-03-22T13:03:04.375238",
     "exception": false,
     "start_time": "2023-03-22T13:03:04.332549",
     "status": "completed"
    },
    "tags": []
   },
   "outputs": [
    {
     "name": "stdout",
     "output_type": "stream",
     "text": [
      "<class 'pandas.core.frame.DataFrame'>\n",
      "RangeIndex: 4277 entries, 0 to 4276\n",
      "Data columns (total 13 columns):\n",
      " #   Column        Non-Null Count  Dtype  \n",
      "---  ------        --------------  -----  \n",
      " 0   PassengerId   4277 non-null   object \n",
      " 1   HomePlanet    4190 non-null   object \n",
      " 2   CryoSleep     4184 non-null   object \n",
      " 3   Cabin         4177 non-null   object \n",
      " 4   Destination   4185 non-null   object \n",
      " 5   Age           4186 non-null   float64\n",
      " 6   VIP           4184 non-null   object \n",
      " 7   RoomService   4195 non-null   float64\n",
      " 8   FoodCourt     4171 non-null   float64\n",
      " 9   ShoppingMall  4179 non-null   float64\n",
      " 10  Spa           4176 non-null   float64\n",
      " 11  VRDeck        4197 non-null   float64\n",
      " 12  Name          4183 non-null   object \n",
      "dtypes: float64(6), object(7)\n",
      "memory usage: 434.5+ KB\n"
     ]
    }
   ],
   "source": [
    "test_df.info()"
   ]
  },
  {
   "cell_type": "code",
   "execution_count": 8,
   "id": "7d45b665",
   "metadata": {
    "execution": {
     "iopub.execute_input": "2023-03-22T13:03:04.429421Z",
     "iopub.status.busy": "2023-03-22T13:03:04.429087Z",
     "iopub.status.idle": "2023-03-22T13:03:04.459288Z",
     "shell.execute_reply": "2023-03-22T13:03:04.457972Z"
    },
    "id": "QSlXgnxqw6Wt",
    "outputId": "703d675b-f6e3-4ae8-9383-98770664f851",
    "papermill": {
     "duration": 0.06063,
     "end_time": "2023-03-22T13:03:04.461967",
     "exception": false,
     "start_time": "2023-03-22T13:03:04.401337",
     "status": "completed"
    },
    "tags": []
   },
   "outputs": [
    {
     "data": {
      "text/html": [
       "<div>\n",
       "<style scoped>\n",
       "    .dataframe tbody tr th:only-of-type {\n",
       "        vertical-align: middle;\n",
       "    }\n",
       "\n",
       "    .dataframe tbody tr th {\n",
       "        vertical-align: top;\n",
       "    }\n",
       "\n",
       "    .dataframe thead th {\n",
       "        text-align: right;\n",
       "    }\n",
       "</style>\n",
       "<table border=\"1\" class=\"dataframe\">\n",
       "  <thead>\n",
       "    <tr style=\"text-align: right;\">\n",
       "      <th></th>\n",
       "      <th>Age</th>\n",
       "      <th>RoomService</th>\n",
       "      <th>FoodCourt</th>\n",
       "      <th>ShoppingMall</th>\n",
       "      <th>Spa</th>\n",
       "      <th>VRDeck</th>\n",
       "    </tr>\n",
       "  </thead>\n",
       "  <tbody>\n",
       "    <tr>\n",
       "      <th>count</th>\n",
       "      <td>8514.000000</td>\n",
       "      <td>8512.000000</td>\n",
       "      <td>8510.000000</td>\n",
       "      <td>8485.000000</td>\n",
       "      <td>8510.000000</td>\n",
       "      <td>8505.000000</td>\n",
       "    </tr>\n",
       "    <tr>\n",
       "      <th>mean</th>\n",
       "      <td>28.827930</td>\n",
       "      <td>224.687617</td>\n",
       "      <td>458.077203</td>\n",
       "      <td>173.729169</td>\n",
       "      <td>311.138778</td>\n",
       "      <td>304.854791</td>\n",
       "    </tr>\n",
       "    <tr>\n",
       "      <th>std</th>\n",
       "      <td>14.489021</td>\n",
       "      <td>666.717663</td>\n",
       "      <td>1611.489240</td>\n",
       "      <td>604.696458</td>\n",
       "      <td>1136.705535</td>\n",
       "      <td>1145.717189</td>\n",
       "    </tr>\n",
       "    <tr>\n",
       "      <th>min</th>\n",
       "      <td>0.000000</td>\n",
       "      <td>0.000000</td>\n",
       "      <td>0.000000</td>\n",
       "      <td>0.000000</td>\n",
       "      <td>0.000000</td>\n",
       "      <td>0.000000</td>\n",
       "    </tr>\n",
       "    <tr>\n",
       "      <th>25%</th>\n",
       "      <td>19.000000</td>\n",
       "      <td>0.000000</td>\n",
       "      <td>0.000000</td>\n",
       "      <td>0.000000</td>\n",
       "      <td>0.000000</td>\n",
       "      <td>0.000000</td>\n",
       "    </tr>\n",
       "    <tr>\n",
       "      <th>50%</th>\n",
       "      <td>27.000000</td>\n",
       "      <td>0.000000</td>\n",
       "      <td>0.000000</td>\n",
       "      <td>0.000000</td>\n",
       "      <td>0.000000</td>\n",
       "      <td>0.000000</td>\n",
       "    </tr>\n",
       "    <tr>\n",
       "      <th>75%</th>\n",
       "      <td>38.000000</td>\n",
       "      <td>47.000000</td>\n",
       "      <td>76.000000</td>\n",
       "      <td>27.000000</td>\n",
       "      <td>59.000000</td>\n",
       "      <td>46.000000</td>\n",
       "    </tr>\n",
       "    <tr>\n",
       "      <th>max</th>\n",
       "      <td>79.000000</td>\n",
       "      <td>14327.000000</td>\n",
       "      <td>29813.000000</td>\n",
       "      <td>23492.000000</td>\n",
       "      <td>22408.000000</td>\n",
       "      <td>24133.000000</td>\n",
       "    </tr>\n",
       "  </tbody>\n",
       "</table>\n",
       "</div>"
      ],
      "text/plain": [
       "               Age   RoomService     FoodCourt  ShoppingMall           Spa  \\\n",
       "count  8514.000000   8512.000000   8510.000000   8485.000000   8510.000000   \n",
       "mean     28.827930    224.687617    458.077203    173.729169    311.138778   \n",
       "std      14.489021    666.717663   1611.489240    604.696458   1136.705535   \n",
       "min       0.000000      0.000000      0.000000      0.000000      0.000000   \n",
       "25%      19.000000      0.000000      0.000000      0.000000      0.000000   \n",
       "50%      27.000000      0.000000      0.000000      0.000000      0.000000   \n",
       "75%      38.000000     47.000000     76.000000     27.000000     59.000000   \n",
       "max      79.000000  14327.000000  29813.000000  23492.000000  22408.000000   \n",
       "\n",
       "             VRDeck  \n",
       "count   8505.000000  \n",
       "mean     304.854791  \n",
       "std     1145.717189  \n",
       "min        0.000000  \n",
       "25%        0.000000  \n",
       "50%        0.000000  \n",
       "75%       46.000000  \n",
       "max    24133.000000  "
      ]
     },
     "execution_count": 8,
     "metadata": {},
     "output_type": "execute_result"
    }
   ],
   "source": [
    "train_df.describe()"
   ]
  },
  {
   "cell_type": "markdown",
   "id": "83ef1f75",
   "metadata": {
    "id": "TgldSIprxIIk",
    "papermill": {
     "duration": 0.024949,
     "end_time": "2023-03-22T13:03:04.512398",
     "exception": false,
     "start_time": "2023-03-22T13:03:04.487449",
     "status": "completed"
    },
    "tags": []
   },
   "source": [
    "## Data Cleaning and Transformation"
   ]
  },
  {
   "cell_type": "code",
   "execution_count": 9,
   "id": "78cc597b",
   "metadata": {
    "execution": {
     "iopub.execute_input": "2023-03-22T13:03:04.566662Z",
     "iopub.status.busy": "2023-03-22T13:03:04.565050Z",
     "iopub.status.idle": "2023-03-22T13:03:04.578113Z",
     "shell.execute_reply": "2023-03-22T13:03:04.576680Z"
    },
    "id": "zyDTRqrhw8U-",
    "outputId": "e91edfd9-7b3f-4069-9d2a-2d297c8ebb43",
    "papermill": {
     "duration": 0.041935,
     "end_time": "2023-03-22T13:03:04.580143",
     "exception": false,
     "start_time": "2023-03-22T13:03:04.538208",
     "status": "completed"
    },
    "tags": []
   },
   "outputs": [
    {
     "data": {
      "text/plain": [
       "PassengerId       0\n",
       "HomePlanet      201\n",
       "CryoSleep       217\n",
       "Cabin           199\n",
       "Destination     182\n",
       "Age             179\n",
       "VIP             203\n",
       "RoomService     181\n",
       "FoodCourt       183\n",
       "ShoppingMall    208\n",
       "Spa             183\n",
       "VRDeck          188\n",
       "Name            200\n",
       "Transported       0\n",
       "dtype: int64"
      ]
     },
     "execution_count": 9,
     "metadata": {},
     "output_type": "execute_result"
    }
   ],
   "source": [
    "train_df.isna().sum()"
   ]
  },
  {
   "cell_type": "code",
   "execution_count": 10,
   "id": "6c9a6b8e",
   "metadata": {
    "execution": {
     "iopub.execute_input": "2023-03-22T13:03:04.633842Z",
     "iopub.status.busy": "2023-03-22T13:03:04.633449Z",
     "iopub.status.idle": "2023-03-22T13:03:04.644326Z",
     "shell.execute_reply": "2023-03-22T13:03:04.643133Z"
    },
    "id": "Wi5gt1EIpuy-",
    "outputId": "2db771e1-0410-4de4-af21-33eaa3f58bb0",
    "papermill": {
     "duration": 0.040254,
     "end_time": "2023-03-22T13:03:04.646354",
     "exception": false,
     "start_time": "2023-03-22T13:03:04.606100",
     "status": "completed"
    },
    "tags": []
   },
   "outputs": [
    {
     "data": {
      "text/plain": [
       "PassengerId       0\n",
       "HomePlanet       87\n",
       "CryoSleep        93\n",
       "Cabin           100\n",
       "Destination      92\n",
       "Age              91\n",
       "VIP              93\n",
       "RoomService      82\n",
       "FoodCourt       106\n",
       "ShoppingMall     98\n",
       "Spa             101\n",
       "VRDeck           80\n",
       "Name             94\n",
       "dtype: int64"
      ]
     },
     "execution_count": 10,
     "metadata": {},
     "output_type": "execute_result"
    }
   ],
   "source": [
    "test_df.isna().sum()"
   ]
  },
  {
   "cell_type": "code",
   "execution_count": 11,
   "id": "c2e021eb",
   "metadata": {
    "execution": {
     "iopub.execute_input": "2023-03-22T13:03:04.700477Z",
     "iopub.status.busy": "2023-03-22T13:03:04.700057Z",
     "iopub.status.idle": "2023-03-22T13:03:04.708393Z",
     "shell.execute_reply": "2023-03-22T13:03:04.707101Z"
    },
    "id": "9mkTTJ9gxMkk",
    "outputId": "d1ec7da9-2fd2-4e97-ceb7-2417623e3bd1",
    "papermill": {
     "duration": 0.0399,
     "end_time": "2023-03-22T13:03:04.712204",
     "exception": false,
     "start_time": "2023-03-22T13:03:04.672304",
     "status": "completed"
    },
    "tags": []
   },
   "outputs": [
    {
     "data": {
      "text/plain": [
       "(array(['Europa', 'Earth', 'Mars', nan], dtype=object),\n",
       " array(['Earth', 'Europa', 'Mars', nan], dtype=object))"
      ]
     },
     "execution_count": 11,
     "metadata": {},
     "output_type": "execute_result"
    }
   ],
   "source": [
    "train_df['HomePlanet'].unique(), test_df['HomePlanet'].unique()"
   ]
  },
  {
   "cell_type": "code",
   "execution_count": 12,
   "id": "8cfac384",
   "metadata": {
    "execution": {
     "iopub.execute_input": "2023-03-22T13:03:04.767067Z",
     "iopub.status.busy": "2023-03-22T13:03:04.766625Z",
     "iopub.status.idle": "2023-03-22T13:03:04.776116Z",
     "shell.execute_reply": "2023-03-22T13:03:04.774380Z"
    },
    "id": "J7Z6sM3axc_N",
    "papermill": {
     "duration": 0.039412,
     "end_time": "2023-03-22T13:03:04.778463",
     "exception": false,
     "start_time": "2023-03-22T13:03:04.739051",
     "status": "completed"
    },
    "tags": []
   },
   "outputs": [],
   "source": [
    "import random\n",
    "\n",
    "planet_choices = ['Europa', 'Earth', 'Mars']\n",
    "\n",
    "train_df['HomePlanet'].fillna(random.choice(planet_choices), inplace=True)\n",
    "test_df['HomePlanet'].fillna(random.choice(planet_choices), inplace=True)"
   ]
  },
  {
   "cell_type": "code",
   "execution_count": 13,
   "id": "bbec698b",
   "metadata": {
    "execution": {
     "iopub.execute_input": "2023-03-22T13:03:04.832496Z",
     "iopub.status.busy": "2023-03-22T13:03:04.832109Z",
     "iopub.status.idle": "2023-03-22T13:03:04.846360Z",
     "shell.execute_reply": "2023-03-22T13:03:04.845312Z"
    },
    "id": "LjRPBvgbxpPE",
    "outputId": "b986b023-80d6-4ab9-cb33-67016d604e66",
    "papermill": {
     "duration": 0.044648,
     "end_time": "2023-03-22T13:03:04.849363",
     "exception": false,
     "start_time": "2023-03-22T13:03:04.804715",
     "status": "completed"
    },
    "tags": []
   },
   "outputs": [
    {
     "data": {
      "text/plain": [
       "(PassengerId       0\n",
       " HomePlanet        0\n",
       " CryoSleep       217\n",
       " Cabin           199\n",
       " Destination     182\n",
       " Age             179\n",
       " VIP             203\n",
       " RoomService     181\n",
       " FoodCourt       183\n",
       " ShoppingMall    208\n",
       " Spa             183\n",
       " VRDeck          188\n",
       " Name            200\n",
       " Transported       0\n",
       " dtype: int64,\n",
       " PassengerId       0\n",
       " HomePlanet        0\n",
       " CryoSleep        93\n",
       " Cabin           100\n",
       " Destination      92\n",
       " Age              91\n",
       " VIP              93\n",
       " RoomService      82\n",
       " FoodCourt       106\n",
       " ShoppingMall     98\n",
       " Spa             101\n",
       " VRDeck           80\n",
       " Name             94\n",
       " dtype: int64)"
      ]
     },
     "execution_count": 13,
     "metadata": {},
     "output_type": "execute_result"
    }
   ],
   "source": [
    "train_df.isna().sum(), test_df.isna().sum()"
   ]
  },
  {
   "cell_type": "code",
   "execution_count": 14,
   "id": "7baeaa7f",
   "metadata": {
    "execution": {
     "iopub.execute_input": "2023-03-22T13:03:04.905166Z",
     "iopub.status.busy": "2023-03-22T13:03:04.903582Z",
     "iopub.status.idle": "2023-03-22T13:03:04.914630Z",
     "shell.execute_reply": "2023-03-22T13:03:04.913525Z"
    },
    "id": "cqUxD0rmxqWE",
    "outputId": "cd31aaab-a0bb-4e0e-a246-f1c91a416b6e",
    "papermill": {
     "duration": 0.041038,
     "end_time": "2023-03-22T13:03:04.916777",
     "exception": false,
     "start_time": "2023-03-22T13:03:04.875739",
     "status": "completed"
    },
    "tags": []
   },
   "outputs": [
    {
     "data": {
      "text/plain": [
       "0    G/734/S\n",
       "dtype: object"
      ]
     },
     "execution_count": 14,
     "metadata": {},
     "output_type": "execute_result"
    }
   ],
   "source": [
    "train_df['Cabin'].mode()"
   ]
  },
  {
   "cell_type": "code",
   "execution_count": 15,
   "id": "69aef74c",
   "metadata": {
    "execution": {
     "iopub.execute_input": "2023-03-22T13:03:04.971745Z",
     "iopub.status.busy": "2023-03-22T13:03:04.970426Z",
     "iopub.status.idle": "2023-03-22T13:03:04.977773Z",
     "shell.execute_reply": "2023-03-22T13:03:04.976849Z"
    },
    "id": "d2-BdcPZyTbs",
    "papermill": {
     "duration": 0.037472,
     "end_time": "2023-03-22T13:03:04.980439",
     "exception": false,
     "start_time": "2023-03-22T13:03:04.942967",
     "status": "completed"
    },
    "tags": []
   },
   "outputs": [],
   "source": [
    "train_df['Cabin'].fillna('G/734/S', inplace=True)\n",
    "test_df['Cabin'].fillna('G/734/S', inplace=True)"
   ]
  },
  {
   "cell_type": "code",
   "execution_count": 16,
   "id": "e55a6e91",
   "metadata": {
    "execution": {
     "iopub.execute_input": "2023-03-22T13:03:05.036847Z",
     "iopub.status.busy": "2023-03-22T13:03:05.036178Z",
     "iopub.status.idle": "2023-03-22T13:03:05.050219Z",
     "shell.execute_reply": "2023-03-22T13:03:05.048067Z"
    },
    "id": "2YWCjoVCydoU",
    "outputId": "11fc9dc1-8e6f-4278-d029-6bb9e33f6709",
    "papermill": {
     "duration": 0.044853,
     "end_time": "2023-03-22T13:03:05.052390",
     "exception": false,
     "start_time": "2023-03-22T13:03:05.007537",
     "status": "completed"
    },
    "tags": []
   },
   "outputs": [
    {
     "data": {
      "text/plain": [
       "(PassengerId       0\n",
       " HomePlanet        0\n",
       " CryoSleep       217\n",
       " Cabin             0\n",
       " Destination     182\n",
       " Age             179\n",
       " VIP             203\n",
       " RoomService     181\n",
       " FoodCourt       183\n",
       " ShoppingMall    208\n",
       " Spa             183\n",
       " VRDeck          188\n",
       " Name            200\n",
       " Transported       0\n",
       " dtype: int64,\n",
       " PassengerId       0\n",
       " HomePlanet        0\n",
       " CryoSleep        93\n",
       " Cabin             0\n",
       " Destination      92\n",
       " Age              91\n",
       " VIP              93\n",
       " RoomService      82\n",
       " FoodCourt       106\n",
       " ShoppingMall     98\n",
       " Spa             101\n",
       " VRDeck           80\n",
       " Name             94\n",
       " dtype: int64)"
      ]
     },
     "execution_count": 16,
     "metadata": {},
     "output_type": "execute_result"
    }
   ],
   "source": [
    "train_df.isna().sum(), test_df.isna().sum()"
   ]
  },
  {
   "cell_type": "code",
   "execution_count": 17,
   "id": "cb35145d",
   "metadata": {
    "execution": {
     "iopub.execute_input": "2023-03-22T13:03:05.108529Z",
     "iopub.status.busy": "2023-03-22T13:03:05.107228Z",
     "iopub.status.idle": "2023-03-22T13:03:05.114731Z",
     "shell.execute_reply": "2023-03-22T13:03:05.113414Z"
    },
    "id": "O0eFO1M4yees",
    "outputId": "4eed4f53-7e81-414f-8b55-328e84990402",
    "papermill": {
     "duration": 0.037873,
     "end_time": "2023-03-22T13:03:05.116967",
     "exception": false,
     "start_time": "2023-03-22T13:03:05.079094",
     "status": "completed"
    },
    "tags": []
   },
   "outputs": [
    {
     "data": {
      "text/plain": [
       "array([False, True, nan], dtype=object)"
      ]
     },
     "execution_count": 17,
     "metadata": {},
     "output_type": "execute_result"
    }
   ],
   "source": [
    "train_df['CryoSleep'].unique()"
   ]
  },
  {
   "cell_type": "code",
   "execution_count": 18,
   "id": "56b85e4c",
   "metadata": {
    "execution": {
     "iopub.execute_input": "2023-03-22T13:03:05.173423Z",
     "iopub.status.busy": "2023-03-22T13:03:05.172603Z",
     "iopub.status.idle": "2023-03-22T13:03:05.182007Z",
     "shell.execute_reply": "2023-03-22T13:03:05.181005Z"
    },
    "id": "1KpDXOlhyidM",
    "papermill": {
     "duration": 0.041131,
     "end_time": "2023-03-22T13:03:05.185299",
     "exception": false,
     "start_time": "2023-03-22T13:03:05.144168",
     "status": "completed"
    },
    "tags": []
   },
   "outputs": [],
   "source": [
    "choices = [True, False]\n",
    "\n",
    "train_df['CryoSleep'].fillna(random.choice(choices), inplace=True)\n",
    "test_df['CryoSleep'].fillna(random.choice(choices), inplace=True)"
   ]
  },
  {
   "cell_type": "code",
   "execution_count": 19,
   "id": "f945d1ff",
   "metadata": {
    "execution": {
     "iopub.execute_input": "2023-03-22T13:03:05.241474Z",
     "iopub.status.busy": "2023-03-22T13:03:05.241093Z",
     "iopub.status.idle": "2023-03-22T13:03:05.255716Z",
     "shell.execute_reply": "2023-03-22T13:03:05.254109Z"
    },
    "id": "gk48dmdNAAxG",
    "outputId": "bef3f77d-6030-4411-f45b-b4b87e3c8521",
    "papermill": {
     "duration": 0.046009,
     "end_time": "2023-03-22T13:03:05.258473",
     "exception": false,
     "start_time": "2023-03-22T13:03:05.212464",
     "status": "completed"
    },
    "tags": []
   },
   "outputs": [
    {
     "data": {
      "text/plain": [
       "(PassengerId       0\n",
       " HomePlanet        0\n",
       " CryoSleep         0\n",
       " Cabin             0\n",
       " Destination     182\n",
       " Age             179\n",
       " VIP             203\n",
       " RoomService     181\n",
       " FoodCourt       183\n",
       " ShoppingMall    208\n",
       " Spa             183\n",
       " VRDeck          188\n",
       " Name            200\n",
       " Transported       0\n",
       " dtype: int64,\n",
       " PassengerId       0\n",
       " HomePlanet        0\n",
       " CryoSleep         0\n",
       " Cabin             0\n",
       " Destination      92\n",
       " Age              91\n",
       " VIP              93\n",
       " RoomService      82\n",
       " FoodCourt       106\n",
       " ShoppingMall     98\n",
       " Spa             101\n",
       " VRDeck           80\n",
       " Name             94\n",
       " dtype: int64)"
      ]
     },
     "execution_count": 19,
     "metadata": {},
     "output_type": "execute_result"
    }
   ],
   "source": [
    "train_df.isna().sum(), test_df.isna().sum()"
   ]
  },
  {
   "cell_type": "code",
   "execution_count": 20,
   "id": "6bf2ac64",
   "metadata": {
    "execution": {
     "iopub.execute_input": "2023-03-22T13:03:05.314616Z",
     "iopub.status.busy": "2023-03-22T13:03:05.314288Z",
     "iopub.status.idle": "2023-03-22T13:03:05.321622Z",
     "shell.execute_reply": "2023-03-22T13:03:05.320455Z"
    },
    "id": "syDq9DSfADZe",
    "outputId": "1ba2877e-eb75-4a93-a750-581e4e722dc2",
    "papermill": {
     "duration": 0.038,
     "end_time": "2023-03-22T13:03:05.323956",
     "exception": false,
     "start_time": "2023-03-22T13:03:05.285956",
     "status": "completed"
    },
    "tags": []
   },
   "outputs": [
    {
     "data": {
      "text/plain": [
       "array(['TRAPPIST-1e', 'PSO J318.5-22', '55 Cancri e', nan], dtype=object)"
      ]
     },
     "execution_count": 20,
     "metadata": {},
     "output_type": "execute_result"
    }
   ],
   "source": [
    "train_df['Destination'].unique()"
   ]
  },
  {
   "cell_type": "code",
   "execution_count": 21,
   "id": "2ae7f371",
   "metadata": {
    "execution": {
     "iopub.execute_input": "2023-03-22T13:03:05.378113Z",
     "iopub.status.busy": "2023-03-22T13:03:05.377735Z",
     "iopub.status.idle": "2023-03-22T13:03:05.386253Z",
     "shell.execute_reply": "2023-03-22T13:03:05.384465Z"
    },
    "id": "aUHfaHWwAmcO",
    "papermill": {
     "duration": 0.038346,
     "end_time": "2023-03-22T13:03:05.388427",
     "exception": false,
     "start_time": "2023-03-22T13:03:05.350081",
     "status": "completed"
    },
    "tags": []
   },
   "outputs": [],
   "source": [
    "destination_choices = ['TRAPPIST-1e', 'PSO J318.5-22', '55 Cancri e']\n",
    "\n",
    "train_df['Destination'].fillna(random.choice(destination_choices), inplace=True)\n",
    "test_df['Destination'].fillna(random.choice(destination_choices), inplace=True)"
   ]
  },
  {
   "cell_type": "code",
   "execution_count": 22,
   "id": "661bcace",
   "metadata": {
    "execution": {
     "iopub.execute_input": "2023-03-22T13:03:05.445628Z",
     "iopub.status.busy": "2023-03-22T13:03:05.445229Z",
     "iopub.status.idle": "2023-03-22T13:03:05.462773Z",
     "shell.execute_reply": "2023-03-22T13:03:05.461577Z"
    },
    "id": "qmtHFQLlA0s-",
    "outputId": "dcc74ed5-d7f3-4159-ca42-0fffb90051ee",
    "papermill": {
     "duration": 0.049421,
     "end_time": "2023-03-22T13:03:05.465423",
     "exception": false,
     "start_time": "2023-03-22T13:03:05.416002",
     "status": "completed"
    },
    "tags": []
   },
   "outputs": [
    {
     "data": {
      "text/plain": [
       "(PassengerId       0\n",
       " HomePlanet        0\n",
       " CryoSleep         0\n",
       " Cabin             0\n",
       " Destination       0\n",
       " Age             179\n",
       " VIP             203\n",
       " RoomService     181\n",
       " FoodCourt       183\n",
       " ShoppingMall    208\n",
       " Spa             183\n",
       " VRDeck          188\n",
       " Name            200\n",
       " Transported       0\n",
       " dtype: int64,\n",
       " PassengerId       0\n",
       " HomePlanet        0\n",
       " CryoSleep         0\n",
       " Cabin             0\n",
       " Destination       0\n",
       " Age              91\n",
       " VIP              93\n",
       " RoomService      82\n",
       " FoodCourt       106\n",
       " ShoppingMall     98\n",
       " Spa             101\n",
       " VRDeck           80\n",
       " Name             94\n",
       " dtype: int64)"
      ]
     },
     "execution_count": 22,
     "metadata": {},
     "output_type": "execute_result"
    }
   ],
   "source": [
    "train_df.isna().sum(), test_df.isna().sum()"
   ]
  },
  {
   "cell_type": "code",
   "execution_count": 23,
   "id": "19811f13",
   "metadata": {
    "execution": {
     "iopub.execute_input": "2023-03-22T13:03:05.521196Z",
     "iopub.status.busy": "2023-03-22T13:03:05.520708Z",
     "iopub.status.idle": "2023-03-22T13:03:05.529547Z",
     "shell.execute_reply": "2023-03-22T13:03:05.527998Z"
    },
    "id": "zY9DLLiyA2P1",
    "outputId": "62069131-2629-42e9-f0c7-f0b06d715af0",
    "papermill": {
     "duration": 0.040066,
     "end_time": "2023-03-22T13:03:05.532289",
     "exception": false,
     "start_time": "2023-03-22T13:03:05.492223",
     "status": "completed"
    },
    "tags": []
   },
   "outputs": [
    {
     "data": {
      "text/plain": [
       "28.82793046746535"
      ]
     },
     "execution_count": 23,
     "metadata": {},
     "output_type": "execute_result"
    }
   ],
   "source": [
    "train_df['Age'].mean()"
   ]
  },
  {
   "cell_type": "code",
   "execution_count": 24,
   "id": "e63ebf37",
   "metadata": {
    "execution": {
     "iopub.execute_input": "2023-03-22T13:03:05.587444Z",
     "iopub.status.busy": "2023-03-22T13:03:05.587092Z",
     "iopub.status.idle": "2023-03-22T13:03:05.594451Z",
     "shell.execute_reply": "2023-03-22T13:03:05.592869Z"
    },
    "id": "pjmvHDkrCN31",
    "papermill": {
     "duration": 0.037484,
     "end_time": "2023-03-22T13:03:05.596775",
     "exception": false,
     "start_time": "2023-03-22T13:03:05.559291",
     "status": "completed"
    },
    "tags": []
   },
   "outputs": [],
   "source": [
    "train_df['Age'].fillna(29, inplace=True)\n",
    "test_df['Age'].fillna(29, inplace=True)"
   ]
  },
  {
   "cell_type": "code",
   "execution_count": 25,
   "id": "e4fd9c65",
   "metadata": {
    "execution": {
     "iopub.execute_input": "2023-03-22T13:03:05.652745Z",
     "iopub.status.busy": "2023-03-22T13:03:05.652398Z",
     "iopub.status.idle": "2023-03-22T13:03:05.667876Z",
     "shell.execute_reply": "2023-03-22T13:03:05.666598Z"
    },
    "id": "Si32f1WeCdRt",
    "outputId": "f2a1c651-8da1-4731-d20d-6fdd43071c16",
    "papermill": {
     "duration": 0.046037,
     "end_time": "2023-03-22T13:03:05.669935",
     "exception": false,
     "start_time": "2023-03-22T13:03:05.623898",
     "status": "completed"
    },
    "tags": []
   },
   "outputs": [
    {
     "data": {
      "text/plain": [
       "(PassengerId       0\n",
       " HomePlanet        0\n",
       " CryoSleep         0\n",
       " Cabin             0\n",
       " Destination       0\n",
       " Age               0\n",
       " VIP             203\n",
       " RoomService     181\n",
       " FoodCourt       183\n",
       " ShoppingMall    208\n",
       " Spa             183\n",
       " VRDeck          188\n",
       " Name            200\n",
       " Transported       0\n",
       " dtype: int64,\n",
       " PassengerId       0\n",
       " HomePlanet        0\n",
       " CryoSleep         0\n",
       " Cabin             0\n",
       " Destination       0\n",
       " Age               0\n",
       " VIP              93\n",
       " RoomService      82\n",
       " FoodCourt       106\n",
       " ShoppingMall     98\n",
       " Spa             101\n",
       " VRDeck           80\n",
       " Name             94\n",
       " dtype: int64)"
      ]
     },
     "execution_count": 25,
     "metadata": {},
     "output_type": "execute_result"
    }
   ],
   "source": [
    "train_df.isna().sum(), test_df.isna().sum()"
   ]
  },
  {
   "cell_type": "code",
   "execution_count": 26,
   "id": "2acd8692",
   "metadata": {
    "execution": {
     "iopub.execute_input": "2023-03-22T13:03:05.725672Z",
     "iopub.status.busy": "2023-03-22T13:03:05.725005Z",
     "iopub.status.idle": "2023-03-22T13:03:05.732460Z",
     "shell.execute_reply": "2023-03-22T13:03:05.731153Z"
    },
    "id": "9KM7yO0lCeFO",
    "outputId": "4803215e-b098-4574-cc23-a77731faa2e5",
    "papermill": {
     "duration": 0.037773,
     "end_time": "2023-03-22T13:03:05.734837",
     "exception": false,
     "start_time": "2023-03-22T13:03:05.697064",
     "status": "completed"
    },
    "tags": []
   },
   "outputs": [
    {
     "data": {
      "text/plain": [
       "array([False, True, nan], dtype=object)"
      ]
     },
     "execution_count": 26,
     "metadata": {},
     "output_type": "execute_result"
    }
   ],
   "source": [
    "train_df['VIP'].unique()"
   ]
  },
  {
   "cell_type": "code",
   "execution_count": 27,
   "id": "5218edac",
   "metadata": {
    "execution": {
     "iopub.execute_input": "2023-03-22T13:03:05.792214Z",
     "iopub.status.busy": "2023-03-22T13:03:05.791588Z",
     "iopub.status.idle": "2023-03-22T13:03:05.801625Z",
     "shell.execute_reply": "2023-03-22T13:03:05.800010Z"
    },
    "id": "NZa7r3tBCg-2",
    "papermill": {
     "duration": 0.041801,
     "end_time": "2023-03-22T13:03:05.804134",
     "exception": false,
     "start_time": "2023-03-22T13:03:05.762333",
     "status": "completed"
    },
    "tags": []
   },
   "outputs": [],
   "source": [
    "import random\n",
    "\n",
    "vip_choices = [True, False]\n",
    "\n",
    "train_df['VIP'].fillna(random.choice(vip_choices), inplace=True)\n",
    "test_df['VIP'].fillna(random.choice(vip_choices), inplace=True)"
   ]
  },
  {
   "cell_type": "code",
   "execution_count": 28,
   "id": "7f9fb459",
   "metadata": {
    "execution": {
     "iopub.execute_input": "2023-03-22T13:03:05.861228Z",
     "iopub.status.busy": "2023-03-22T13:03:05.860498Z",
     "iopub.status.idle": "2023-03-22T13:03:05.873737Z",
     "shell.execute_reply": "2023-03-22T13:03:05.872474Z"
    },
    "id": "aAL2vsspCkjO",
    "outputId": "c5a92716-6dba-44ad-e5b2-2152d6652701",
    "papermill": {
     "duration": 0.044989,
     "end_time": "2023-03-22T13:03:05.876053",
     "exception": false,
     "start_time": "2023-03-22T13:03:05.831064",
     "status": "completed"
    },
    "tags": []
   },
   "outputs": [
    {
     "data": {
      "text/plain": [
       "(PassengerId       0\n",
       " HomePlanet        0\n",
       " CryoSleep         0\n",
       " Cabin             0\n",
       " Destination       0\n",
       " Age               0\n",
       " VIP               0\n",
       " RoomService     181\n",
       " FoodCourt       183\n",
       " ShoppingMall    208\n",
       " Spa             183\n",
       " VRDeck          188\n",
       " Name            200\n",
       " Transported       0\n",
       " dtype: int64,\n",
       " PassengerId       0\n",
       " HomePlanet        0\n",
       " CryoSleep         0\n",
       " Cabin             0\n",
       " Destination       0\n",
       " Age               0\n",
       " VIP               0\n",
       " RoomService      82\n",
       " FoodCourt       106\n",
       " ShoppingMall     98\n",
       " Spa             101\n",
       " VRDeck           80\n",
       " Name             94\n",
       " dtype: int64)"
      ]
     },
     "execution_count": 28,
     "metadata": {},
     "output_type": "execute_result"
    }
   ],
   "source": [
    "train_df.isna().sum(), test_df.isna().sum()"
   ]
  },
  {
   "cell_type": "code",
   "execution_count": 29,
   "id": "0fde1a0b",
   "metadata": {
    "execution": {
     "iopub.execute_input": "2023-03-22T13:03:05.933880Z",
     "iopub.status.busy": "2023-03-22T13:03:05.933268Z",
     "iopub.status.idle": "2023-03-22T13:03:05.942580Z",
     "shell.execute_reply": "2023-03-22T13:03:05.941354Z"
    },
    "id": "MaYMclDcClbe",
    "outputId": "1705aa8b-4302-476c-e87f-870ebdcabb48",
    "papermill": {
     "duration": 0.041809,
     "end_time": "2023-03-22T13:03:05.945396",
     "exception": false,
     "start_time": "2023-03-22T13:03:05.903587",
     "status": "completed"
    },
    "tags": []
   },
   "outputs": [
    {
     "data": {
      "text/plain": [
       "0    0.0\n",
       "dtype: float64"
      ]
     },
     "execution_count": 29,
     "metadata": {},
     "output_type": "execute_result"
    }
   ],
   "source": [
    "train_df['RoomService'].mode()"
   ]
  },
  {
   "cell_type": "code",
   "execution_count": 30,
   "id": "9ab0b00f",
   "metadata": {
    "execution": {
     "iopub.execute_input": "2023-03-22T13:03:06.004019Z",
     "iopub.status.busy": "2023-03-22T13:03:06.003426Z",
     "iopub.status.idle": "2023-03-22T13:03:06.009024Z",
     "shell.execute_reply": "2023-03-22T13:03:06.007370Z"
    },
    "id": "ZuilTEvgDS61",
    "papermill": {
     "duration": 0.038736,
     "end_time": "2023-03-22T13:03:06.012225",
     "exception": false,
     "start_time": "2023-03-22T13:03:05.973489",
     "status": "completed"
    },
    "tags": []
   },
   "outputs": [],
   "source": [
    "train_df['RoomService'].fillna(0, inplace=True)\n",
    "test_df['RoomService'].fillna(0, inplace=True)"
   ]
  },
  {
   "cell_type": "code",
   "execution_count": 31,
   "id": "bb4a8131",
   "metadata": {
    "execution": {
     "iopub.execute_input": "2023-03-22T13:03:06.070681Z",
     "iopub.status.busy": "2023-03-22T13:03:06.070290Z",
     "iopub.status.idle": "2023-03-22T13:03:06.084936Z",
     "shell.execute_reply": "2023-03-22T13:03:06.084076Z"
    },
    "id": "cm1hjbWODhd0",
    "outputId": "5abd4081-591c-4647-f9c5-458ef1e8b2cf",
    "papermill": {
     "duration": 0.046821,
     "end_time": "2023-03-22T13:03:06.087589",
     "exception": false,
     "start_time": "2023-03-22T13:03:06.040768",
     "status": "completed"
    },
    "tags": []
   },
   "outputs": [
    {
     "data": {
      "text/plain": [
       "(PassengerId       0\n",
       " HomePlanet        0\n",
       " CryoSleep         0\n",
       " Cabin             0\n",
       " Destination       0\n",
       " Age               0\n",
       " VIP               0\n",
       " RoomService       0\n",
       " FoodCourt       183\n",
       " ShoppingMall    208\n",
       " Spa             183\n",
       " VRDeck          188\n",
       " Name            200\n",
       " Transported       0\n",
       " dtype: int64,\n",
       " PassengerId       0\n",
       " HomePlanet        0\n",
       " CryoSleep         0\n",
       " Cabin             0\n",
       " Destination       0\n",
       " Age               0\n",
       " VIP               0\n",
       " RoomService       0\n",
       " FoodCourt       106\n",
       " ShoppingMall     98\n",
       " Spa             101\n",
       " VRDeck           80\n",
       " Name             94\n",
       " dtype: int64)"
      ]
     },
     "execution_count": 31,
     "metadata": {},
     "output_type": "execute_result"
    }
   ],
   "source": [
    "train_df.isna().sum(), test_df.isna().sum()"
   ]
  },
  {
   "cell_type": "code",
   "execution_count": 32,
   "id": "59603322",
   "metadata": {
    "execution": {
     "iopub.execute_input": "2023-03-22T13:03:06.147161Z",
     "iopub.status.busy": "2023-03-22T13:03:06.145988Z",
     "iopub.status.idle": "2023-03-22T13:03:06.155966Z",
     "shell.execute_reply": "2023-03-22T13:03:06.154284Z"
    },
    "id": "x_gb-jONDie0",
    "outputId": "f781742a-e693-4c44-f46e-de70cabee288",
    "papermill": {
     "duration": 0.043066,
     "end_time": "2023-03-22T13:03:06.159094",
     "exception": false,
     "start_time": "2023-03-22T13:03:06.116028",
     "status": "completed"
    },
    "tags": []
   },
   "outputs": [
    {
     "data": {
      "text/plain": [
       "0    0.0\n",
       "dtype: float64"
      ]
     },
     "execution_count": 32,
     "metadata": {},
     "output_type": "execute_result"
    }
   ],
   "source": [
    "train_df['FoodCourt'].mode()"
   ]
  },
  {
   "cell_type": "code",
   "execution_count": 33,
   "id": "575b3779",
   "metadata": {
    "execution": {
     "iopub.execute_input": "2023-03-22T13:03:06.218205Z",
     "iopub.status.busy": "2023-03-22T13:03:06.217438Z",
     "iopub.status.idle": "2023-03-22T13:03:06.224887Z",
     "shell.execute_reply": "2023-03-22T13:03:06.223543Z"
    },
    "id": "-UiLIoSLDlL-",
    "papermill": {
     "duration": 0.039574,
     "end_time": "2023-03-22T13:03:06.227207",
     "exception": false,
     "start_time": "2023-03-22T13:03:06.187633",
     "status": "completed"
    },
    "tags": []
   },
   "outputs": [],
   "source": [
    "train_df['FoodCourt'].fillna(0, inplace=True)\n",
    "test_df['FoodCourt'].fillna(0, inplace=True)"
   ]
  },
  {
   "cell_type": "code",
   "execution_count": 34,
   "id": "47112368",
   "metadata": {
    "execution": {
     "iopub.execute_input": "2023-03-22T13:03:06.285679Z",
     "iopub.status.busy": "2023-03-22T13:03:06.285207Z",
     "iopub.status.idle": "2023-03-22T13:03:06.302402Z",
     "shell.execute_reply": "2023-03-22T13:03:06.300978Z"
    },
    "id": "nXR7SOUQDtsN",
    "outputId": "86eadc09-035a-42e0-98a2-004aa61b5ee1",
    "papermill": {
     "duration": 0.049709,
     "end_time": "2023-03-22T13:03:06.304843",
     "exception": false,
     "start_time": "2023-03-22T13:03:06.255134",
     "status": "completed"
    },
    "tags": []
   },
   "outputs": [
    {
     "data": {
      "text/plain": [
       "(PassengerId       0\n",
       " HomePlanet        0\n",
       " CryoSleep         0\n",
       " Cabin             0\n",
       " Destination       0\n",
       " Age               0\n",
       " VIP               0\n",
       " RoomService       0\n",
       " FoodCourt         0\n",
       " ShoppingMall    208\n",
       " Spa             183\n",
       " VRDeck          188\n",
       " Name            200\n",
       " Transported       0\n",
       " dtype: int64,\n",
       " PassengerId       0\n",
       " HomePlanet        0\n",
       " CryoSleep         0\n",
       " Cabin             0\n",
       " Destination       0\n",
       " Age               0\n",
       " VIP               0\n",
       " RoomService       0\n",
       " FoodCourt         0\n",
       " ShoppingMall     98\n",
       " Spa             101\n",
       " VRDeck           80\n",
       " Name             94\n",
       " dtype: int64)"
      ]
     },
     "execution_count": 34,
     "metadata": {},
     "output_type": "execute_result"
    }
   ],
   "source": [
    "train_df.isna().sum(), test_df.isna().sum()"
   ]
  },
  {
   "cell_type": "code",
   "execution_count": 35,
   "id": "754359a2",
   "metadata": {
    "execution": {
     "iopub.execute_input": "2023-03-22T13:03:06.365049Z",
     "iopub.status.busy": "2023-03-22T13:03:06.364561Z",
     "iopub.status.idle": "2023-03-22T13:03:06.374842Z",
     "shell.execute_reply": "2023-03-22T13:03:06.373681Z"
    },
    "id": "feEjDXtDDu9s",
    "outputId": "5a25fa2f-865c-449f-e9ac-6b23705b51bd",
    "papermill": {
     "duration": 0.043446,
     "end_time": "2023-03-22T13:03:06.376882",
     "exception": false,
     "start_time": "2023-03-22T13:03:06.333436",
     "status": "completed"
    },
    "tags": []
   },
   "outputs": [
    {
     "data": {
      "text/plain": [
       "0    0.0\n",
       "dtype: float64"
      ]
     },
     "execution_count": 35,
     "metadata": {},
     "output_type": "execute_result"
    }
   ],
   "source": [
    "train_df['ShoppingMall'].mode()"
   ]
  },
  {
   "cell_type": "code",
   "execution_count": 36,
   "id": "23bf0c1f",
   "metadata": {
    "execution": {
     "iopub.execute_input": "2023-03-22T13:03:06.434623Z",
     "iopub.status.busy": "2023-03-22T13:03:06.434308Z",
     "iopub.status.idle": "2023-03-22T13:03:06.439116Z",
     "shell.execute_reply": "2023-03-22T13:03:06.438194Z"
    },
    "id": "xRl-EmzKDyB8",
    "papermill": {
     "duration": 0.035799,
     "end_time": "2023-03-22T13:03:06.440948",
     "exception": false,
     "start_time": "2023-03-22T13:03:06.405149",
     "status": "completed"
    },
    "tags": []
   },
   "outputs": [],
   "source": [
    "train_df['ShoppingMall'].fillna(0, inplace=True)\n",
    "test_df['ShoppingMall'].fillna(0, inplace=True)"
   ]
  },
  {
   "cell_type": "code",
   "execution_count": 37,
   "id": "97a6c91f",
   "metadata": {
    "execution": {
     "iopub.execute_input": "2023-03-22T13:03:06.501027Z",
     "iopub.status.busy": "2023-03-22T13:03:06.500618Z",
     "iopub.status.idle": "2023-03-22T13:03:06.514666Z",
     "shell.execute_reply": "2023-03-22T13:03:06.513638Z"
    },
    "id": "H6dFGQZMD10c",
    "outputId": "ed827fac-add0-454a-f93c-8ce126efbc0b",
    "papermill": {
     "duration": 0.047195,
     "end_time": "2023-03-22T13:03:06.517126",
     "exception": false,
     "start_time": "2023-03-22T13:03:06.469931",
     "status": "completed"
    },
    "tags": []
   },
   "outputs": [
    {
     "data": {
      "text/plain": [
       "(PassengerId       0\n",
       " HomePlanet        0\n",
       " CryoSleep         0\n",
       " Cabin             0\n",
       " Destination       0\n",
       " Age               0\n",
       " VIP               0\n",
       " RoomService       0\n",
       " FoodCourt         0\n",
       " ShoppingMall      0\n",
       " Spa             183\n",
       " VRDeck          188\n",
       " Name            200\n",
       " Transported       0\n",
       " dtype: int64,\n",
       " PassengerId       0\n",
       " HomePlanet        0\n",
       " CryoSleep         0\n",
       " Cabin             0\n",
       " Destination       0\n",
       " Age               0\n",
       " VIP               0\n",
       " RoomService       0\n",
       " FoodCourt         0\n",
       " ShoppingMall      0\n",
       " Spa             101\n",
       " VRDeck           80\n",
       " Name             94\n",
       " dtype: int64)"
      ]
     },
     "execution_count": 37,
     "metadata": {},
     "output_type": "execute_result"
    }
   ],
   "source": [
    "train_df.isna().sum(), test_df.isna().sum()"
   ]
  },
  {
   "cell_type": "code",
   "execution_count": 38,
   "id": "c0609bb6",
   "metadata": {
    "execution": {
     "iopub.execute_input": "2023-03-22T13:03:06.576445Z",
     "iopub.status.busy": "2023-03-22T13:03:06.576021Z",
     "iopub.status.idle": "2023-03-22T13:03:06.585021Z",
     "shell.execute_reply": "2023-03-22T13:03:06.582990Z"
    },
    "id": "dAhm6V_UEbhM",
    "outputId": "3cb067c2-a788-4e74-a910-f44e5f71c43b",
    "papermill": {
     "duration": 0.041807,
     "end_time": "2023-03-22T13:03:06.587960",
     "exception": false,
     "start_time": "2023-03-22T13:03:06.546153",
     "status": "completed"
    },
    "tags": []
   },
   "outputs": [
    {
     "data": {
      "text/plain": [
       "0    0.0\n",
       "dtype: float64"
      ]
     },
     "execution_count": 38,
     "metadata": {},
     "output_type": "execute_result"
    }
   ],
   "source": [
    "train_df['Spa'].mode()"
   ]
  },
  {
   "cell_type": "code",
   "execution_count": 39,
   "id": "9b1f8ee2",
   "metadata": {
    "execution": {
     "iopub.execute_input": "2023-03-22T13:03:06.647608Z",
     "iopub.status.busy": "2023-03-22T13:03:06.647242Z",
     "iopub.status.idle": "2023-03-22T13:03:06.654077Z",
     "shell.execute_reply": "2023-03-22T13:03:06.652361Z"
    },
    "id": "8NRbF7JpEdKk",
    "papermill": {
     "duration": 0.038538,
     "end_time": "2023-03-22T13:03:06.656352",
     "exception": false,
     "start_time": "2023-03-22T13:03:06.617814",
     "status": "completed"
    },
    "tags": []
   },
   "outputs": [],
   "source": [
    "train_df['Spa'].fillna(0, inplace=True)\n",
    "test_df['Spa'].fillna(0, inplace=True)"
   ]
  },
  {
   "cell_type": "code",
   "execution_count": 40,
   "id": "ae544cc2",
   "metadata": {
    "execution": {
     "iopub.execute_input": "2023-03-22T13:03:06.719089Z",
     "iopub.status.busy": "2023-03-22T13:03:06.717751Z",
     "iopub.status.idle": "2023-03-22T13:03:06.735728Z",
     "shell.execute_reply": "2023-03-22T13:03:06.734092Z"
    },
    "id": "_fyJdBsqEe1U",
    "outputId": "80e3d7f5-7f9b-4aee-d625-bd078eb097a8",
    "papermill": {
     "duration": 0.052096,
     "end_time": "2023-03-22T13:03:06.738708",
     "exception": false,
     "start_time": "2023-03-22T13:03:06.686612",
     "status": "completed"
    },
    "tags": []
   },
   "outputs": [
    {
     "data": {
      "text/plain": [
       "(PassengerId       0\n",
       " HomePlanet        0\n",
       " CryoSleep         0\n",
       " Cabin             0\n",
       " Destination       0\n",
       " Age               0\n",
       " VIP               0\n",
       " RoomService       0\n",
       " FoodCourt         0\n",
       " ShoppingMall      0\n",
       " Spa               0\n",
       " VRDeck          188\n",
       " Name            200\n",
       " Transported       0\n",
       " dtype: int64,\n",
       " PassengerId      0\n",
       " HomePlanet       0\n",
       " CryoSleep        0\n",
       " Cabin            0\n",
       " Destination      0\n",
       " Age              0\n",
       " VIP              0\n",
       " RoomService      0\n",
       " FoodCourt        0\n",
       " ShoppingMall     0\n",
       " Spa              0\n",
       " VRDeck          80\n",
       " Name            94\n",
       " dtype: int64)"
      ]
     },
     "execution_count": 40,
     "metadata": {},
     "output_type": "execute_result"
    }
   ],
   "source": [
    "train_df.isna().sum(), test_df.isna().sum()"
   ]
  },
  {
   "cell_type": "code",
   "execution_count": 41,
   "id": "8faca7d5",
   "metadata": {
    "execution": {
     "iopub.execute_input": "2023-03-22T13:03:06.797318Z",
     "iopub.status.busy": "2023-03-22T13:03:06.796945Z",
     "iopub.status.idle": "2023-03-22T13:03:06.804969Z",
     "shell.execute_reply": "2023-03-22T13:03:06.803206Z"
    },
    "id": "Vhfy3uCwEf2P",
    "outputId": "a9557ddb-b82f-46aa-e0ab-4213abf0377d",
    "papermill": {
     "duration": 0.040162,
     "end_time": "2023-03-22T13:03:06.807119",
     "exception": false,
     "start_time": "2023-03-22T13:03:06.766957",
     "status": "completed"
    },
    "tags": []
   },
   "outputs": [
    {
     "data": {
      "text/plain": [
       "0    0.0\n",
       "dtype: float64"
      ]
     },
     "execution_count": 41,
     "metadata": {},
     "output_type": "execute_result"
    }
   ],
   "source": [
    "train_df['VRDeck'].mode()"
   ]
  },
  {
   "cell_type": "code",
   "execution_count": 42,
   "id": "8e0715d3",
   "metadata": {
    "execution": {
     "iopub.execute_input": "2023-03-22T13:03:06.864825Z",
     "iopub.status.busy": "2023-03-22T13:03:06.864347Z",
     "iopub.status.idle": "2023-03-22T13:03:06.871636Z",
     "shell.execute_reply": "2023-03-22T13:03:06.870006Z"
    },
    "id": "gwM4WPTsEiQU",
    "papermill": {
     "duration": 0.039241,
     "end_time": "2023-03-22T13:03:06.874123",
     "exception": false,
     "start_time": "2023-03-22T13:03:06.834882",
     "status": "completed"
    },
    "tags": []
   },
   "outputs": [],
   "source": [
    "train_df['VRDeck'].fillna(0, inplace=True)\n",
    "test_df['VRDeck'].fillna(0, inplace=True)"
   ]
  },
  {
   "cell_type": "code",
   "execution_count": 43,
   "id": "25e53105",
   "metadata": {
    "execution": {
     "iopub.execute_input": "2023-03-22T13:03:06.935647Z",
     "iopub.status.busy": "2023-03-22T13:03:06.935228Z",
     "iopub.status.idle": "2023-03-22T13:03:06.948607Z",
     "shell.execute_reply": "2023-03-22T13:03:06.947427Z"
    },
    "id": "od_qMWSeElL6",
    "outputId": "323b9ba7-e82f-4ba3-f4b0-45b745e5a745",
    "papermill": {
     "duration": 0.046925,
     "end_time": "2023-03-22T13:03:06.950668",
     "exception": false,
     "start_time": "2023-03-22T13:03:06.903743",
     "status": "completed"
    },
    "tags": []
   },
   "outputs": [
    {
     "data": {
      "text/plain": [
       "(PassengerId       0\n",
       " HomePlanet        0\n",
       " CryoSleep         0\n",
       " Cabin             0\n",
       " Destination       0\n",
       " Age               0\n",
       " VIP               0\n",
       " RoomService       0\n",
       " FoodCourt         0\n",
       " ShoppingMall      0\n",
       " Spa               0\n",
       " VRDeck            0\n",
       " Name            200\n",
       " Transported       0\n",
       " dtype: int64,\n",
       " PassengerId      0\n",
       " HomePlanet       0\n",
       " CryoSleep        0\n",
       " Cabin            0\n",
       " Destination      0\n",
       " Age              0\n",
       " VIP              0\n",
       " RoomService      0\n",
       " FoodCourt        0\n",
       " ShoppingMall     0\n",
       " Spa              0\n",
       " VRDeck           0\n",
       " Name            94\n",
       " dtype: int64)"
      ]
     },
     "execution_count": 43,
     "metadata": {},
     "output_type": "execute_result"
    }
   ],
   "source": [
    "train_df.isna().sum(), test_df.isna().sum()"
   ]
  },
  {
   "cell_type": "code",
   "execution_count": 44,
   "id": "ef6dd779",
   "metadata": {
    "execution": {
     "iopub.execute_input": "2023-03-22T13:03:07.011937Z",
     "iopub.status.busy": "2023-03-22T13:03:07.011499Z",
     "iopub.status.idle": "2023-03-22T13:03:07.019636Z",
     "shell.execute_reply": "2023-03-22T13:03:07.018474Z"
    },
    "id": "nRCJfvEQEoMH",
    "papermill": {
     "duration": 0.043116,
     "end_time": "2023-03-22T13:03:07.022389",
     "exception": false,
     "start_time": "2023-03-22T13:03:06.979273",
     "status": "completed"
    },
    "tags": []
   },
   "outputs": [],
   "source": [
    "train_df.drop(['Name'], axis=1, inplace=True)"
   ]
  },
  {
   "cell_type": "code",
   "execution_count": 45,
   "id": "9d01d68f",
   "metadata": {
    "execution": {
     "iopub.execute_input": "2023-03-22T13:03:07.083311Z",
     "iopub.status.busy": "2023-03-22T13:03:07.082891Z",
     "iopub.status.idle": "2023-03-22T13:03:07.111639Z",
     "shell.execute_reply": "2023-03-22T13:03:07.110514Z"
    },
    "id": "G4VP_z98E09s",
    "outputId": "221489f5-f41d-4074-cfe5-cb9a795c918a",
    "papermill": {
     "duration": 0.062841,
     "end_time": "2023-03-22T13:03:07.113904",
     "exception": false,
     "start_time": "2023-03-22T13:03:07.051063",
     "status": "completed"
    },
    "tags": []
   },
   "outputs": [
    {
     "data": {
      "text/html": [
       "<div>\n",
       "<style scoped>\n",
       "    .dataframe tbody tr th:only-of-type {\n",
       "        vertical-align: middle;\n",
       "    }\n",
       "\n",
       "    .dataframe tbody tr th {\n",
       "        vertical-align: top;\n",
       "    }\n",
       "\n",
       "    .dataframe thead th {\n",
       "        text-align: right;\n",
       "    }\n",
       "</style>\n",
       "<table border=\"1\" class=\"dataframe\">\n",
       "  <thead>\n",
       "    <tr style=\"text-align: right;\">\n",
       "      <th></th>\n",
       "      <th>PassengerId</th>\n",
       "      <th>HomePlanet</th>\n",
       "      <th>CryoSleep</th>\n",
       "      <th>Cabin</th>\n",
       "      <th>Destination</th>\n",
       "      <th>Age</th>\n",
       "      <th>VIP</th>\n",
       "      <th>RoomService</th>\n",
       "      <th>FoodCourt</th>\n",
       "      <th>ShoppingMall</th>\n",
       "      <th>Spa</th>\n",
       "      <th>VRDeck</th>\n",
       "      <th>Transported</th>\n",
       "    </tr>\n",
       "  </thead>\n",
       "  <tbody>\n",
       "    <tr>\n",
       "      <th>0</th>\n",
       "      <td>0001_01</td>\n",
       "      <td>Europa</td>\n",
       "      <td>False</td>\n",
       "      <td>B/0/P</td>\n",
       "      <td>TRAPPIST-1e</td>\n",
       "      <td>39.0</td>\n",
       "      <td>False</td>\n",
       "      <td>0.0</td>\n",
       "      <td>0.0</td>\n",
       "      <td>0.0</td>\n",
       "      <td>0.0</td>\n",
       "      <td>0.0</td>\n",
       "      <td>False</td>\n",
       "    </tr>\n",
       "    <tr>\n",
       "      <th>1</th>\n",
       "      <td>0002_01</td>\n",
       "      <td>Earth</td>\n",
       "      <td>False</td>\n",
       "      <td>F/0/S</td>\n",
       "      <td>TRAPPIST-1e</td>\n",
       "      <td>24.0</td>\n",
       "      <td>False</td>\n",
       "      <td>109.0</td>\n",
       "      <td>9.0</td>\n",
       "      <td>25.0</td>\n",
       "      <td>549.0</td>\n",
       "      <td>44.0</td>\n",
       "      <td>True</td>\n",
       "    </tr>\n",
       "    <tr>\n",
       "      <th>2</th>\n",
       "      <td>0003_01</td>\n",
       "      <td>Europa</td>\n",
       "      <td>False</td>\n",
       "      <td>A/0/S</td>\n",
       "      <td>TRAPPIST-1e</td>\n",
       "      <td>58.0</td>\n",
       "      <td>True</td>\n",
       "      <td>43.0</td>\n",
       "      <td>3576.0</td>\n",
       "      <td>0.0</td>\n",
       "      <td>6715.0</td>\n",
       "      <td>49.0</td>\n",
       "      <td>False</td>\n",
       "    </tr>\n",
       "    <tr>\n",
       "      <th>3</th>\n",
       "      <td>0003_02</td>\n",
       "      <td>Europa</td>\n",
       "      <td>False</td>\n",
       "      <td>A/0/S</td>\n",
       "      <td>TRAPPIST-1e</td>\n",
       "      <td>33.0</td>\n",
       "      <td>False</td>\n",
       "      <td>0.0</td>\n",
       "      <td>1283.0</td>\n",
       "      <td>371.0</td>\n",
       "      <td>3329.0</td>\n",
       "      <td>193.0</td>\n",
       "      <td>False</td>\n",
       "    </tr>\n",
       "    <tr>\n",
       "      <th>4</th>\n",
       "      <td>0004_01</td>\n",
       "      <td>Earth</td>\n",
       "      <td>False</td>\n",
       "      <td>F/1/S</td>\n",
       "      <td>TRAPPIST-1e</td>\n",
       "      <td>16.0</td>\n",
       "      <td>False</td>\n",
       "      <td>303.0</td>\n",
       "      <td>70.0</td>\n",
       "      <td>151.0</td>\n",
       "      <td>565.0</td>\n",
       "      <td>2.0</td>\n",
       "      <td>True</td>\n",
       "    </tr>\n",
       "    <tr>\n",
       "      <th>...</th>\n",
       "      <td>...</td>\n",
       "      <td>...</td>\n",
       "      <td>...</td>\n",
       "      <td>...</td>\n",
       "      <td>...</td>\n",
       "      <td>...</td>\n",
       "      <td>...</td>\n",
       "      <td>...</td>\n",
       "      <td>...</td>\n",
       "      <td>...</td>\n",
       "      <td>...</td>\n",
       "      <td>...</td>\n",
       "      <td>...</td>\n",
       "    </tr>\n",
       "    <tr>\n",
       "      <th>8688</th>\n",
       "      <td>9276_01</td>\n",
       "      <td>Europa</td>\n",
       "      <td>False</td>\n",
       "      <td>A/98/P</td>\n",
       "      <td>55 Cancri e</td>\n",
       "      <td>41.0</td>\n",
       "      <td>True</td>\n",
       "      <td>0.0</td>\n",
       "      <td>6819.0</td>\n",
       "      <td>0.0</td>\n",
       "      <td>1643.0</td>\n",
       "      <td>74.0</td>\n",
       "      <td>False</td>\n",
       "    </tr>\n",
       "    <tr>\n",
       "      <th>8689</th>\n",
       "      <td>9278_01</td>\n",
       "      <td>Earth</td>\n",
       "      <td>True</td>\n",
       "      <td>G/1499/S</td>\n",
       "      <td>PSO J318.5-22</td>\n",
       "      <td>18.0</td>\n",
       "      <td>False</td>\n",
       "      <td>0.0</td>\n",
       "      <td>0.0</td>\n",
       "      <td>0.0</td>\n",
       "      <td>0.0</td>\n",
       "      <td>0.0</td>\n",
       "      <td>False</td>\n",
       "    </tr>\n",
       "    <tr>\n",
       "      <th>8690</th>\n",
       "      <td>9279_01</td>\n",
       "      <td>Earth</td>\n",
       "      <td>False</td>\n",
       "      <td>G/1500/S</td>\n",
       "      <td>TRAPPIST-1e</td>\n",
       "      <td>26.0</td>\n",
       "      <td>False</td>\n",
       "      <td>0.0</td>\n",
       "      <td>0.0</td>\n",
       "      <td>1872.0</td>\n",
       "      <td>1.0</td>\n",
       "      <td>0.0</td>\n",
       "      <td>True</td>\n",
       "    </tr>\n",
       "    <tr>\n",
       "      <th>8691</th>\n",
       "      <td>9280_01</td>\n",
       "      <td>Europa</td>\n",
       "      <td>False</td>\n",
       "      <td>E/608/S</td>\n",
       "      <td>55 Cancri e</td>\n",
       "      <td>32.0</td>\n",
       "      <td>False</td>\n",
       "      <td>0.0</td>\n",
       "      <td>1049.0</td>\n",
       "      <td>0.0</td>\n",
       "      <td>353.0</td>\n",
       "      <td>3235.0</td>\n",
       "      <td>False</td>\n",
       "    </tr>\n",
       "    <tr>\n",
       "      <th>8692</th>\n",
       "      <td>9280_02</td>\n",
       "      <td>Europa</td>\n",
       "      <td>False</td>\n",
       "      <td>E/608/S</td>\n",
       "      <td>TRAPPIST-1e</td>\n",
       "      <td>44.0</td>\n",
       "      <td>False</td>\n",
       "      <td>126.0</td>\n",
       "      <td>4688.0</td>\n",
       "      <td>0.0</td>\n",
       "      <td>0.0</td>\n",
       "      <td>12.0</td>\n",
       "      <td>True</td>\n",
       "    </tr>\n",
       "  </tbody>\n",
       "</table>\n",
       "<p>8693 rows × 13 columns</p>\n",
       "</div>"
      ],
      "text/plain": [
       "     PassengerId HomePlanet  CryoSleep     Cabin    Destination   Age    VIP  \\\n",
       "0        0001_01     Europa      False     B/0/P    TRAPPIST-1e  39.0  False   \n",
       "1        0002_01      Earth      False     F/0/S    TRAPPIST-1e  24.0  False   \n",
       "2        0003_01     Europa      False     A/0/S    TRAPPIST-1e  58.0   True   \n",
       "3        0003_02     Europa      False     A/0/S    TRAPPIST-1e  33.0  False   \n",
       "4        0004_01      Earth      False     F/1/S    TRAPPIST-1e  16.0  False   \n",
       "...          ...        ...        ...       ...            ...   ...    ...   \n",
       "8688     9276_01     Europa      False    A/98/P    55 Cancri e  41.0   True   \n",
       "8689     9278_01      Earth       True  G/1499/S  PSO J318.5-22  18.0  False   \n",
       "8690     9279_01      Earth      False  G/1500/S    TRAPPIST-1e  26.0  False   \n",
       "8691     9280_01     Europa      False   E/608/S    55 Cancri e  32.0  False   \n",
       "8692     9280_02     Europa      False   E/608/S    TRAPPIST-1e  44.0  False   \n",
       "\n",
       "      RoomService  FoodCourt  ShoppingMall     Spa  VRDeck  Transported  \n",
       "0             0.0        0.0           0.0     0.0     0.0        False  \n",
       "1           109.0        9.0          25.0   549.0    44.0         True  \n",
       "2            43.0     3576.0           0.0  6715.0    49.0        False  \n",
       "3             0.0     1283.0         371.0  3329.0   193.0        False  \n",
       "4           303.0       70.0         151.0   565.0     2.0         True  \n",
       "...           ...        ...           ...     ...     ...          ...  \n",
       "8688          0.0     6819.0           0.0  1643.0    74.0        False  \n",
       "8689          0.0        0.0           0.0     0.0     0.0        False  \n",
       "8690          0.0        0.0        1872.0     1.0     0.0         True  \n",
       "8691          0.0     1049.0           0.0   353.0  3235.0        False  \n",
       "8692        126.0     4688.0           0.0     0.0    12.0         True  \n",
       "\n",
       "[8693 rows x 13 columns]"
      ]
     },
     "execution_count": 45,
     "metadata": {},
     "output_type": "execute_result"
    }
   ],
   "source": [
    "train_df"
   ]
  },
  {
   "cell_type": "code",
   "execution_count": 46,
   "id": "ac09fdbd",
   "metadata": {
    "execution": {
     "iopub.execute_input": "2023-03-22T13:03:07.178085Z",
     "iopub.status.busy": "2023-03-22T13:03:07.177594Z",
     "iopub.status.idle": "2023-03-22T13:03:07.206728Z",
     "shell.execute_reply": "2023-03-22T13:03:07.205261Z"
    },
    "id": "Unh6SY-ArXXm",
    "outputId": "025e4d5a-51b2-4373-be4c-36acf8b76119",
    "papermill": {
     "duration": 0.064667,
     "end_time": "2023-03-22T13:03:07.209146",
     "exception": false,
     "start_time": "2023-03-22T13:03:07.144479",
     "status": "completed"
    },
    "tags": []
   },
   "outputs": [
    {
     "data": {
      "text/html": [
       "<div>\n",
       "<style scoped>\n",
       "    .dataframe tbody tr th:only-of-type {\n",
       "        vertical-align: middle;\n",
       "    }\n",
       "\n",
       "    .dataframe tbody tr th {\n",
       "        vertical-align: top;\n",
       "    }\n",
       "\n",
       "    .dataframe thead th {\n",
       "        text-align: right;\n",
       "    }\n",
       "</style>\n",
       "<table border=\"1\" class=\"dataframe\">\n",
       "  <thead>\n",
       "    <tr style=\"text-align: right;\">\n",
       "      <th></th>\n",
       "      <th>PassengerId</th>\n",
       "      <th>HomePlanet</th>\n",
       "      <th>CryoSleep</th>\n",
       "      <th>Cabin</th>\n",
       "      <th>Destination</th>\n",
       "      <th>Age</th>\n",
       "      <th>VIP</th>\n",
       "      <th>RoomService</th>\n",
       "      <th>FoodCourt</th>\n",
       "      <th>ShoppingMall</th>\n",
       "      <th>Spa</th>\n",
       "      <th>VRDeck</th>\n",
       "      <th>Name</th>\n",
       "    </tr>\n",
       "  </thead>\n",
       "  <tbody>\n",
       "    <tr>\n",
       "      <th>0</th>\n",
       "      <td>0013_01</td>\n",
       "      <td>Earth</td>\n",
       "      <td>True</td>\n",
       "      <td>G/3/S</td>\n",
       "      <td>TRAPPIST-1e</td>\n",
       "      <td>27.0</td>\n",
       "      <td>False</td>\n",
       "      <td>0.0</td>\n",
       "      <td>0.0</td>\n",
       "      <td>0.0</td>\n",
       "      <td>0.0</td>\n",
       "      <td>0.0</td>\n",
       "      <td>Nelly Carsoning</td>\n",
       "    </tr>\n",
       "    <tr>\n",
       "      <th>1</th>\n",
       "      <td>0018_01</td>\n",
       "      <td>Earth</td>\n",
       "      <td>False</td>\n",
       "      <td>F/4/S</td>\n",
       "      <td>TRAPPIST-1e</td>\n",
       "      <td>19.0</td>\n",
       "      <td>False</td>\n",
       "      <td>0.0</td>\n",
       "      <td>9.0</td>\n",
       "      <td>0.0</td>\n",
       "      <td>2823.0</td>\n",
       "      <td>0.0</td>\n",
       "      <td>Lerome Peckers</td>\n",
       "    </tr>\n",
       "    <tr>\n",
       "      <th>2</th>\n",
       "      <td>0019_01</td>\n",
       "      <td>Europa</td>\n",
       "      <td>True</td>\n",
       "      <td>C/0/S</td>\n",
       "      <td>55 Cancri e</td>\n",
       "      <td>31.0</td>\n",
       "      <td>False</td>\n",
       "      <td>0.0</td>\n",
       "      <td>0.0</td>\n",
       "      <td>0.0</td>\n",
       "      <td>0.0</td>\n",
       "      <td>0.0</td>\n",
       "      <td>Sabih Unhearfus</td>\n",
       "    </tr>\n",
       "    <tr>\n",
       "      <th>3</th>\n",
       "      <td>0021_01</td>\n",
       "      <td>Europa</td>\n",
       "      <td>False</td>\n",
       "      <td>C/1/S</td>\n",
       "      <td>TRAPPIST-1e</td>\n",
       "      <td>38.0</td>\n",
       "      <td>False</td>\n",
       "      <td>0.0</td>\n",
       "      <td>6652.0</td>\n",
       "      <td>0.0</td>\n",
       "      <td>181.0</td>\n",
       "      <td>585.0</td>\n",
       "      <td>Meratz Caltilter</td>\n",
       "    </tr>\n",
       "    <tr>\n",
       "      <th>4</th>\n",
       "      <td>0023_01</td>\n",
       "      <td>Earth</td>\n",
       "      <td>False</td>\n",
       "      <td>F/5/S</td>\n",
       "      <td>TRAPPIST-1e</td>\n",
       "      <td>20.0</td>\n",
       "      <td>False</td>\n",
       "      <td>10.0</td>\n",
       "      <td>0.0</td>\n",
       "      <td>635.0</td>\n",
       "      <td>0.0</td>\n",
       "      <td>0.0</td>\n",
       "      <td>Brence Harperez</td>\n",
       "    </tr>\n",
       "    <tr>\n",
       "      <th>...</th>\n",
       "      <td>...</td>\n",
       "      <td>...</td>\n",
       "      <td>...</td>\n",
       "      <td>...</td>\n",
       "      <td>...</td>\n",
       "      <td>...</td>\n",
       "      <td>...</td>\n",
       "      <td>...</td>\n",
       "      <td>...</td>\n",
       "      <td>...</td>\n",
       "      <td>...</td>\n",
       "      <td>...</td>\n",
       "      <td>...</td>\n",
       "    </tr>\n",
       "    <tr>\n",
       "      <th>4272</th>\n",
       "      <td>9266_02</td>\n",
       "      <td>Earth</td>\n",
       "      <td>True</td>\n",
       "      <td>G/1496/S</td>\n",
       "      <td>TRAPPIST-1e</td>\n",
       "      <td>34.0</td>\n",
       "      <td>False</td>\n",
       "      <td>0.0</td>\n",
       "      <td>0.0</td>\n",
       "      <td>0.0</td>\n",
       "      <td>0.0</td>\n",
       "      <td>0.0</td>\n",
       "      <td>Jeron Peter</td>\n",
       "    </tr>\n",
       "    <tr>\n",
       "      <th>4273</th>\n",
       "      <td>9269_01</td>\n",
       "      <td>Earth</td>\n",
       "      <td>False</td>\n",
       "      <td>G/734/S</td>\n",
       "      <td>TRAPPIST-1e</td>\n",
       "      <td>42.0</td>\n",
       "      <td>False</td>\n",
       "      <td>0.0</td>\n",
       "      <td>847.0</td>\n",
       "      <td>17.0</td>\n",
       "      <td>10.0</td>\n",
       "      <td>144.0</td>\n",
       "      <td>Matty Scheron</td>\n",
       "    </tr>\n",
       "    <tr>\n",
       "      <th>4274</th>\n",
       "      <td>9271_01</td>\n",
       "      <td>Mars</td>\n",
       "      <td>True</td>\n",
       "      <td>D/296/P</td>\n",
       "      <td>55 Cancri e</td>\n",
       "      <td>29.0</td>\n",
       "      <td>False</td>\n",
       "      <td>0.0</td>\n",
       "      <td>0.0</td>\n",
       "      <td>0.0</td>\n",
       "      <td>0.0</td>\n",
       "      <td>0.0</td>\n",
       "      <td>Jayrin Pore</td>\n",
       "    </tr>\n",
       "    <tr>\n",
       "      <th>4275</th>\n",
       "      <td>9273_01</td>\n",
       "      <td>Europa</td>\n",
       "      <td>False</td>\n",
       "      <td>D/297/P</td>\n",
       "      <td>PSO J318.5-22</td>\n",
       "      <td>29.0</td>\n",
       "      <td>False</td>\n",
       "      <td>0.0</td>\n",
       "      <td>2680.0</td>\n",
       "      <td>0.0</td>\n",
       "      <td>0.0</td>\n",
       "      <td>523.0</td>\n",
       "      <td>Kitakan Conale</td>\n",
       "    </tr>\n",
       "    <tr>\n",
       "      <th>4276</th>\n",
       "      <td>9277_01</td>\n",
       "      <td>Earth</td>\n",
       "      <td>True</td>\n",
       "      <td>G/1498/S</td>\n",
       "      <td>PSO J318.5-22</td>\n",
       "      <td>43.0</td>\n",
       "      <td>False</td>\n",
       "      <td>0.0</td>\n",
       "      <td>0.0</td>\n",
       "      <td>0.0</td>\n",
       "      <td>0.0</td>\n",
       "      <td>0.0</td>\n",
       "      <td>Lilace Leonzaley</td>\n",
       "    </tr>\n",
       "  </tbody>\n",
       "</table>\n",
       "<p>4277 rows × 13 columns</p>\n",
       "</div>"
      ],
      "text/plain": [
       "     PassengerId HomePlanet  CryoSleep     Cabin    Destination   Age    VIP  \\\n",
       "0        0013_01      Earth       True     G/3/S    TRAPPIST-1e  27.0  False   \n",
       "1        0018_01      Earth      False     F/4/S    TRAPPIST-1e  19.0  False   \n",
       "2        0019_01     Europa       True     C/0/S    55 Cancri e  31.0  False   \n",
       "3        0021_01     Europa      False     C/1/S    TRAPPIST-1e  38.0  False   \n",
       "4        0023_01      Earth      False     F/5/S    TRAPPIST-1e  20.0  False   \n",
       "...          ...        ...        ...       ...            ...   ...    ...   \n",
       "4272     9266_02      Earth       True  G/1496/S    TRAPPIST-1e  34.0  False   \n",
       "4273     9269_01      Earth      False   G/734/S    TRAPPIST-1e  42.0  False   \n",
       "4274     9271_01       Mars       True   D/296/P    55 Cancri e  29.0  False   \n",
       "4275     9273_01     Europa      False   D/297/P  PSO J318.5-22  29.0  False   \n",
       "4276     9277_01      Earth       True  G/1498/S  PSO J318.5-22  43.0  False   \n",
       "\n",
       "      RoomService  FoodCourt  ShoppingMall     Spa  VRDeck              Name  \n",
       "0             0.0        0.0           0.0     0.0     0.0   Nelly Carsoning  \n",
       "1             0.0        9.0           0.0  2823.0     0.0    Lerome Peckers  \n",
       "2             0.0        0.0           0.0     0.0     0.0   Sabih Unhearfus  \n",
       "3             0.0     6652.0           0.0   181.0   585.0  Meratz Caltilter  \n",
       "4            10.0        0.0         635.0     0.0     0.0   Brence Harperez  \n",
       "...           ...        ...           ...     ...     ...               ...  \n",
       "4272          0.0        0.0           0.0     0.0     0.0       Jeron Peter  \n",
       "4273          0.0      847.0          17.0    10.0   144.0     Matty Scheron  \n",
       "4274          0.0        0.0           0.0     0.0     0.0       Jayrin Pore  \n",
       "4275          0.0     2680.0           0.0     0.0   523.0    Kitakan Conale  \n",
       "4276          0.0        0.0           0.0     0.0     0.0  Lilace Leonzaley  \n",
       "\n",
       "[4277 rows x 13 columns]"
      ]
     },
     "execution_count": 46,
     "metadata": {},
     "output_type": "execute_result"
    }
   ],
   "source": [
    "test_df"
   ]
  },
  {
   "cell_type": "code",
   "execution_count": 47,
   "id": "f2f36701",
   "metadata": {
    "execution": {
     "iopub.execute_input": "2023-03-22T13:03:07.270394Z",
     "iopub.status.busy": "2023-03-22T13:03:07.269965Z",
     "iopub.status.idle": "2023-03-22T13:03:07.432473Z",
     "shell.execute_reply": "2023-03-22T13:03:07.430223Z"
    },
    "id": "-7sxlSXOJ-ck",
    "outputId": "ceafa289-6ee6-496e-f4bc-714ad773958b",
    "papermill": {
     "duration": 0.195701,
     "end_time": "2023-03-22T13:03:07.435220",
     "exception": false,
     "start_time": "2023-03-22T13:03:07.239519",
     "status": "completed"
    },
    "tags": []
   },
   "outputs": [
    {
     "name": "stderr",
     "output_type": "stream",
     "text": [
      "/opt/conda/lib/python3.7/site-packages/ipykernel_launcher.py:5: SettingWithCopyWarning: \n",
      "A value is trying to be set on a copy of a slice from a DataFrame\n",
      "\n",
      "See the caveats in the documentation: https://pandas.pydata.org/pandas-docs/stable/user_guide/indexing.html#returning-a-view-versus-a-copy\n",
      "  \"\"\"\n",
      "/opt/conda/lib/python3.7/site-packages/pandas/core/indexing.py:1732: SettingWithCopyWarning: \n",
      "A value is trying to be set on a copy of a slice from a DataFrame\n",
      "\n",
      "See the caveats in the documentation: https://pandas.pydata.org/pandas-docs/stable/user_guide/indexing.html#returning-a-view-versus-a-copy\n",
      "  self._setitem_single_block(indexer, value, name)\n"
     ]
    }
   ],
   "source": [
    "for i in train_df.index:\n",
    "  if train_df['CryoSleep'][i] == True:\n",
    "    train_df['CryoSleep'][i] = 1\n",
    "  elif train_df['CryoSleep'][i] == False:\n",
    "    train_df['CryoSleep'][i] = 0"
   ]
  },
  {
   "cell_type": "code",
   "execution_count": 48,
   "id": "aa71adfc",
   "metadata": {
    "execution": {
     "iopub.execute_input": "2023-03-22T13:03:07.497835Z",
     "iopub.status.busy": "2023-03-22T13:03:07.497421Z",
     "iopub.status.idle": "2023-03-22T13:03:07.523557Z",
     "shell.execute_reply": "2023-03-22T13:03:07.522491Z"
    },
    "id": "uDjNXTtjKfqg",
    "outputId": "abf32d56-6dce-43d0-e9f7-566a70dac500",
    "papermill": {
     "duration": 0.061709,
     "end_time": "2023-03-22T13:03:07.527054",
     "exception": false,
     "start_time": "2023-03-22T13:03:07.465345",
     "status": "completed"
    },
    "tags": []
   },
   "outputs": [
    {
     "data": {
      "text/html": [
       "<div>\n",
       "<style scoped>\n",
       "    .dataframe tbody tr th:only-of-type {\n",
       "        vertical-align: middle;\n",
       "    }\n",
       "\n",
       "    .dataframe tbody tr th {\n",
       "        vertical-align: top;\n",
       "    }\n",
       "\n",
       "    .dataframe thead th {\n",
       "        text-align: right;\n",
       "    }\n",
       "</style>\n",
       "<table border=\"1\" class=\"dataframe\">\n",
       "  <thead>\n",
       "    <tr style=\"text-align: right;\">\n",
       "      <th></th>\n",
       "      <th>PassengerId</th>\n",
       "      <th>HomePlanet</th>\n",
       "      <th>CryoSleep</th>\n",
       "      <th>Cabin</th>\n",
       "      <th>Destination</th>\n",
       "      <th>Age</th>\n",
       "      <th>VIP</th>\n",
       "      <th>RoomService</th>\n",
       "      <th>FoodCourt</th>\n",
       "      <th>ShoppingMall</th>\n",
       "      <th>Spa</th>\n",
       "      <th>VRDeck</th>\n",
       "      <th>Transported</th>\n",
       "    </tr>\n",
       "  </thead>\n",
       "  <tbody>\n",
       "    <tr>\n",
       "      <th>0</th>\n",
       "      <td>0001_01</td>\n",
       "      <td>Europa</td>\n",
       "      <td>0</td>\n",
       "      <td>B/0/P</td>\n",
       "      <td>TRAPPIST-1e</td>\n",
       "      <td>39.0</td>\n",
       "      <td>False</td>\n",
       "      <td>0.0</td>\n",
       "      <td>0.0</td>\n",
       "      <td>0.0</td>\n",
       "      <td>0.0</td>\n",
       "      <td>0.0</td>\n",
       "      <td>False</td>\n",
       "    </tr>\n",
       "    <tr>\n",
       "      <th>1</th>\n",
       "      <td>0002_01</td>\n",
       "      <td>Earth</td>\n",
       "      <td>0</td>\n",
       "      <td>F/0/S</td>\n",
       "      <td>TRAPPIST-1e</td>\n",
       "      <td>24.0</td>\n",
       "      <td>False</td>\n",
       "      <td>109.0</td>\n",
       "      <td>9.0</td>\n",
       "      <td>25.0</td>\n",
       "      <td>549.0</td>\n",
       "      <td>44.0</td>\n",
       "      <td>True</td>\n",
       "    </tr>\n",
       "    <tr>\n",
       "      <th>2</th>\n",
       "      <td>0003_01</td>\n",
       "      <td>Europa</td>\n",
       "      <td>0</td>\n",
       "      <td>A/0/S</td>\n",
       "      <td>TRAPPIST-1e</td>\n",
       "      <td>58.0</td>\n",
       "      <td>True</td>\n",
       "      <td>43.0</td>\n",
       "      <td>3576.0</td>\n",
       "      <td>0.0</td>\n",
       "      <td>6715.0</td>\n",
       "      <td>49.0</td>\n",
       "      <td>False</td>\n",
       "    </tr>\n",
       "    <tr>\n",
       "      <th>3</th>\n",
       "      <td>0003_02</td>\n",
       "      <td>Europa</td>\n",
       "      <td>0</td>\n",
       "      <td>A/0/S</td>\n",
       "      <td>TRAPPIST-1e</td>\n",
       "      <td>33.0</td>\n",
       "      <td>False</td>\n",
       "      <td>0.0</td>\n",
       "      <td>1283.0</td>\n",
       "      <td>371.0</td>\n",
       "      <td>3329.0</td>\n",
       "      <td>193.0</td>\n",
       "      <td>False</td>\n",
       "    </tr>\n",
       "    <tr>\n",
       "      <th>4</th>\n",
       "      <td>0004_01</td>\n",
       "      <td>Earth</td>\n",
       "      <td>0</td>\n",
       "      <td>F/1/S</td>\n",
       "      <td>TRAPPIST-1e</td>\n",
       "      <td>16.0</td>\n",
       "      <td>False</td>\n",
       "      <td>303.0</td>\n",
       "      <td>70.0</td>\n",
       "      <td>151.0</td>\n",
       "      <td>565.0</td>\n",
       "      <td>2.0</td>\n",
       "      <td>True</td>\n",
       "    </tr>\n",
       "    <tr>\n",
       "      <th>...</th>\n",
       "      <td>...</td>\n",
       "      <td>...</td>\n",
       "      <td>...</td>\n",
       "      <td>...</td>\n",
       "      <td>...</td>\n",
       "      <td>...</td>\n",
       "      <td>...</td>\n",
       "      <td>...</td>\n",
       "      <td>...</td>\n",
       "      <td>...</td>\n",
       "      <td>...</td>\n",
       "      <td>...</td>\n",
       "      <td>...</td>\n",
       "    </tr>\n",
       "    <tr>\n",
       "      <th>8688</th>\n",
       "      <td>9276_01</td>\n",
       "      <td>Europa</td>\n",
       "      <td>0</td>\n",
       "      <td>A/98/P</td>\n",
       "      <td>55 Cancri e</td>\n",
       "      <td>41.0</td>\n",
       "      <td>True</td>\n",
       "      <td>0.0</td>\n",
       "      <td>6819.0</td>\n",
       "      <td>0.0</td>\n",
       "      <td>1643.0</td>\n",
       "      <td>74.0</td>\n",
       "      <td>False</td>\n",
       "    </tr>\n",
       "    <tr>\n",
       "      <th>8689</th>\n",
       "      <td>9278_01</td>\n",
       "      <td>Earth</td>\n",
       "      <td>1</td>\n",
       "      <td>G/1499/S</td>\n",
       "      <td>PSO J318.5-22</td>\n",
       "      <td>18.0</td>\n",
       "      <td>False</td>\n",
       "      <td>0.0</td>\n",
       "      <td>0.0</td>\n",
       "      <td>0.0</td>\n",
       "      <td>0.0</td>\n",
       "      <td>0.0</td>\n",
       "      <td>False</td>\n",
       "    </tr>\n",
       "    <tr>\n",
       "      <th>8690</th>\n",
       "      <td>9279_01</td>\n",
       "      <td>Earth</td>\n",
       "      <td>0</td>\n",
       "      <td>G/1500/S</td>\n",
       "      <td>TRAPPIST-1e</td>\n",
       "      <td>26.0</td>\n",
       "      <td>False</td>\n",
       "      <td>0.0</td>\n",
       "      <td>0.0</td>\n",
       "      <td>1872.0</td>\n",
       "      <td>1.0</td>\n",
       "      <td>0.0</td>\n",
       "      <td>True</td>\n",
       "    </tr>\n",
       "    <tr>\n",
       "      <th>8691</th>\n",
       "      <td>9280_01</td>\n",
       "      <td>Europa</td>\n",
       "      <td>0</td>\n",
       "      <td>E/608/S</td>\n",
       "      <td>55 Cancri e</td>\n",
       "      <td>32.0</td>\n",
       "      <td>False</td>\n",
       "      <td>0.0</td>\n",
       "      <td>1049.0</td>\n",
       "      <td>0.0</td>\n",
       "      <td>353.0</td>\n",
       "      <td>3235.0</td>\n",
       "      <td>False</td>\n",
       "    </tr>\n",
       "    <tr>\n",
       "      <th>8692</th>\n",
       "      <td>9280_02</td>\n",
       "      <td>Europa</td>\n",
       "      <td>0</td>\n",
       "      <td>E/608/S</td>\n",
       "      <td>TRAPPIST-1e</td>\n",
       "      <td>44.0</td>\n",
       "      <td>False</td>\n",
       "      <td>126.0</td>\n",
       "      <td>4688.0</td>\n",
       "      <td>0.0</td>\n",
       "      <td>0.0</td>\n",
       "      <td>12.0</td>\n",
       "      <td>True</td>\n",
       "    </tr>\n",
       "  </tbody>\n",
       "</table>\n",
       "<p>8693 rows × 13 columns</p>\n",
       "</div>"
      ],
      "text/plain": [
       "     PassengerId HomePlanet CryoSleep     Cabin    Destination   Age    VIP  \\\n",
       "0        0001_01     Europa         0     B/0/P    TRAPPIST-1e  39.0  False   \n",
       "1        0002_01      Earth         0     F/0/S    TRAPPIST-1e  24.0  False   \n",
       "2        0003_01     Europa         0     A/0/S    TRAPPIST-1e  58.0   True   \n",
       "3        0003_02     Europa         0     A/0/S    TRAPPIST-1e  33.0  False   \n",
       "4        0004_01      Earth         0     F/1/S    TRAPPIST-1e  16.0  False   \n",
       "...          ...        ...       ...       ...            ...   ...    ...   \n",
       "8688     9276_01     Europa         0    A/98/P    55 Cancri e  41.0   True   \n",
       "8689     9278_01      Earth         1  G/1499/S  PSO J318.5-22  18.0  False   \n",
       "8690     9279_01      Earth         0  G/1500/S    TRAPPIST-1e  26.0  False   \n",
       "8691     9280_01     Europa         0   E/608/S    55 Cancri e  32.0  False   \n",
       "8692     9280_02     Europa         0   E/608/S    TRAPPIST-1e  44.0  False   \n",
       "\n",
       "      RoomService  FoodCourt  ShoppingMall     Spa  VRDeck  Transported  \n",
       "0             0.0        0.0           0.0     0.0     0.0        False  \n",
       "1           109.0        9.0          25.0   549.0    44.0         True  \n",
       "2            43.0     3576.0           0.0  6715.0    49.0        False  \n",
       "3             0.0     1283.0         371.0  3329.0   193.0        False  \n",
       "4           303.0       70.0         151.0   565.0     2.0         True  \n",
       "...           ...        ...           ...     ...     ...          ...  \n",
       "8688          0.0     6819.0           0.0  1643.0    74.0        False  \n",
       "8689          0.0        0.0           0.0     0.0     0.0        False  \n",
       "8690          0.0        0.0        1872.0     1.0     0.0         True  \n",
       "8691          0.0     1049.0           0.0   353.0  3235.0        False  \n",
       "8692        126.0     4688.0           0.0     0.0    12.0         True  \n",
       "\n",
       "[8693 rows x 13 columns]"
      ]
     },
     "execution_count": 48,
     "metadata": {},
     "output_type": "execute_result"
    }
   ],
   "source": [
    "train_df"
   ]
  },
  {
   "cell_type": "code",
   "execution_count": 49,
   "id": "681b08dc",
   "metadata": {
    "execution": {
     "iopub.execute_input": "2023-03-22T13:03:07.591472Z",
     "iopub.status.busy": "2023-03-22T13:03:07.591053Z",
     "iopub.status.idle": "2023-03-22T13:03:07.673998Z",
     "shell.execute_reply": "2023-03-22T13:03:07.672852Z"
    },
    "id": "3XZTSA2Crbs-",
    "outputId": "9d4d9319-0979-45c3-bbef-42effd08f46c",
    "papermill": {
     "duration": 0.119652,
     "end_time": "2023-03-22T13:03:07.676580",
     "exception": false,
     "start_time": "2023-03-22T13:03:07.556928",
     "status": "completed"
    },
    "tags": []
   },
   "outputs": [
    {
     "name": "stderr",
     "output_type": "stream",
     "text": [
      "/opt/conda/lib/python3.7/site-packages/ipykernel_launcher.py:3: SettingWithCopyWarning: \n",
      "A value is trying to be set on a copy of a slice from a DataFrame\n",
      "\n",
      "See the caveats in the documentation: https://pandas.pydata.org/pandas-docs/stable/user_guide/indexing.html#returning-a-view-versus-a-copy\n",
      "  This is separate from the ipykernel package so we can avoid doing imports until\n",
      "/opt/conda/lib/python3.7/site-packages/pandas/core/indexing.py:1732: SettingWithCopyWarning: \n",
      "A value is trying to be set on a copy of a slice from a DataFrame\n",
      "\n",
      "See the caveats in the documentation: https://pandas.pydata.org/pandas-docs/stable/user_guide/indexing.html#returning-a-view-versus-a-copy\n",
      "  self._setitem_single_block(indexer, value, name)\n"
     ]
    }
   ],
   "source": [
    "for i in test_df.index:\n",
    "  if test_df['CryoSleep'][i] == True:\n",
    "    test_df['CryoSleep'][i] = 1\n",
    "  elif test_df['CryoSleep'][i] == False:\n",
    "    test_df['CryoSleep'][i] = 0"
   ]
  },
  {
   "cell_type": "code",
   "execution_count": 50,
   "id": "29827fb5",
   "metadata": {
    "execution": {
     "iopub.execute_input": "2023-03-22T13:03:07.737802Z",
     "iopub.status.busy": "2023-03-22T13:03:07.737366Z",
     "iopub.status.idle": "2023-03-22T13:03:07.765313Z",
     "shell.execute_reply": "2023-03-22T13:03:07.764586Z"
    },
    "id": "PgTfqMH9rd9m",
    "outputId": "4f1d6c69-844d-4dce-ba23-438b37b0b8b0",
    "papermill": {
     "duration": 0.060431,
     "end_time": "2023-03-22T13:03:07.766968",
     "exception": false,
     "start_time": "2023-03-22T13:03:07.706537",
     "status": "completed"
    },
    "tags": []
   },
   "outputs": [
    {
     "data": {
      "text/html": [
       "<div>\n",
       "<style scoped>\n",
       "    .dataframe tbody tr th:only-of-type {\n",
       "        vertical-align: middle;\n",
       "    }\n",
       "\n",
       "    .dataframe tbody tr th {\n",
       "        vertical-align: top;\n",
       "    }\n",
       "\n",
       "    .dataframe thead th {\n",
       "        text-align: right;\n",
       "    }\n",
       "</style>\n",
       "<table border=\"1\" class=\"dataframe\">\n",
       "  <thead>\n",
       "    <tr style=\"text-align: right;\">\n",
       "      <th></th>\n",
       "      <th>PassengerId</th>\n",
       "      <th>HomePlanet</th>\n",
       "      <th>CryoSleep</th>\n",
       "      <th>Cabin</th>\n",
       "      <th>Destination</th>\n",
       "      <th>Age</th>\n",
       "      <th>VIP</th>\n",
       "      <th>RoomService</th>\n",
       "      <th>FoodCourt</th>\n",
       "      <th>ShoppingMall</th>\n",
       "      <th>Spa</th>\n",
       "      <th>VRDeck</th>\n",
       "      <th>Name</th>\n",
       "    </tr>\n",
       "  </thead>\n",
       "  <tbody>\n",
       "    <tr>\n",
       "      <th>0</th>\n",
       "      <td>0013_01</td>\n",
       "      <td>Earth</td>\n",
       "      <td>1</td>\n",
       "      <td>G/3/S</td>\n",
       "      <td>TRAPPIST-1e</td>\n",
       "      <td>27.0</td>\n",
       "      <td>False</td>\n",
       "      <td>0.0</td>\n",
       "      <td>0.0</td>\n",
       "      <td>0.0</td>\n",
       "      <td>0.0</td>\n",
       "      <td>0.0</td>\n",
       "      <td>Nelly Carsoning</td>\n",
       "    </tr>\n",
       "    <tr>\n",
       "      <th>1</th>\n",
       "      <td>0018_01</td>\n",
       "      <td>Earth</td>\n",
       "      <td>0</td>\n",
       "      <td>F/4/S</td>\n",
       "      <td>TRAPPIST-1e</td>\n",
       "      <td>19.0</td>\n",
       "      <td>False</td>\n",
       "      <td>0.0</td>\n",
       "      <td>9.0</td>\n",
       "      <td>0.0</td>\n",
       "      <td>2823.0</td>\n",
       "      <td>0.0</td>\n",
       "      <td>Lerome Peckers</td>\n",
       "    </tr>\n",
       "    <tr>\n",
       "      <th>2</th>\n",
       "      <td>0019_01</td>\n",
       "      <td>Europa</td>\n",
       "      <td>1</td>\n",
       "      <td>C/0/S</td>\n",
       "      <td>55 Cancri e</td>\n",
       "      <td>31.0</td>\n",
       "      <td>False</td>\n",
       "      <td>0.0</td>\n",
       "      <td>0.0</td>\n",
       "      <td>0.0</td>\n",
       "      <td>0.0</td>\n",
       "      <td>0.0</td>\n",
       "      <td>Sabih Unhearfus</td>\n",
       "    </tr>\n",
       "    <tr>\n",
       "      <th>3</th>\n",
       "      <td>0021_01</td>\n",
       "      <td>Europa</td>\n",
       "      <td>0</td>\n",
       "      <td>C/1/S</td>\n",
       "      <td>TRAPPIST-1e</td>\n",
       "      <td>38.0</td>\n",
       "      <td>False</td>\n",
       "      <td>0.0</td>\n",
       "      <td>6652.0</td>\n",
       "      <td>0.0</td>\n",
       "      <td>181.0</td>\n",
       "      <td>585.0</td>\n",
       "      <td>Meratz Caltilter</td>\n",
       "    </tr>\n",
       "    <tr>\n",
       "      <th>4</th>\n",
       "      <td>0023_01</td>\n",
       "      <td>Earth</td>\n",
       "      <td>0</td>\n",
       "      <td>F/5/S</td>\n",
       "      <td>TRAPPIST-1e</td>\n",
       "      <td>20.0</td>\n",
       "      <td>False</td>\n",
       "      <td>10.0</td>\n",
       "      <td>0.0</td>\n",
       "      <td>635.0</td>\n",
       "      <td>0.0</td>\n",
       "      <td>0.0</td>\n",
       "      <td>Brence Harperez</td>\n",
       "    </tr>\n",
       "    <tr>\n",
       "      <th>...</th>\n",
       "      <td>...</td>\n",
       "      <td>...</td>\n",
       "      <td>...</td>\n",
       "      <td>...</td>\n",
       "      <td>...</td>\n",
       "      <td>...</td>\n",
       "      <td>...</td>\n",
       "      <td>...</td>\n",
       "      <td>...</td>\n",
       "      <td>...</td>\n",
       "      <td>...</td>\n",
       "      <td>...</td>\n",
       "      <td>...</td>\n",
       "    </tr>\n",
       "    <tr>\n",
       "      <th>4272</th>\n",
       "      <td>9266_02</td>\n",
       "      <td>Earth</td>\n",
       "      <td>1</td>\n",
       "      <td>G/1496/S</td>\n",
       "      <td>TRAPPIST-1e</td>\n",
       "      <td>34.0</td>\n",
       "      <td>False</td>\n",
       "      <td>0.0</td>\n",
       "      <td>0.0</td>\n",
       "      <td>0.0</td>\n",
       "      <td>0.0</td>\n",
       "      <td>0.0</td>\n",
       "      <td>Jeron Peter</td>\n",
       "    </tr>\n",
       "    <tr>\n",
       "      <th>4273</th>\n",
       "      <td>9269_01</td>\n",
       "      <td>Earth</td>\n",
       "      <td>0</td>\n",
       "      <td>G/734/S</td>\n",
       "      <td>TRAPPIST-1e</td>\n",
       "      <td>42.0</td>\n",
       "      <td>False</td>\n",
       "      <td>0.0</td>\n",
       "      <td>847.0</td>\n",
       "      <td>17.0</td>\n",
       "      <td>10.0</td>\n",
       "      <td>144.0</td>\n",
       "      <td>Matty Scheron</td>\n",
       "    </tr>\n",
       "    <tr>\n",
       "      <th>4274</th>\n",
       "      <td>9271_01</td>\n",
       "      <td>Mars</td>\n",
       "      <td>1</td>\n",
       "      <td>D/296/P</td>\n",
       "      <td>55 Cancri e</td>\n",
       "      <td>29.0</td>\n",
       "      <td>False</td>\n",
       "      <td>0.0</td>\n",
       "      <td>0.0</td>\n",
       "      <td>0.0</td>\n",
       "      <td>0.0</td>\n",
       "      <td>0.0</td>\n",
       "      <td>Jayrin Pore</td>\n",
       "    </tr>\n",
       "    <tr>\n",
       "      <th>4275</th>\n",
       "      <td>9273_01</td>\n",
       "      <td>Europa</td>\n",
       "      <td>0</td>\n",
       "      <td>D/297/P</td>\n",
       "      <td>PSO J318.5-22</td>\n",
       "      <td>29.0</td>\n",
       "      <td>False</td>\n",
       "      <td>0.0</td>\n",
       "      <td>2680.0</td>\n",
       "      <td>0.0</td>\n",
       "      <td>0.0</td>\n",
       "      <td>523.0</td>\n",
       "      <td>Kitakan Conale</td>\n",
       "    </tr>\n",
       "    <tr>\n",
       "      <th>4276</th>\n",
       "      <td>9277_01</td>\n",
       "      <td>Earth</td>\n",
       "      <td>1</td>\n",
       "      <td>G/1498/S</td>\n",
       "      <td>PSO J318.5-22</td>\n",
       "      <td>43.0</td>\n",
       "      <td>False</td>\n",
       "      <td>0.0</td>\n",
       "      <td>0.0</td>\n",
       "      <td>0.0</td>\n",
       "      <td>0.0</td>\n",
       "      <td>0.0</td>\n",
       "      <td>Lilace Leonzaley</td>\n",
       "    </tr>\n",
       "  </tbody>\n",
       "</table>\n",
       "<p>4277 rows × 13 columns</p>\n",
       "</div>"
      ],
      "text/plain": [
       "     PassengerId HomePlanet CryoSleep     Cabin    Destination   Age    VIP  \\\n",
       "0        0013_01      Earth         1     G/3/S    TRAPPIST-1e  27.0  False   \n",
       "1        0018_01      Earth         0     F/4/S    TRAPPIST-1e  19.0  False   \n",
       "2        0019_01     Europa         1     C/0/S    55 Cancri e  31.0  False   \n",
       "3        0021_01     Europa         0     C/1/S    TRAPPIST-1e  38.0  False   \n",
       "4        0023_01      Earth         0     F/5/S    TRAPPIST-1e  20.0  False   \n",
       "...          ...        ...       ...       ...            ...   ...    ...   \n",
       "4272     9266_02      Earth         1  G/1496/S    TRAPPIST-1e  34.0  False   \n",
       "4273     9269_01      Earth         0   G/734/S    TRAPPIST-1e  42.0  False   \n",
       "4274     9271_01       Mars         1   D/296/P    55 Cancri e  29.0  False   \n",
       "4275     9273_01     Europa         0   D/297/P  PSO J318.5-22  29.0  False   \n",
       "4276     9277_01      Earth         1  G/1498/S  PSO J318.5-22  43.0  False   \n",
       "\n",
       "      RoomService  FoodCourt  ShoppingMall     Spa  VRDeck              Name  \n",
       "0             0.0        0.0           0.0     0.0     0.0   Nelly Carsoning  \n",
       "1             0.0        9.0           0.0  2823.0     0.0    Lerome Peckers  \n",
       "2             0.0        0.0           0.0     0.0     0.0   Sabih Unhearfus  \n",
       "3             0.0     6652.0           0.0   181.0   585.0  Meratz Caltilter  \n",
       "4            10.0        0.0         635.0     0.0     0.0   Brence Harperez  \n",
       "...           ...        ...           ...     ...     ...               ...  \n",
       "4272          0.0        0.0           0.0     0.0     0.0       Jeron Peter  \n",
       "4273          0.0      847.0          17.0    10.0   144.0     Matty Scheron  \n",
       "4274          0.0        0.0           0.0     0.0     0.0       Jayrin Pore  \n",
       "4275          0.0     2680.0           0.0     0.0   523.0    Kitakan Conale  \n",
       "4276          0.0        0.0           0.0     0.0     0.0  Lilace Leonzaley  \n",
       "\n",
       "[4277 rows x 13 columns]"
      ]
     },
     "execution_count": 50,
     "metadata": {},
     "output_type": "execute_result"
    }
   ],
   "source": [
    "test_df"
   ]
  },
  {
   "cell_type": "code",
   "execution_count": 51,
   "id": "df0b12bb",
   "metadata": {
    "execution": {
     "iopub.execute_input": "2023-03-22T13:03:07.828591Z",
     "iopub.status.busy": "2023-03-22T13:03:07.827847Z",
     "iopub.status.idle": "2023-03-22T13:03:07.999881Z",
     "shell.execute_reply": "2023-03-22T13:03:07.998673Z"
    },
    "id": "pdQJP6BNKiPY",
    "outputId": "72236566-0bae-4394-8d7f-0484c25c9fa9",
    "papermill": {
     "duration": 0.20662,
     "end_time": "2023-03-22T13:03:08.002856",
     "exception": false,
     "start_time": "2023-03-22T13:03:07.796236",
     "status": "completed"
    },
    "tags": []
   },
   "outputs": [
    {
     "name": "stderr",
     "output_type": "stream",
     "text": [
      "/opt/conda/lib/python3.7/site-packages/ipykernel_launcher.py:5: SettingWithCopyWarning: \n",
      "A value is trying to be set on a copy of a slice from a DataFrame\n",
      "\n",
      "See the caveats in the documentation: https://pandas.pydata.org/pandas-docs/stable/user_guide/indexing.html#returning-a-view-versus-a-copy\n",
      "  \"\"\"\n",
      "/opt/conda/lib/python3.7/site-packages/pandas/core/indexing.py:1732: SettingWithCopyWarning: \n",
      "A value is trying to be set on a copy of a slice from a DataFrame\n",
      "\n",
      "See the caveats in the documentation: https://pandas.pydata.org/pandas-docs/stable/user_guide/indexing.html#returning-a-view-versus-a-copy\n",
      "  self._setitem_single_block(indexer, value, name)\n"
     ]
    }
   ],
   "source": [
    "for i in train_df.index:\n",
    "  if train_df['VIP'][i] == True:\n",
    "    train_df['VIP'][i] = 1\n",
    "  elif train_df['VIP'][i] == False:\n",
    "    train_df['VIP'][i] = 0"
   ]
  },
  {
   "cell_type": "code",
   "execution_count": 52,
   "id": "21cac473",
   "metadata": {
    "execution": {
     "iopub.execute_input": "2023-03-22T13:03:08.067765Z",
     "iopub.status.busy": "2023-03-22T13:03:08.067103Z",
     "iopub.status.idle": "2023-03-22T13:03:08.217941Z",
     "shell.execute_reply": "2023-03-22T13:03:08.216856Z"
    },
    "id": "FPN5zNt3KmS4",
    "outputId": "638d0975-8ec5-4f6a-ff70-2e5344505327",
    "papermill": {
     "duration": 0.186459,
     "end_time": "2023-03-22T13:03:08.221223",
     "exception": false,
     "start_time": "2023-03-22T13:03:08.034764",
     "status": "completed"
    },
    "tags": []
   },
   "outputs": [
    {
     "name": "stderr",
     "output_type": "stream",
     "text": [
      "/opt/conda/lib/python3.7/site-packages/ipykernel_launcher.py:5: SettingWithCopyWarning: \n",
      "A value is trying to be set on a copy of a slice from a DataFrame\n",
      "\n",
      "See the caveats in the documentation: https://pandas.pydata.org/pandas-docs/stable/user_guide/indexing.html#returning-a-view-versus-a-copy\n",
      "  \"\"\"\n"
     ]
    }
   ],
   "source": [
    "for i in train_df.index:\n",
    "  if train_df['Transported'][i] == True:\n",
    "    train_df['Transported'][i] = 1\n",
    "  elif train_df['Transported'][i] == False:\n",
    "    train_df['Transported'][i] = 0"
   ]
  },
  {
   "cell_type": "code",
   "execution_count": 53,
   "id": "dee808f4",
   "metadata": {
    "execution": {
     "iopub.execute_input": "2023-03-22T13:03:08.284085Z",
     "iopub.status.busy": "2023-03-22T13:03:08.283432Z",
     "iopub.status.idle": "2023-03-22T13:03:08.308670Z",
     "shell.execute_reply": "2023-03-22T13:03:08.307662Z"
    },
    "id": "ntJZayakKobS",
    "outputId": "f1c7efbd-c3ad-440d-f6ab-1a14976c9ef7",
    "papermill": {
     "duration": 0.058774,
     "end_time": "2023-03-22T13:03:08.310529",
     "exception": false,
     "start_time": "2023-03-22T13:03:08.251755",
     "status": "completed"
    },
    "tags": []
   },
   "outputs": [
    {
     "data": {
      "text/html": [
       "<div>\n",
       "<style scoped>\n",
       "    .dataframe tbody tr th:only-of-type {\n",
       "        vertical-align: middle;\n",
       "    }\n",
       "\n",
       "    .dataframe tbody tr th {\n",
       "        vertical-align: top;\n",
       "    }\n",
       "\n",
       "    .dataframe thead th {\n",
       "        text-align: right;\n",
       "    }\n",
       "</style>\n",
       "<table border=\"1\" class=\"dataframe\">\n",
       "  <thead>\n",
       "    <tr style=\"text-align: right;\">\n",
       "      <th></th>\n",
       "      <th>PassengerId</th>\n",
       "      <th>HomePlanet</th>\n",
       "      <th>CryoSleep</th>\n",
       "      <th>Cabin</th>\n",
       "      <th>Destination</th>\n",
       "      <th>Age</th>\n",
       "      <th>VIP</th>\n",
       "      <th>RoomService</th>\n",
       "      <th>FoodCourt</th>\n",
       "      <th>ShoppingMall</th>\n",
       "      <th>Spa</th>\n",
       "      <th>VRDeck</th>\n",
       "      <th>Transported</th>\n",
       "    </tr>\n",
       "  </thead>\n",
       "  <tbody>\n",
       "    <tr>\n",
       "      <th>0</th>\n",
       "      <td>0001_01</td>\n",
       "      <td>Europa</td>\n",
       "      <td>0</td>\n",
       "      <td>B/0/P</td>\n",
       "      <td>TRAPPIST-1e</td>\n",
       "      <td>39.0</td>\n",
       "      <td>0</td>\n",
       "      <td>0.0</td>\n",
       "      <td>0.0</td>\n",
       "      <td>0.0</td>\n",
       "      <td>0.0</td>\n",
       "      <td>0.0</td>\n",
       "      <td>0</td>\n",
       "    </tr>\n",
       "    <tr>\n",
       "      <th>1</th>\n",
       "      <td>0002_01</td>\n",
       "      <td>Earth</td>\n",
       "      <td>0</td>\n",
       "      <td>F/0/S</td>\n",
       "      <td>TRAPPIST-1e</td>\n",
       "      <td>24.0</td>\n",
       "      <td>0</td>\n",
       "      <td>109.0</td>\n",
       "      <td>9.0</td>\n",
       "      <td>25.0</td>\n",
       "      <td>549.0</td>\n",
       "      <td>44.0</td>\n",
       "      <td>1</td>\n",
       "    </tr>\n",
       "    <tr>\n",
       "      <th>2</th>\n",
       "      <td>0003_01</td>\n",
       "      <td>Europa</td>\n",
       "      <td>0</td>\n",
       "      <td>A/0/S</td>\n",
       "      <td>TRAPPIST-1e</td>\n",
       "      <td>58.0</td>\n",
       "      <td>1</td>\n",
       "      <td>43.0</td>\n",
       "      <td>3576.0</td>\n",
       "      <td>0.0</td>\n",
       "      <td>6715.0</td>\n",
       "      <td>49.0</td>\n",
       "      <td>0</td>\n",
       "    </tr>\n",
       "    <tr>\n",
       "      <th>3</th>\n",
       "      <td>0003_02</td>\n",
       "      <td>Europa</td>\n",
       "      <td>0</td>\n",
       "      <td>A/0/S</td>\n",
       "      <td>TRAPPIST-1e</td>\n",
       "      <td>33.0</td>\n",
       "      <td>0</td>\n",
       "      <td>0.0</td>\n",
       "      <td>1283.0</td>\n",
       "      <td>371.0</td>\n",
       "      <td>3329.0</td>\n",
       "      <td>193.0</td>\n",
       "      <td>0</td>\n",
       "    </tr>\n",
       "    <tr>\n",
       "      <th>4</th>\n",
       "      <td>0004_01</td>\n",
       "      <td>Earth</td>\n",
       "      <td>0</td>\n",
       "      <td>F/1/S</td>\n",
       "      <td>TRAPPIST-1e</td>\n",
       "      <td>16.0</td>\n",
       "      <td>0</td>\n",
       "      <td>303.0</td>\n",
       "      <td>70.0</td>\n",
       "      <td>151.0</td>\n",
       "      <td>565.0</td>\n",
       "      <td>2.0</td>\n",
       "      <td>1</td>\n",
       "    </tr>\n",
       "    <tr>\n",
       "      <th>...</th>\n",
       "      <td>...</td>\n",
       "      <td>...</td>\n",
       "      <td>...</td>\n",
       "      <td>...</td>\n",
       "      <td>...</td>\n",
       "      <td>...</td>\n",
       "      <td>...</td>\n",
       "      <td>...</td>\n",
       "      <td>...</td>\n",
       "      <td>...</td>\n",
       "      <td>...</td>\n",
       "      <td>...</td>\n",
       "      <td>...</td>\n",
       "    </tr>\n",
       "    <tr>\n",
       "      <th>8688</th>\n",
       "      <td>9276_01</td>\n",
       "      <td>Europa</td>\n",
       "      <td>0</td>\n",
       "      <td>A/98/P</td>\n",
       "      <td>55 Cancri e</td>\n",
       "      <td>41.0</td>\n",
       "      <td>1</td>\n",
       "      <td>0.0</td>\n",
       "      <td>6819.0</td>\n",
       "      <td>0.0</td>\n",
       "      <td>1643.0</td>\n",
       "      <td>74.0</td>\n",
       "      <td>0</td>\n",
       "    </tr>\n",
       "    <tr>\n",
       "      <th>8689</th>\n",
       "      <td>9278_01</td>\n",
       "      <td>Earth</td>\n",
       "      <td>1</td>\n",
       "      <td>G/1499/S</td>\n",
       "      <td>PSO J318.5-22</td>\n",
       "      <td>18.0</td>\n",
       "      <td>0</td>\n",
       "      <td>0.0</td>\n",
       "      <td>0.0</td>\n",
       "      <td>0.0</td>\n",
       "      <td>0.0</td>\n",
       "      <td>0.0</td>\n",
       "      <td>0</td>\n",
       "    </tr>\n",
       "    <tr>\n",
       "      <th>8690</th>\n",
       "      <td>9279_01</td>\n",
       "      <td>Earth</td>\n",
       "      <td>0</td>\n",
       "      <td>G/1500/S</td>\n",
       "      <td>TRAPPIST-1e</td>\n",
       "      <td>26.0</td>\n",
       "      <td>0</td>\n",
       "      <td>0.0</td>\n",
       "      <td>0.0</td>\n",
       "      <td>1872.0</td>\n",
       "      <td>1.0</td>\n",
       "      <td>0.0</td>\n",
       "      <td>1</td>\n",
       "    </tr>\n",
       "    <tr>\n",
       "      <th>8691</th>\n",
       "      <td>9280_01</td>\n",
       "      <td>Europa</td>\n",
       "      <td>0</td>\n",
       "      <td>E/608/S</td>\n",
       "      <td>55 Cancri e</td>\n",
       "      <td>32.0</td>\n",
       "      <td>0</td>\n",
       "      <td>0.0</td>\n",
       "      <td>1049.0</td>\n",
       "      <td>0.0</td>\n",
       "      <td>353.0</td>\n",
       "      <td>3235.0</td>\n",
       "      <td>0</td>\n",
       "    </tr>\n",
       "    <tr>\n",
       "      <th>8692</th>\n",
       "      <td>9280_02</td>\n",
       "      <td>Europa</td>\n",
       "      <td>0</td>\n",
       "      <td>E/608/S</td>\n",
       "      <td>TRAPPIST-1e</td>\n",
       "      <td>44.0</td>\n",
       "      <td>0</td>\n",
       "      <td>126.0</td>\n",
       "      <td>4688.0</td>\n",
       "      <td>0.0</td>\n",
       "      <td>0.0</td>\n",
       "      <td>12.0</td>\n",
       "      <td>1</td>\n",
       "    </tr>\n",
       "  </tbody>\n",
       "</table>\n",
       "<p>8693 rows × 13 columns</p>\n",
       "</div>"
      ],
      "text/plain": [
       "     PassengerId HomePlanet CryoSleep     Cabin    Destination   Age VIP  \\\n",
       "0        0001_01     Europa         0     B/0/P    TRAPPIST-1e  39.0   0   \n",
       "1        0002_01      Earth         0     F/0/S    TRAPPIST-1e  24.0   0   \n",
       "2        0003_01     Europa         0     A/0/S    TRAPPIST-1e  58.0   1   \n",
       "3        0003_02     Europa         0     A/0/S    TRAPPIST-1e  33.0   0   \n",
       "4        0004_01      Earth         0     F/1/S    TRAPPIST-1e  16.0   0   \n",
       "...          ...        ...       ...       ...            ...   ...  ..   \n",
       "8688     9276_01     Europa         0    A/98/P    55 Cancri e  41.0   1   \n",
       "8689     9278_01      Earth         1  G/1499/S  PSO J318.5-22  18.0   0   \n",
       "8690     9279_01      Earth         0  G/1500/S    TRAPPIST-1e  26.0   0   \n",
       "8691     9280_01     Europa         0   E/608/S    55 Cancri e  32.0   0   \n",
       "8692     9280_02     Europa         0   E/608/S    TRAPPIST-1e  44.0   0   \n",
       "\n",
       "      RoomService  FoodCourt  ShoppingMall     Spa  VRDeck Transported  \n",
       "0             0.0        0.0           0.0     0.0     0.0           0  \n",
       "1           109.0        9.0          25.0   549.0    44.0           1  \n",
       "2            43.0     3576.0           0.0  6715.0    49.0           0  \n",
       "3             0.0     1283.0         371.0  3329.0   193.0           0  \n",
       "4           303.0       70.0         151.0   565.0     2.0           1  \n",
       "...           ...        ...           ...     ...     ...         ...  \n",
       "8688          0.0     6819.0           0.0  1643.0    74.0           0  \n",
       "8689          0.0        0.0           0.0     0.0     0.0           0  \n",
       "8690          0.0        0.0        1872.0     1.0     0.0           1  \n",
       "8691          0.0     1049.0           0.0   353.0  3235.0           0  \n",
       "8692        126.0     4688.0           0.0     0.0    12.0           1  \n",
       "\n",
       "[8693 rows x 13 columns]"
      ]
     },
     "execution_count": 53,
     "metadata": {},
     "output_type": "execute_result"
    }
   ],
   "source": [
    "train_df"
   ]
  },
  {
   "cell_type": "code",
   "execution_count": 54,
   "id": "07460cb6",
   "metadata": {
    "execution": {
     "iopub.execute_input": "2023-03-22T13:03:08.375563Z",
     "iopub.status.busy": "2023-03-22T13:03:08.374554Z",
     "iopub.status.idle": "2023-03-22T13:03:08.464022Z",
     "shell.execute_reply": "2023-03-22T13:03:08.462489Z"
    },
    "id": "VgFUofTFrgZ1",
    "outputId": "e425a88f-99a2-4b5b-f671-3c0ca7f186ef",
    "papermill": {
     "duration": 0.125259,
     "end_time": "2023-03-22T13:03:08.466292",
     "exception": false,
     "start_time": "2023-03-22T13:03:08.341033",
     "status": "completed"
    },
    "tags": []
   },
   "outputs": [
    {
     "name": "stderr",
     "output_type": "stream",
     "text": [
      "/opt/conda/lib/python3.7/site-packages/ipykernel_launcher.py:5: SettingWithCopyWarning: \n",
      "A value is trying to be set on a copy of a slice from a DataFrame\n",
      "\n",
      "See the caveats in the documentation: https://pandas.pydata.org/pandas-docs/stable/user_guide/indexing.html#returning-a-view-versus-a-copy\n",
      "  \"\"\"\n",
      "/opt/conda/lib/python3.7/site-packages/pandas/core/indexing.py:1732: SettingWithCopyWarning: \n",
      "A value is trying to be set on a copy of a slice from a DataFrame\n",
      "\n",
      "See the caveats in the documentation: https://pandas.pydata.org/pandas-docs/stable/user_guide/indexing.html#returning-a-view-versus-a-copy\n",
      "  self._setitem_single_block(indexer, value, name)\n"
     ]
    }
   ],
   "source": [
    "for i in test_df.index:\n",
    "  if test_df['VIP'][i] == True:\n",
    "    test_df['VIP'][i] = 1\n",
    "  elif test_df['VIP'][i] == False:\n",
    "    test_df['VIP'][i] = 0"
   ]
  },
  {
   "cell_type": "code",
   "execution_count": 55,
   "id": "1941a68b",
   "metadata": {
    "execution": {
     "iopub.execute_input": "2023-03-22T13:03:08.528265Z",
     "iopub.status.busy": "2023-03-22T13:03:08.527717Z",
     "iopub.status.idle": "2023-03-22T13:03:08.552913Z",
     "shell.execute_reply": "2023-03-22T13:03:08.551433Z"
    },
    "id": "cMc7mgP8rk1w",
    "outputId": "09d7476f-d77b-4883-80ac-ceffe3095b64",
    "papermill": {
     "duration": 0.059897,
     "end_time": "2023-03-22T13:03:08.556027",
     "exception": false,
     "start_time": "2023-03-22T13:03:08.496130",
     "status": "completed"
    },
    "tags": []
   },
   "outputs": [
    {
     "data": {
      "text/html": [
       "<div>\n",
       "<style scoped>\n",
       "    .dataframe tbody tr th:only-of-type {\n",
       "        vertical-align: middle;\n",
       "    }\n",
       "\n",
       "    .dataframe tbody tr th {\n",
       "        vertical-align: top;\n",
       "    }\n",
       "\n",
       "    .dataframe thead th {\n",
       "        text-align: right;\n",
       "    }\n",
       "</style>\n",
       "<table border=\"1\" class=\"dataframe\">\n",
       "  <thead>\n",
       "    <tr style=\"text-align: right;\">\n",
       "      <th></th>\n",
       "      <th>PassengerId</th>\n",
       "      <th>HomePlanet</th>\n",
       "      <th>CryoSleep</th>\n",
       "      <th>Cabin</th>\n",
       "      <th>Destination</th>\n",
       "      <th>Age</th>\n",
       "      <th>VIP</th>\n",
       "      <th>RoomService</th>\n",
       "      <th>FoodCourt</th>\n",
       "      <th>ShoppingMall</th>\n",
       "      <th>Spa</th>\n",
       "      <th>VRDeck</th>\n",
       "      <th>Name</th>\n",
       "    </tr>\n",
       "  </thead>\n",
       "  <tbody>\n",
       "    <tr>\n",
       "      <th>0</th>\n",
       "      <td>0013_01</td>\n",
       "      <td>Earth</td>\n",
       "      <td>1</td>\n",
       "      <td>G/3/S</td>\n",
       "      <td>TRAPPIST-1e</td>\n",
       "      <td>27.0</td>\n",
       "      <td>0</td>\n",
       "      <td>0.0</td>\n",
       "      <td>0.0</td>\n",
       "      <td>0.0</td>\n",
       "      <td>0.0</td>\n",
       "      <td>0.0</td>\n",
       "      <td>Nelly Carsoning</td>\n",
       "    </tr>\n",
       "    <tr>\n",
       "      <th>1</th>\n",
       "      <td>0018_01</td>\n",
       "      <td>Earth</td>\n",
       "      <td>0</td>\n",
       "      <td>F/4/S</td>\n",
       "      <td>TRAPPIST-1e</td>\n",
       "      <td>19.0</td>\n",
       "      <td>0</td>\n",
       "      <td>0.0</td>\n",
       "      <td>9.0</td>\n",
       "      <td>0.0</td>\n",
       "      <td>2823.0</td>\n",
       "      <td>0.0</td>\n",
       "      <td>Lerome Peckers</td>\n",
       "    </tr>\n",
       "    <tr>\n",
       "      <th>2</th>\n",
       "      <td>0019_01</td>\n",
       "      <td>Europa</td>\n",
       "      <td>1</td>\n",
       "      <td>C/0/S</td>\n",
       "      <td>55 Cancri e</td>\n",
       "      <td>31.0</td>\n",
       "      <td>0</td>\n",
       "      <td>0.0</td>\n",
       "      <td>0.0</td>\n",
       "      <td>0.0</td>\n",
       "      <td>0.0</td>\n",
       "      <td>0.0</td>\n",
       "      <td>Sabih Unhearfus</td>\n",
       "    </tr>\n",
       "    <tr>\n",
       "      <th>3</th>\n",
       "      <td>0021_01</td>\n",
       "      <td>Europa</td>\n",
       "      <td>0</td>\n",
       "      <td>C/1/S</td>\n",
       "      <td>TRAPPIST-1e</td>\n",
       "      <td>38.0</td>\n",
       "      <td>0</td>\n",
       "      <td>0.0</td>\n",
       "      <td>6652.0</td>\n",
       "      <td>0.0</td>\n",
       "      <td>181.0</td>\n",
       "      <td>585.0</td>\n",
       "      <td>Meratz Caltilter</td>\n",
       "    </tr>\n",
       "    <tr>\n",
       "      <th>4</th>\n",
       "      <td>0023_01</td>\n",
       "      <td>Earth</td>\n",
       "      <td>0</td>\n",
       "      <td>F/5/S</td>\n",
       "      <td>TRAPPIST-1e</td>\n",
       "      <td>20.0</td>\n",
       "      <td>0</td>\n",
       "      <td>10.0</td>\n",
       "      <td>0.0</td>\n",
       "      <td>635.0</td>\n",
       "      <td>0.0</td>\n",
       "      <td>0.0</td>\n",
       "      <td>Brence Harperez</td>\n",
       "    </tr>\n",
       "    <tr>\n",
       "      <th>...</th>\n",
       "      <td>...</td>\n",
       "      <td>...</td>\n",
       "      <td>...</td>\n",
       "      <td>...</td>\n",
       "      <td>...</td>\n",
       "      <td>...</td>\n",
       "      <td>...</td>\n",
       "      <td>...</td>\n",
       "      <td>...</td>\n",
       "      <td>...</td>\n",
       "      <td>...</td>\n",
       "      <td>...</td>\n",
       "      <td>...</td>\n",
       "    </tr>\n",
       "    <tr>\n",
       "      <th>4272</th>\n",
       "      <td>9266_02</td>\n",
       "      <td>Earth</td>\n",
       "      <td>1</td>\n",
       "      <td>G/1496/S</td>\n",
       "      <td>TRAPPIST-1e</td>\n",
       "      <td>34.0</td>\n",
       "      <td>0</td>\n",
       "      <td>0.0</td>\n",
       "      <td>0.0</td>\n",
       "      <td>0.0</td>\n",
       "      <td>0.0</td>\n",
       "      <td>0.0</td>\n",
       "      <td>Jeron Peter</td>\n",
       "    </tr>\n",
       "    <tr>\n",
       "      <th>4273</th>\n",
       "      <td>9269_01</td>\n",
       "      <td>Earth</td>\n",
       "      <td>0</td>\n",
       "      <td>G/734/S</td>\n",
       "      <td>TRAPPIST-1e</td>\n",
       "      <td>42.0</td>\n",
       "      <td>0</td>\n",
       "      <td>0.0</td>\n",
       "      <td>847.0</td>\n",
       "      <td>17.0</td>\n",
       "      <td>10.0</td>\n",
       "      <td>144.0</td>\n",
       "      <td>Matty Scheron</td>\n",
       "    </tr>\n",
       "    <tr>\n",
       "      <th>4274</th>\n",
       "      <td>9271_01</td>\n",
       "      <td>Mars</td>\n",
       "      <td>1</td>\n",
       "      <td>D/296/P</td>\n",
       "      <td>55 Cancri e</td>\n",
       "      <td>29.0</td>\n",
       "      <td>0</td>\n",
       "      <td>0.0</td>\n",
       "      <td>0.0</td>\n",
       "      <td>0.0</td>\n",
       "      <td>0.0</td>\n",
       "      <td>0.0</td>\n",
       "      <td>Jayrin Pore</td>\n",
       "    </tr>\n",
       "    <tr>\n",
       "      <th>4275</th>\n",
       "      <td>9273_01</td>\n",
       "      <td>Europa</td>\n",
       "      <td>0</td>\n",
       "      <td>D/297/P</td>\n",
       "      <td>PSO J318.5-22</td>\n",
       "      <td>29.0</td>\n",
       "      <td>0</td>\n",
       "      <td>0.0</td>\n",
       "      <td>2680.0</td>\n",
       "      <td>0.0</td>\n",
       "      <td>0.0</td>\n",
       "      <td>523.0</td>\n",
       "      <td>Kitakan Conale</td>\n",
       "    </tr>\n",
       "    <tr>\n",
       "      <th>4276</th>\n",
       "      <td>9277_01</td>\n",
       "      <td>Earth</td>\n",
       "      <td>1</td>\n",
       "      <td>G/1498/S</td>\n",
       "      <td>PSO J318.5-22</td>\n",
       "      <td>43.0</td>\n",
       "      <td>0</td>\n",
       "      <td>0.0</td>\n",
       "      <td>0.0</td>\n",
       "      <td>0.0</td>\n",
       "      <td>0.0</td>\n",
       "      <td>0.0</td>\n",
       "      <td>Lilace Leonzaley</td>\n",
       "    </tr>\n",
       "  </tbody>\n",
       "</table>\n",
       "<p>4277 rows × 13 columns</p>\n",
       "</div>"
      ],
      "text/plain": [
       "     PassengerId HomePlanet CryoSleep     Cabin    Destination   Age VIP  \\\n",
       "0        0013_01      Earth         1     G/3/S    TRAPPIST-1e  27.0   0   \n",
       "1        0018_01      Earth         0     F/4/S    TRAPPIST-1e  19.0   0   \n",
       "2        0019_01     Europa         1     C/0/S    55 Cancri e  31.0   0   \n",
       "3        0021_01     Europa         0     C/1/S    TRAPPIST-1e  38.0   0   \n",
       "4        0023_01      Earth         0     F/5/S    TRAPPIST-1e  20.0   0   \n",
       "...          ...        ...       ...       ...            ...   ...  ..   \n",
       "4272     9266_02      Earth         1  G/1496/S    TRAPPIST-1e  34.0   0   \n",
       "4273     9269_01      Earth         0   G/734/S    TRAPPIST-1e  42.0   0   \n",
       "4274     9271_01       Mars         1   D/296/P    55 Cancri e  29.0   0   \n",
       "4275     9273_01     Europa         0   D/297/P  PSO J318.5-22  29.0   0   \n",
       "4276     9277_01      Earth         1  G/1498/S  PSO J318.5-22  43.0   0   \n",
       "\n",
       "      RoomService  FoodCourt  ShoppingMall     Spa  VRDeck              Name  \n",
       "0             0.0        0.0           0.0     0.0     0.0   Nelly Carsoning  \n",
       "1             0.0        9.0           0.0  2823.0     0.0    Lerome Peckers  \n",
       "2             0.0        0.0           0.0     0.0     0.0   Sabih Unhearfus  \n",
       "3             0.0     6652.0           0.0   181.0   585.0  Meratz Caltilter  \n",
       "4            10.0        0.0         635.0     0.0     0.0   Brence Harperez  \n",
       "...           ...        ...           ...     ...     ...               ...  \n",
       "4272          0.0        0.0           0.0     0.0     0.0       Jeron Peter  \n",
       "4273          0.0      847.0          17.0    10.0   144.0     Matty Scheron  \n",
       "4274          0.0        0.0           0.0     0.0     0.0       Jayrin Pore  \n",
       "4275          0.0     2680.0           0.0     0.0   523.0    Kitakan Conale  \n",
       "4276          0.0        0.0           0.0     0.0     0.0  Lilace Leonzaley  \n",
       "\n",
       "[4277 rows x 13 columns]"
      ]
     },
     "execution_count": 55,
     "metadata": {},
     "output_type": "execute_result"
    }
   ],
   "source": [
    "test_df"
   ]
  },
  {
   "cell_type": "code",
   "execution_count": 56,
   "id": "a28c5615",
   "metadata": {
    "execution": {
     "iopub.execute_input": "2023-03-22T13:03:08.619232Z",
     "iopub.status.busy": "2023-03-22T13:03:08.618846Z",
     "iopub.status.idle": "2023-03-22T13:03:08.629971Z",
     "shell.execute_reply": "2023-03-22T13:03:08.628199Z"
    },
    "id": "Uvi1hQSVrrUf",
    "papermill": {
     "duration": 0.046085,
     "end_time": "2023-03-22T13:03:08.632821",
     "exception": false,
     "start_time": "2023-03-22T13:03:08.586736",
     "status": "completed"
    },
    "tags": []
   },
   "outputs": [],
   "source": [
    "test_df.drop(['Name'], axis=1, inplace=True)\n",
    "test_df.drop(['Cabin'], axis=1, inplace=True)"
   ]
  },
  {
   "cell_type": "code",
   "execution_count": 57,
   "id": "9cd43568",
   "metadata": {
    "execution": {
     "iopub.execute_input": "2023-03-22T13:03:08.698298Z",
     "iopub.status.busy": "2023-03-22T13:03:08.697560Z",
     "iopub.status.idle": "2023-03-22T13:03:08.705386Z",
     "shell.execute_reply": "2023-03-22T13:03:08.704292Z"
    },
    "id": "TAXyCKqvL8e9",
    "papermill": {
     "duration": 0.042694,
     "end_time": "2023-03-22T13:03:08.707916",
     "exception": false,
     "start_time": "2023-03-22T13:03:08.665222",
     "status": "completed"
    },
    "tags": []
   },
   "outputs": [],
   "source": [
    "train_df.drop(['PassengerId'], axis=1, inplace=True)"
   ]
  },
  {
   "cell_type": "code",
   "execution_count": 58,
   "id": "fba95b79",
   "metadata": {
    "execution": {
     "iopub.execute_input": "2023-03-22T13:03:08.771598Z",
     "iopub.status.busy": "2023-03-22T13:03:08.770250Z",
     "iopub.status.idle": "2023-03-22T13:03:08.776996Z",
     "shell.execute_reply": "2023-03-22T13:03:08.776311Z"
    },
    "id": "uhRwrGdTVo7m",
    "papermill": {
     "duration": 0.04041,
     "end_time": "2023-03-22T13:03:08.778922",
     "exception": false,
     "start_time": "2023-03-22T13:03:08.738512",
     "status": "completed"
    },
    "tags": []
   },
   "outputs": [],
   "source": [
    "train_df.drop(['Cabin'], axis=1, inplace=True)"
   ]
  },
  {
   "cell_type": "code",
   "execution_count": 59,
   "id": "33c2e52b",
   "metadata": {
    "execution": {
     "iopub.execute_input": "2023-03-22T13:03:08.844029Z",
     "iopub.status.busy": "2023-03-22T13:03:08.842151Z",
     "iopub.status.idle": "2023-03-22T13:03:08.866657Z",
     "shell.execute_reply": "2023-03-22T13:03:08.865717Z"
    },
    "id": "g5SuDez4MA9V",
    "outputId": "17dc4299-21cb-4a66-d313-61b1f44f033c",
    "papermill": {
     "duration": 0.058999,
     "end_time": "2023-03-22T13:03:08.868645",
     "exception": false,
     "start_time": "2023-03-22T13:03:08.809646",
     "status": "completed"
    },
    "tags": []
   },
   "outputs": [
    {
     "data": {
      "text/html": [
       "<div>\n",
       "<style scoped>\n",
       "    .dataframe tbody tr th:only-of-type {\n",
       "        vertical-align: middle;\n",
       "    }\n",
       "\n",
       "    .dataframe tbody tr th {\n",
       "        vertical-align: top;\n",
       "    }\n",
       "\n",
       "    .dataframe thead th {\n",
       "        text-align: right;\n",
       "    }\n",
       "</style>\n",
       "<table border=\"1\" class=\"dataframe\">\n",
       "  <thead>\n",
       "    <tr style=\"text-align: right;\">\n",
       "      <th></th>\n",
       "      <th>HomePlanet</th>\n",
       "      <th>CryoSleep</th>\n",
       "      <th>Destination</th>\n",
       "      <th>Age</th>\n",
       "      <th>VIP</th>\n",
       "      <th>RoomService</th>\n",
       "      <th>FoodCourt</th>\n",
       "      <th>ShoppingMall</th>\n",
       "      <th>Spa</th>\n",
       "      <th>VRDeck</th>\n",
       "      <th>Transported</th>\n",
       "    </tr>\n",
       "  </thead>\n",
       "  <tbody>\n",
       "    <tr>\n",
       "      <th>0</th>\n",
       "      <td>Europa</td>\n",
       "      <td>0</td>\n",
       "      <td>TRAPPIST-1e</td>\n",
       "      <td>39.0</td>\n",
       "      <td>0</td>\n",
       "      <td>0.0</td>\n",
       "      <td>0.0</td>\n",
       "      <td>0.0</td>\n",
       "      <td>0.0</td>\n",
       "      <td>0.0</td>\n",
       "      <td>0</td>\n",
       "    </tr>\n",
       "    <tr>\n",
       "      <th>1</th>\n",
       "      <td>Earth</td>\n",
       "      <td>0</td>\n",
       "      <td>TRAPPIST-1e</td>\n",
       "      <td>24.0</td>\n",
       "      <td>0</td>\n",
       "      <td>109.0</td>\n",
       "      <td>9.0</td>\n",
       "      <td>25.0</td>\n",
       "      <td>549.0</td>\n",
       "      <td>44.0</td>\n",
       "      <td>1</td>\n",
       "    </tr>\n",
       "    <tr>\n",
       "      <th>2</th>\n",
       "      <td>Europa</td>\n",
       "      <td>0</td>\n",
       "      <td>TRAPPIST-1e</td>\n",
       "      <td>58.0</td>\n",
       "      <td>1</td>\n",
       "      <td>43.0</td>\n",
       "      <td>3576.0</td>\n",
       "      <td>0.0</td>\n",
       "      <td>6715.0</td>\n",
       "      <td>49.0</td>\n",
       "      <td>0</td>\n",
       "    </tr>\n",
       "    <tr>\n",
       "      <th>3</th>\n",
       "      <td>Europa</td>\n",
       "      <td>0</td>\n",
       "      <td>TRAPPIST-1e</td>\n",
       "      <td>33.0</td>\n",
       "      <td>0</td>\n",
       "      <td>0.0</td>\n",
       "      <td>1283.0</td>\n",
       "      <td>371.0</td>\n",
       "      <td>3329.0</td>\n",
       "      <td>193.0</td>\n",
       "      <td>0</td>\n",
       "    </tr>\n",
       "    <tr>\n",
       "      <th>4</th>\n",
       "      <td>Earth</td>\n",
       "      <td>0</td>\n",
       "      <td>TRAPPIST-1e</td>\n",
       "      <td>16.0</td>\n",
       "      <td>0</td>\n",
       "      <td>303.0</td>\n",
       "      <td>70.0</td>\n",
       "      <td>151.0</td>\n",
       "      <td>565.0</td>\n",
       "      <td>2.0</td>\n",
       "      <td>1</td>\n",
       "    </tr>\n",
       "    <tr>\n",
       "      <th>...</th>\n",
       "      <td>...</td>\n",
       "      <td>...</td>\n",
       "      <td>...</td>\n",
       "      <td>...</td>\n",
       "      <td>...</td>\n",
       "      <td>...</td>\n",
       "      <td>...</td>\n",
       "      <td>...</td>\n",
       "      <td>...</td>\n",
       "      <td>...</td>\n",
       "      <td>...</td>\n",
       "    </tr>\n",
       "    <tr>\n",
       "      <th>8688</th>\n",
       "      <td>Europa</td>\n",
       "      <td>0</td>\n",
       "      <td>55 Cancri e</td>\n",
       "      <td>41.0</td>\n",
       "      <td>1</td>\n",
       "      <td>0.0</td>\n",
       "      <td>6819.0</td>\n",
       "      <td>0.0</td>\n",
       "      <td>1643.0</td>\n",
       "      <td>74.0</td>\n",
       "      <td>0</td>\n",
       "    </tr>\n",
       "    <tr>\n",
       "      <th>8689</th>\n",
       "      <td>Earth</td>\n",
       "      <td>1</td>\n",
       "      <td>PSO J318.5-22</td>\n",
       "      <td>18.0</td>\n",
       "      <td>0</td>\n",
       "      <td>0.0</td>\n",
       "      <td>0.0</td>\n",
       "      <td>0.0</td>\n",
       "      <td>0.0</td>\n",
       "      <td>0.0</td>\n",
       "      <td>0</td>\n",
       "    </tr>\n",
       "    <tr>\n",
       "      <th>8690</th>\n",
       "      <td>Earth</td>\n",
       "      <td>0</td>\n",
       "      <td>TRAPPIST-1e</td>\n",
       "      <td>26.0</td>\n",
       "      <td>0</td>\n",
       "      <td>0.0</td>\n",
       "      <td>0.0</td>\n",
       "      <td>1872.0</td>\n",
       "      <td>1.0</td>\n",
       "      <td>0.0</td>\n",
       "      <td>1</td>\n",
       "    </tr>\n",
       "    <tr>\n",
       "      <th>8691</th>\n",
       "      <td>Europa</td>\n",
       "      <td>0</td>\n",
       "      <td>55 Cancri e</td>\n",
       "      <td>32.0</td>\n",
       "      <td>0</td>\n",
       "      <td>0.0</td>\n",
       "      <td>1049.0</td>\n",
       "      <td>0.0</td>\n",
       "      <td>353.0</td>\n",
       "      <td>3235.0</td>\n",
       "      <td>0</td>\n",
       "    </tr>\n",
       "    <tr>\n",
       "      <th>8692</th>\n",
       "      <td>Europa</td>\n",
       "      <td>0</td>\n",
       "      <td>TRAPPIST-1e</td>\n",
       "      <td>44.0</td>\n",
       "      <td>0</td>\n",
       "      <td>126.0</td>\n",
       "      <td>4688.0</td>\n",
       "      <td>0.0</td>\n",
       "      <td>0.0</td>\n",
       "      <td>12.0</td>\n",
       "      <td>1</td>\n",
       "    </tr>\n",
       "  </tbody>\n",
       "</table>\n",
       "<p>8693 rows × 11 columns</p>\n",
       "</div>"
      ],
      "text/plain": [
       "     HomePlanet CryoSleep    Destination   Age VIP  RoomService  FoodCourt  \\\n",
       "0        Europa         0    TRAPPIST-1e  39.0   0          0.0        0.0   \n",
       "1         Earth         0    TRAPPIST-1e  24.0   0        109.0        9.0   \n",
       "2        Europa         0    TRAPPIST-1e  58.0   1         43.0     3576.0   \n",
       "3        Europa         0    TRAPPIST-1e  33.0   0          0.0     1283.0   \n",
       "4         Earth         0    TRAPPIST-1e  16.0   0        303.0       70.0   \n",
       "...         ...       ...            ...   ...  ..          ...        ...   \n",
       "8688     Europa         0    55 Cancri e  41.0   1          0.0     6819.0   \n",
       "8689      Earth         1  PSO J318.5-22  18.0   0          0.0        0.0   \n",
       "8690      Earth         0    TRAPPIST-1e  26.0   0          0.0        0.0   \n",
       "8691     Europa         0    55 Cancri e  32.0   0          0.0     1049.0   \n",
       "8692     Europa         0    TRAPPIST-1e  44.0   0        126.0     4688.0   \n",
       "\n",
       "      ShoppingMall     Spa  VRDeck Transported  \n",
       "0              0.0     0.0     0.0           0  \n",
       "1             25.0   549.0    44.0           1  \n",
       "2              0.0  6715.0    49.0           0  \n",
       "3            371.0  3329.0   193.0           0  \n",
       "4            151.0   565.0     2.0           1  \n",
       "...            ...     ...     ...         ...  \n",
       "8688           0.0  1643.0    74.0           0  \n",
       "8689           0.0     0.0     0.0           0  \n",
       "8690        1872.0     1.0     0.0           1  \n",
       "8691           0.0   353.0  3235.0           0  \n",
       "8692           0.0     0.0    12.0           1  \n",
       "\n",
       "[8693 rows x 11 columns]"
      ]
     },
     "execution_count": 59,
     "metadata": {},
     "output_type": "execute_result"
    }
   ],
   "source": [
    "train_df"
   ]
  },
  {
   "cell_type": "markdown",
   "id": "7a63df15",
   "metadata": {
    "id": "TKNAj2wJGyou",
    "papermill": {
     "duration": 0.032021,
     "end_time": "2023-03-22T13:03:08.932642",
     "exception": false,
     "start_time": "2023-03-22T13:03:08.900621",
     "status": "completed"
    },
    "tags": []
   },
   "source": [
    "## EDA"
   ]
  },
  {
   "cell_type": "code",
   "execution_count": 60,
   "id": "556a01fa",
   "metadata": {
    "execution": {
     "iopub.execute_input": "2023-03-22T13:03:09.001254Z",
     "iopub.status.busy": "2023-03-22T13:03:08.999578Z",
     "iopub.status.idle": "2023-03-22T13:03:10.270722Z",
     "shell.execute_reply": "2023-03-22T13:03:10.269841Z"
    },
    "id": "K1L9OUFLF8Is",
    "outputId": "73220ece-ec04-4c25-e417-a002bd35dcb5",
    "papermill": {
     "duration": 1.307429,
     "end_time": "2023-03-22T13:03:10.272721",
     "exception": false,
     "start_time": "2023-03-22T13:03:08.965292",
     "status": "completed"
    },
    "tags": []
   },
   "outputs": [
    {
     "data": {
      "text/plain": [
       "array([[<AxesSubplot:title={'center':'Age'}>,\n",
       "        <AxesSubplot:title={'center':'RoomService'}>],\n",
       "       [<AxesSubplot:title={'center':'FoodCourt'}>,\n",
       "        <AxesSubplot:title={'center':'ShoppingMall'}>],\n",
       "       [<AxesSubplot:title={'center':'Spa'}>,\n",
       "        <AxesSubplot:title={'center':'VRDeck'}>]], dtype=object)"
      ]
     },
     "execution_count": 60,
     "metadata": {},
     "output_type": "execute_result"
    },
    {
     "data": {
      "image/png": "[encoded data removed]",
      "text/plain": [
       "<Figure size 2000x2000 with 6 Axes>"
      ]
     },
     "metadata": {},
     "output_type": "display_data"
    }
   ],
   "source": [
    "train_df.hist(bins=30, figsize=(20,20))"
   ]
  },
  {
   "cell_type": "code",
   "execution_count": 61,
   "id": "7502c3f3",
   "metadata": {
    "execution": {
     "iopub.execute_input": "2023-03-22T13:03:10.340320Z",
     "iopub.status.busy": "2023-03-22T13:03:10.339663Z",
     "iopub.status.idle": "2023-03-22T13:03:10.723127Z",
     "shell.execute_reply": "2023-03-22T13:03:10.721464Z"
    },
    "id": "be7CdvIHK6d6",
    "outputId": "1840da24-afe3-4c47-eb9e-fa9becf57416",
    "papermill": {
     "duration": 0.419679,
     "end_time": "2023-03-22T13:03:10.725394",
     "exception": false,
     "start_time": "2023-03-22T13:03:10.305715",
     "status": "completed"
    },
    "tags": []
   },
   "outputs": [
    {
     "data": {
      "text/plain": [
       "<AxesSubplot:>"
      ]
     },
     "execution_count": 61,
     "metadata": {},
     "output_type": "execute_result"
    },
    {
     "data": {
      "image/png": "[encoded data removed]",
      "text/plain": [
       "<Figure size 640x480 with 2 Axes>"
      ]
     },
     "metadata": {},
     "output_type": "display_data"
    }
   ],
   "source": [
    "correlations = train_df.corr()\n",
    "sns.heatmap(correlations, annot=True)"
   ]
  },
  {
   "cell_type": "code",
   "execution_count": 62,
   "id": "ac6a44bf",
   "metadata": {
    "execution": {
     "iopub.execute_input": "2023-03-22T13:03:10.792266Z",
     "iopub.status.busy": "2023-03-22T13:03:10.791880Z",
     "iopub.status.idle": "2023-03-22T13:03:10.810408Z",
     "shell.execute_reply": "2023-03-22T13:03:10.808850Z"
    },
    "id": "BS9xD6-mLzFB",
    "outputId": "8a617408-b52e-430c-8189-f9176b481536",
    "papermill": {
     "duration": 0.055328,
     "end_time": "2023-03-22T13:03:10.813290",
     "exception": false,
     "start_time": "2023-03-22T13:03:10.757962",
     "status": "completed"
    },
    "tags": []
   },
   "outputs": [
    {
     "data": {
      "text/html": [
       "<div>\n",
       "<style scoped>\n",
       "    .dataframe tbody tr th:only-of-type {\n",
       "        vertical-align: middle;\n",
       "    }\n",
       "\n",
       "    .dataframe tbody tr th {\n",
       "        vertical-align: top;\n",
       "    }\n",
       "\n",
       "    .dataframe thead th {\n",
       "        text-align: right;\n",
       "    }\n",
       "</style>\n",
       "<table border=\"1\" class=\"dataframe\">\n",
       "  <thead>\n",
       "    <tr style=\"text-align: right;\">\n",
       "      <th></th>\n",
       "      <th>HomePlanet</th>\n",
       "      <th>CryoSleep</th>\n",
       "      <th>Destination</th>\n",
       "      <th>Age</th>\n",
       "      <th>VIP</th>\n",
       "      <th>RoomService</th>\n",
       "      <th>FoodCourt</th>\n",
       "      <th>ShoppingMall</th>\n",
       "      <th>Spa</th>\n",
       "      <th>VRDeck</th>\n",
       "      <th>Transported</th>\n",
       "    </tr>\n",
       "  </thead>\n",
       "  <tbody>\n",
       "    <tr>\n",
       "      <th>0</th>\n",
       "      <td>Europa</td>\n",
       "      <td>0</td>\n",
       "      <td>TRAPPIST-1e</td>\n",
       "      <td>39.0</td>\n",
       "      <td>0</td>\n",
       "      <td>0.0</td>\n",
       "      <td>0.0</td>\n",
       "      <td>0.0</td>\n",
       "      <td>0.0</td>\n",
       "      <td>0.0</td>\n",
       "      <td>0</td>\n",
       "    </tr>\n",
       "    <tr>\n",
       "      <th>1</th>\n",
       "      <td>Earth</td>\n",
       "      <td>0</td>\n",
       "      <td>TRAPPIST-1e</td>\n",
       "      <td>24.0</td>\n",
       "      <td>0</td>\n",
       "      <td>109.0</td>\n",
       "      <td>9.0</td>\n",
       "      <td>25.0</td>\n",
       "      <td>549.0</td>\n",
       "      <td>44.0</td>\n",
       "      <td>1</td>\n",
       "    </tr>\n",
       "    <tr>\n",
       "      <th>2</th>\n",
       "      <td>Europa</td>\n",
       "      <td>0</td>\n",
       "      <td>TRAPPIST-1e</td>\n",
       "      <td>58.0</td>\n",
       "      <td>1</td>\n",
       "      <td>43.0</td>\n",
       "      <td>3576.0</td>\n",
       "      <td>0.0</td>\n",
       "      <td>6715.0</td>\n",
       "      <td>49.0</td>\n",
       "      <td>0</td>\n",
       "    </tr>\n",
       "    <tr>\n",
       "      <th>3</th>\n",
       "      <td>Europa</td>\n",
       "      <td>0</td>\n",
       "      <td>TRAPPIST-1e</td>\n",
       "      <td>33.0</td>\n",
       "      <td>0</td>\n",
       "      <td>0.0</td>\n",
       "      <td>1283.0</td>\n",
       "      <td>371.0</td>\n",
       "      <td>3329.0</td>\n",
       "      <td>193.0</td>\n",
       "      <td>0</td>\n",
       "    </tr>\n",
       "    <tr>\n",
       "      <th>4</th>\n",
       "      <td>Earth</td>\n",
       "      <td>0</td>\n",
       "      <td>TRAPPIST-1e</td>\n",
       "      <td>16.0</td>\n",
       "      <td>0</td>\n",
       "      <td>303.0</td>\n",
       "      <td>70.0</td>\n",
       "      <td>151.0</td>\n",
       "      <td>565.0</td>\n",
       "      <td>2.0</td>\n",
       "      <td>1</td>\n",
       "    </tr>\n",
       "  </tbody>\n",
       "</table>\n",
       "</div>"
      ],
      "text/plain": [
       "  HomePlanet CryoSleep  Destination   Age VIP  RoomService  FoodCourt  \\\n",
       "0     Europa         0  TRAPPIST-1e  39.0   0          0.0        0.0   \n",
       "1      Earth         0  TRAPPIST-1e  24.0   0        109.0        9.0   \n",
       "2     Europa         0  TRAPPIST-1e  58.0   1         43.0     3576.0   \n",
       "3     Europa         0  TRAPPIST-1e  33.0   0          0.0     1283.0   \n",
       "4      Earth         0  TRAPPIST-1e  16.0   0        303.0       70.0   \n",
       "\n",
       "   ShoppingMall     Spa  VRDeck Transported  \n",
       "0           0.0     0.0     0.0           0  \n",
       "1          25.0   549.0    44.0           1  \n",
       "2           0.0  6715.0    49.0           0  \n",
       "3         371.0  3329.0   193.0           0  \n",
       "4         151.0   565.0     2.0           1  "
      ]
     },
     "execution_count": 62,
     "metadata": {},
     "output_type": "execute_result"
    }
   ],
   "source": [
    "train_df.head()"
   ]
  },
  {
   "cell_type": "code",
   "execution_count": 63,
   "id": "77a8d6b1",
   "metadata": {
    "execution": {
     "iopub.execute_input": "2023-03-22T13:03:10.881373Z",
     "iopub.status.busy": "2023-03-22T13:03:10.881013Z",
     "iopub.status.idle": "2023-03-22T13:03:11.077508Z",
     "shell.execute_reply": "2023-03-22T13:03:11.075657Z"
    },
    "id": "lf1-fx7iMf_x",
    "outputId": "7fc80bc2-0f1b-4f59-aa64-16e1ef3e1695",
    "papermill": {
     "duration": 0.233365,
     "end_time": "2023-03-22T13:03:11.080006",
     "exception": false,
     "start_time": "2023-03-22T13:03:10.846641",
     "status": "completed"
    },
    "tags": []
   },
   "outputs": [
    {
     "data": {
      "text/plain": [
       "<AxesSubplot:xlabel='HomePlanet', ylabel='count'>"
      ]
     },
     "execution_count": 63,
     "metadata": {},
     "output_type": "execute_result"
    },
    {
     "data": {
      "image/png": "[encoded data removed]",
      "text/plain": [
       "<Figure size 640x480 with 1 Axes>"
      ]
     },
     "metadata": {},
     "output_type": "display_data"
    }
   ],
   "source": [
    "sns.countplot(data=train_df, x='HomePlanet', hue='Transported')"
   ]
  },
  {
   "cell_type": "code",
   "execution_count": 64,
   "id": "e22c31e4",
   "metadata": {
    "execution": {
     "iopub.execute_input": "2023-03-22T13:03:11.150064Z",
     "iopub.status.busy": "2023-03-22T13:03:11.149658Z",
     "iopub.status.idle": "2023-03-22T13:03:11.336153Z",
     "shell.execute_reply": "2023-03-22T13:03:11.335043Z"
    },
    "id": "3YRT_VDDND6J",
    "outputId": "d2f044b2-242f-4557-db06-582b7d293410",
    "papermill": {
     "duration": 0.223957,
     "end_time": "2023-03-22T13:03:11.338659",
     "exception": false,
     "start_time": "2023-03-22T13:03:11.114702",
     "status": "completed"
    },
    "tags": []
   },
   "outputs": [
    {
     "data": {
      "text/plain": [
       "<AxesSubplot:xlabel='Destination', ylabel='count'>"
      ]
     },
     "execution_count": 64,
     "metadata": {},
     "output_type": "execute_result"
    },
    {
     "data": {
      "image/png": "[encoded data removed]",
      "text/plain": [
       "<Figure size 640x480 with 1 Axes>"
      ]
     },
     "metadata": {},
     "output_type": "display_data"
    }
   ],
   "source": [
    "sns.countplot(data=train_df, x='Destination', hue='Transported')"
   ]
  },
  {
   "cell_type": "code",
   "execution_count": 65,
   "id": "216d7e56",
   "metadata": {
    "execution": {
     "iopub.execute_input": "2023-03-22T13:03:11.411174Z",
     "iopub.status.busy": "2023-03-22T13:03:11.410828Z",
     "iopub.status.idle": "2023-03-22T13:03:11.752075Z",
     "shell.execute_reply": "2023-03-22T13:03:11.750784Z"
    },
    "id": "BQwWGYNzOAYQ",
    "outputId": "0610b813-2656-442f-d5cd-72f4285ece3b",
    "papermill": {
     "duration": 0.38044,
     "end_time": "2023-03-22T13:03:11.754887",
     "exception": false,
     "start_time": "2023-03-22T13:03:11.374447",
     "status": "completed"
    },
    "tags": []
   },
   "outputs": [
    {
     "data": {
      "text/plain": [
       "<AxesSubplot:xlabel='Destination', ylabel='count'>"
      ]
     },
     "execution_count": 65,
     "metadata": {},
     "output_type": "execute_result"
    },
    {
     "data": {
      "image/png": "[encoded data removed]",
      "text/plain": [
       "<Figure size 640x480 with 1 Axes>"
      ]
     },
     "metadata": {},
     "output_type": "display_data"
    }
   ],
   "source": [
    "sns.countplot(data=train_df, x='Destination', hue='VIP')"
   ]
  },
  {
   "cell_type": "code",
   "execution_count": 66,
   "id": "7bda5ca6",
   "metadata": {
    "execution": {
     "iopub.execute_input": "2023-03-22T13:03:11.824711Z",
     "iopub.status.busy": "2023-03-22T13:03:11.824150Z",
     "iopub.status.idle": "2023-03-22T13:03:11.997572Z",
     "shell.execute_reply": "2023-03-22T13:03:11.996263Z"
    },
    "id": "_twIUyQcOkkB",
    "outputId": "5db440fd-b0ae-4973-f718-0b315bc4fa31",
    "papermill": {
     "duration": 0.210561,
     "end_time": "2023-03-22T13:03:11.999719",
     "exception": false,
     "start_time": "2023-03-22T13:03:11.789158",
     "status": "completed"
    },
    "tags": []
   },
   "outputs": [
    {
     "data": {
      "text/plain": [
       "<AxesSubplot:xlabel='HomePlanet', ylabel='count'>"
      ]
     },
     "execution_count": 66,
     "metadata": {},
     "output_type": "execute_result"
    },
    {
     "data": {
      "image/png": "[encoded data removed]",
      "text/plain": [
       "<Figure size 640x480 with 1 Axes>"
      ]
     },
     "metadata": {},
     "output_type": "display_data"
    }
   ],
   "source": [
    "sns.countplot(data=train_df, x='HomePlanet', hue='VIP')"
   ]
  },
  {
   "cell_type": "markdown",
   "id": "373a371a",
   "metadata": {
    "id": "geluP7fbPZwl",
    "papermill": {
     "duration": 0.034543,
     "end_time": "2023-03-22T13:03:12.068684",
     "exception": false,
     "start_time": "2023-03-22T13:03:12.034141",
     "status": "completed"
    },
    "tags": []
   },
   "source": [
    "## Applying ML Algorithm"
   ]
  },
  {
   "cell_type": "code",
   "execution_count": 67,
   "id": "1c9713e8",
   "metadata": {
    "execution": {
     "iopub.execute_input": "2023-03-22T13:03:12.140769Z",
     "iopub.status.busy": "2023-03-22T13:03:12.140038Z",
     "iopub.status.idle": "2023-03-22T13:03:12.158949Z",
     "shell.execute_reply": "2023-03-22T13:03:12.157203Z"
    },
    "id": "PGlG7IQhUQub",
    "outputId": "7b6b2a92-abf3-4a8b-826c-7e7fe928ba70",
    "papermill": {
     "duration": 0.05856,
     "end_time": "2023-03-22T13:03:12.162210",
     "exception": false,
     "start_time": "2023-03-22T13:03:12.103650",
     "status": "completed"
    },
    "tags": []
   },
   "outputs": [
    {
     "data": {
      "text/html": [
       "<div>\n",
       "<style scoped>\n",
       "    .dataframe tbody tr th:only-of-type {\n",
       "        vertical-align: middle;\n",
       "    }\n",
       "\n",
       "    .dataframe tbody tr th {\n",
       "        vertical-align: top;\n",
       "    }\n",
       "\n",
       "    .dataframe thead th {\n",
       "        text-align: right;\n",
       "    }\n",
       "</style>\n",
       "<table border=\"1\" class=\"dataframe\">\n",
       "  <thead>\n",
       "    <tr style=\"text-align: right;\">\n",
       "      <th></th>\n",
       "      <th>HomePlanet</th>\n",
       "      <th>CryoSleep</th>\n",
       "      <th>Destination</th>\n",
       "      <th>Age</th>\n",
       "      <th>VIP</th>\n",
       "      <th>RoomService</th>\n",
       "      <th>FoodCourt</th>\n",
       "      <th>ShoppingMall</th>\n",
       "      <th>Spa</th>\n",
       "      <th>VRDeck</th>\n",
       "      <th>Transported</th>\n",
       "    </tr>\n",
       "  </thead>\n",
       "  <tbody>\n",
       "    <tr>\n",
       "      <th>0</th>\n",
       "      <td>Europa</td>\n",
       "      <td>0</td>\n",
       "      <td>TRAPPIST-1e</td>\n",
       "      <td>39.0</td>\n",
       "      <td>0</td>\n",
       "      <td>0.0</td>\n",
       "      <td>0.0</td>\n",
       "      <td>0.0</td>\n",
       "      <td>0.0</td>\n",
       "      <td>0.0</td>\n",
       "      <td>0</td>\n",
       "    </tr>\n",
       "    <tr>\n",
       "      <th>1</th>\n",
       "      <td>Earth</td>\n",
       "      <td>0</td>\n",
       "      <td>TRAPPIST-1e</td>\n",
       "      <td>24.0</td>\n",
       "      <td>0</td>\n",
       "      <td>109.0</td>\n",
       "      <td>9.0</td>\n",
       "      <td>25.0</td>\n",
       "      <td>549.0</td>\n",
       "      <td>44.0</td>\n",
       "      <td>1</td>\n",
       "    </tr>\n",
       "    <tr>\n",
       "      <th>2</th>\n",
       "      <td>Europa</td>\n",
       "      <td>0</td>\n",
       "      <td>TRAPPIST-1e</td>\n",
       "      <td>58.0</td>\n",
       "      <td>1</td>\n",
       "      <td>43.0</td>\n",
       "      <td>3576.0</td>\n",
       "      <td>0.0</td>\n",
       "      <td>6715.0</td>\n",
       "      <td>49.0</td>\n",
       "      <td>0</td>\n",
       "    </tr>\n",
       "    <tr>\n",
       "      <th>3</th>\n",
       "      <td>Europa</td>\n",
       "      <td>0</td>\n",
       "      <td>TRAPPIST-1e</td>\n",
       "      <td>33.0</td>\n",
       "      <td>0</td>\n",
       "      <td>0.0</td>\n",
       "      <td>1283.0</td>\n",
       "      <td>371.0</td>\n",
       "      <td>3329.0</td>\n",
       "      <td>193.0</td>\n",
       "      <td>0</td>\n",
       "    </tr>\n",
       "    <tr>\n",
       "      <th>4</th>\n",
       "      <td>Earth</td>\n",
       "      <td>0</td>\n",
       "      <td>TRAPPIST-1e</td>\n",
       "      <td>16.0</td>\n",
       "      <td>0</td>\n",
       "      <td>303.0</td>\n",
       "      <td>70.0</td>\n",
       "      <td>151.0</td>\n",
       "      <td>565.0</td>\n",
       "      <td>2.0</td>\n",
       "      <td>1</td>\n",
       "    </tr>\n",
       "  </tbody>\n",
       "</table>\n",
       "</div>"
      ],
      "text/plain": [
       "  HomePlanet CryoSleep  Destination   Age VIP  RoomService  FoodCourt  \\\n",
       "0     Europa         0  TRAPPIST-1e  39.0   0          0.0        0.0   \n",
       "1      Earth         0  TRAPPIST-1e  24.0   0        109.0        9.0   \n",
       "2     Europa         0  TRAPPIST-1e  58.0   1         43.0     3576.0   \n",
       "3     Europa         0  TRAPPIST-1e  33.0   0          0.0     1283.0   \n",
       "4      Earth         0  TRAPPIST-1e  16.0   0        303.0       70.0   \n",
       "\n",
       "   ShoppingMall     Spa  VRDeck Transported  \n",
       "0           0.0     0.0     0.0           0  \n",
       "1          25.0   549.0    44.0           1  \n",
       "2           0.0  6715.0    49.0           0  \n",
       "3         371.0  3329.0   193.0           0  \n",
       "4         151.0   565.0     2.0           1  "
      ]
     },
     "execution_count": 67,
     "metadata": {},
     "output_type": "execute_result"
    }
   ],
   "source": [
    "train_df.head()"
   ]
  },
  {
   "cell_type": "code",
   "execution_count": 68,
   "id": "45b0b9b7",
   "metadata": {
    "execution": {
     "iopub.execute_input": "2023-03-22T13:03:12.236176Z",
     "iopub.status.busy": "2023-03-22T13:03:12.235696Z",
     "iopub.status.idle": "2023-03-22T13:03:12.253906Z",
     "shell.execute_reply": "2023-03-22T13:03:12.252652Z"
    },
    "id": "ILF-yMfvuisC",
    "outputId": "d7e524cd-a9fb-48ef-8a12-1773ce797df6",
    "papermill": {
     "duration": 0.059115,
     "end_time": "2023-03-22T13:03:12.256811",
     "exception": false,
     "start_time": "2023-03-22T13:03:12.197696",
     "status": "completed"
    },
    "tags": []
   },
   "outputs": [
    {
     "data": {
      "text/html": [
       "<div>\n",
       "<style scoped>\n",
       "    .dataframe tbody tr th:only-of-type {\n",
       "        vertical-align: middle;\n",
       "    }\n",
       "\n",
       "    .dataframe tbody tr th {\n",
       "        vertical-align: top;\n",
       "    }\n",
       "\n",
       "    .dataframe thead th {\n",
       "        text-align: right;\n",
       "    }\n",
       "</style>\n",
       "<table border=\"1\" class=\"dataframe\">\n",
       "  <thead>\n",
       "    <tr style=\"text-align: right;\">\n",
       "      <th></th>\n",
       "      <th>PassengerId</th>\n",
       "      <th>HomePlanet</th>\n",
       "      <th>CryoSleep</th>\n",
       "      <th>Destination</th>\n",
       "      <th>Age</th>\n",
       "      <th>VIP</th>\n",
       "      <th>RoomService</th>\n",
       "      <th>FoodCourt</th>\n",
       "      <th>ShoppingMall</th>\n",
       "      <th>Spa</th>\n",
       "      <th>VRDeck</th>\n",
       "    </tr>\n",
       "  </thead>\n",
       "  <tbody>\n",
       "    <tr>\n",
       "      <th>0</th>\n",
       "      <td>0013_01</td>\n",
       "      <td>Earth</td>\n",
       "      <td>1</td>\n",
       "      <td>TRAPPIST-1e</td>\n",
       "      <td>27.0</td>\n",
       "      <td>0</td>\n",
       "      <td>0.0</td>\n",
       "      <td>0.0</td>\n",
       "      <td>0.0</td>\n",
       "      <td>0.0</td>\n",
       "      <td>0.0</td>\n",
       "    </tr>\n",
       "    <tr>\n",
       "      <th>1</th>\n",
       "      <td>0018_01</td>\n",
       "      <td>Earth</td>\n",
       "      <td>0</td>\n",
       "      <td>TRAPPIST-1e</td>\n",
       "      <td>19.0</td>\n",
       "      <td>0</td>\n",
       "      <td>0.0</td>\n",
       "      <td>9.0</td>\n",
       "      <td>0.0</td>\n",
       "      <td>2823.0</td>\n",
       "      <td>0.0</td>\n",
       "    </tr>\n",
       "    <tr>\n",
       "      <th>2</th>\n",
       "      <td>0019_01</td>\n",
       "      <td>Europa</td>\n",
       "      <td>1</td>\n",
       "      <td>55 Cancri e</td>\n",
       "      <td>31.0</td>\n",
       "      <td>0</td>\n",
       "      <td>0.0</td>\n",
       "      <td>0.0</td>\n",
       "      <td>0.0</td>\n",
       "      <td>0.0</td>\n",
       "      <td>0.0</td>\n",
       "    </tr>\n",
       "    <tr>\n",
       "      <th>3</th>\n",
       "      <td>0021_01</td>\n",
       "      <td>Europa</td>\n",
       "      <td>0</td>\n",
       "      <td>TRAPPIST-1e</td>\n",
       "      <td>38.0</td>\n",
       "      <td>0</td>\n",
       "      <td>0.0</td>\n",
       "      <td>6652.0</td>\n",
       "      <td>0.0</td>\n",
       "      <td>181.0</td>\n",
       "      <td>585.0</td>\n",
       "    </tr>\n",
       "    <tr>\n",
       "      <th>4</th>\n",
       "      <td>0023_01</td>\n",
       "      <td>Earth</td>\n",
       "      <td>0</td>\n",
       "      <td>TRAPPIST-1e</td>\n",
       "      <td>20.0</td>\n",
       "      <td>0</td>\n",
       "      <td>10.0</td>\n",
       "      <td>0.0</td>\n",
       "      <td>635.0</td>\n",
       "      <td>0.0</td>\n",
       "      <td>0.0</td>\n",
       "    </tr>\n",
       "  </tbody>\n",
       "</table>\n",
       "</div>"
      ],
      "text/plain": [
       "  PassengerId HomePlanet CryoSleep  Destination   Age VIP  RoomService  \\\n",
       "0     0013_01      Earth         1  TRAPPIST-1e  27.0   0          0.0   \n",
       "1     0018_01      Earth         0  TRAPPIST-1e  19.0   0          0.0   \n",
       "2     0019_01     Europa         1  55 Cancri e  31.0   0          0.0   \n",
       "3     0021_01     Europa         0  TRAPPIST-1e  38.0   0          0.0   \n",
       "4     0023_01      Earth         0  TRAPPIST-1e  20.0   0         10.0   \n",
       "\n",
       "   FoodCourt  ShoppingMall     Spa  VRDeck  \n",
       "0        0.0           0.0     0.0     0.0  \n",
       "1        9.0           0.0  2823.0     0.0  \n",
       "2        0.0           0.0     0.0     0.0  \n",
       "3     6652.0           0.0   181.0   585.0  \n",
       "4        0.0         635.0     0.0     0.0  "
      ]
     },
     "execution_count": 68,
     "metadata": {},
     "output_type": "execute_result"
    }
   ],
   "source": [
    "test_df.head()"
   ]
  },
  {
   "cell_type": "code",
   "execution_count": 69,
   "id": "1fc18450",
   "metadata": {
    "execution": {
     "iopub.execute_input": "2023-03-22T13:03:12.328559Z",
     "iopub.status.busy": "2023-03-22T13:03:12.328194Z",
     "iopub.status.idle": "2023-03-22T13:03:12.499396Z",
     "shell.execute_reply": "2023-03-22T13:03:12.497811Z"
    },
    "id": "Oq2SildQr6ya",
    "papermill": {
     "duration": 0.210441,
     "end_time": "2023-03-22T13:03:12.501873",
     "exception": false,
     "start_time": "2023-03-22T13:03:12.291432",
     "status": "completed"
    },
    "tags": []
   },
   "outputs": [],
   "source": [
    "from sklearn.preprocessing import OneHotEncoder\n",
    "\n",
    "le = OneHotEncoder()\n",
    "\n",
    "categ_cols = test_df[['HomePlanet', 'Destination']]\n",
    "\n",
    "le = le.fit_transform(categ_cols).toarray()\n",
    "\n",
    "le = pd.DataFrame(le)\n",
    "\n",
    "test_df = pd.concat([test_df, le], axis=1)\n",
    "\n",
    "test_df.drop(['HomePlanet', 'Destination'], axis=1, inplace=True)"
   ]
  },
  {
   "cell_type": "code",
   "execution_count": 70,
   "id": "772bd97a",
   "metadata": {
    "execution": {
     "iopub.execute_input": "2023-03-22T13:03:12.575564Z",
     "iopub.status.busy": "2023-03-22T13:03:12.575103Z",
     "iopub.status.idle": "2023-03-22T13:03:12.587066Z",
     "shell.execute_reply": "2023-03-22T13:03:12.586197Z"
    },
    "id": "uJsDlte6tMBe",
    "outputId": "d93ad717-4651-4dbf-9908-3a7795766c68",
    "papermill": {
     "duration": 0.05179,
     "end_time": "2023-03-22T13:03:12.588883",
     "exception": false,
     "start_time": "2023-03-22T13:03:12.537093",
     "status": "completed"
    },
    "tags": []
   },
   "outputs": [
    {
     "data": {
      "text/html": [
       "<div>\n",
       "<style scoped>\n",
       "    .dataframe tbody tr th:only-of-type {\n",
       "        vertical-align: middle;\n",
       "    }\n",
       "\n",
       "    .dataframe tbody tr th {\n",
       "        vertical-align: top;\n",
       "    }\n",
       "\n",
       "    .dataframe thead th {\n",
       "        text-align: right;\n",
       "    }\n",
       "</style>\n",
       "<table border=\"1\" class=\"dataframe\">\n",
       "  <thead>\n",
       "    <tr style=\"text-align: right;\">\n",
       "      <th></th>\n",
       "      <th>PassengerId</th>\n",
       "    </tr>\n",
       "  </thead>\n",
       "  <tbody>\n",
       "    <tr>\n",
       "      <th>0</th>\n",
       "      <td>0013_01</td>\n",
       "    </tr>\n",
       "    <tr>\n",
       "      <th>1</th>\n",
       "      <td>0018_01</td>\n",
       "    </tr>\n",
       "    <tr>\n",
       "      <th>2</th>\n",
       "      <td>0019_01</td>\n",
       "    </tr>\n",
       "    <tr>\n",
       "      <th>3</th>\n",
       "      <td>0021_01</td>\n",
       "    </tr>\n",
       "    <tr>\n",
       "      <th>4</th>\n",
       "      <td>0023_01</td>\n",
       "    </tr>\n",
       "    <tr>\n",
       "      <th>...</th>\n",
       "      <td>...</td>\n",
       "    </tr>\n",
       "    <tr>\n",
       "      <th>4272</th>\n",
       "      <td>9266_02</td>\n",
       "    </tr>\n",
       "    <tr>\n",
       "      <th>4273</th>\n",
       "      <td>9269_01</td>\n",
       "    </tr>\n",
       "    <tr>\n",
       "      <th>4274</th>\n",
       "      <td>9271_01</td>\n",
       "    </tr>\n",
       "    <tr>\n",
       "      <th>4275</th>\n",
       "      <td>9273_01</td>\n",
       "    </tr>\n",
       "    <tr>\n",
       "      <th>4276</th>\n",
       "      <td>9277_01</td>\n",
       "    </tr>\n",
       "  </tbody>\n",
       "</table>\n",
       "<p>4277 rows × 1 columns</p>\n",
       "</div>"
      ],
      "text/plain": [
       "     PassengerId\n",
       "0        0013_01\n",
       "1        0018_01\n",
       "2        0019_01\n",
       "3        0021_01\n",
       "4        0023_01\n",
       "...          ...\n",
       "4272     9266_02\n",
       "4273     9269_01\n",
       "4274     9271_01\n",
       "4275     9273_01\n",
       "4276     9277_01\n",
       "\n",
       "[4277 rows x 1 columns]"
      ]
     },
     "execution_count": 70,
     "metadata": {},
     "output_type": "execute_result"
    }
   ],
   "source": [
    "test_passenger_id = test_df[['PassengerId']]\n",
    "test_passenger_id"
   ]
  },
  {
   "cell_type": "code",
   "execution_count": 71,
   "id": "4e42bb6b",
   "metadata": {
    "execution": {
     "iopub.execute_input": "2023-03-22T13:03:12.661718Z",
     "iopub.status.busy": "2023-03-22T13:03:12.661274Z",
     "iopub.status.idle": "2023-03-22T13:03:12.667994Z",
     "shell.execute_reply": "2023-03-22T13:03:12.666600Z"
    },
    "id": "FRnmB8J-tRA1",
    "papermill": {
     "duration": 0.046758,
     "end_time": "2023-03-22T13:03:12.670675",
     "exception": false,
     "start_time": "2023-03-22T13:03:12.623917",
     "status": "completed"
    },
    "tags": []
   },
   "outputs": [],
   "source": [
    "test_df.drop(['PassengerId'], axis=1, inplace=True)"
   ]
  },
  {
   "cell_type": "code",
   "execution_count": 72,
   "id": "3f06719a",
   "metadata": {
    "execution": {
     "iopub.execute_input": "2023-03-22T13:03:12.742656Z",
     "iopub.status.busy": "2023-03-22T13:03:12.742287Z",
     "iopub.status.idle": "2023-03-22T13:03:12.768812Z",
     "shell.execute_reply": "2023-03-22T13:03:12.768051Z"
    },
    "id": "TAD3voyytWFe",
    "outputId": "4bab87c9-5f7f-439c-8ac2-a22603aeef91",
    "papermill": {
     "duration": 0.064955,
     "end_time": "2023-03-22T13:03:12.770599",
     "exception": false,
     "start_time": "2023-03-22T13:03:12.705644",
     "status": "completed"
    },
    "tags": []
   },
   "outputs": [
    {
     "data": {
      "text/html": [
       "<div>\n",
       "<style scoped>\n",
       "    .dataframe tbody tr th:only-of-type {\n",
       "        vertical-align: middle;\n",
       "    }\n",
       "\n",
       "    .dataframe tbody tr th {\n",
       "        vertical-align: top;\n",
       "    }\n",
       "\n",
       "    .dataframe thead th {\n",
       "        text-align: right;\n",
       "    }\n",
       "</style>\n",
       "<table border=\"1\" class=\"dataframe\">\n",
       "  <thead>\n",
       "    <tr style=\"text-align: right;\">\n",
       "      <th></th>\n",
       "      <th>CryoSleep</th>\n",
       "      <th>Age</th>\n",
       "      <th>VIP</th>\n",
       "      <th>RoomService</th>\n",
       "      <th>FoodCourt</th>\n",
       "      <th>ShoppingMall</th>\n",
       "      <th>Spa</th>\n",
       "      <th>VRDeck</th>\n",
       "      <th>0</th>\n",
       "      <th>1</th>\n",
       "      <th>2</th>\n",
       "      <th>3</th>\n",
       "      <th>4</th>\n",
       "      <th>5</th>\n",
       "    </tr>\n",
       "  </thead>\n",
       "  <tbody>\n",
       "    <tr>\n",
       "      <th>0</th>\n",
       "      <td>1</td>\n",
       "      <td>27.0</td>\n",
       "      <td>0</td>\n",
       "      <td>0.0</td>\n",
       "      <td>0.0</td>\n",
       "      <td>0.0</td>\n",
       "      <td>0.0</td>\n",
       "      <td>0.0</td>\n",
       "      <td>1.0</td>\n",
       "      <td>0.0</td>\n",
       "      <td>0.0</td>\n",
       "      <td>0.0</td>\n",
       "      <td>0.0</td>\n",
       "      <td>1.0</td>\n",
       "    </tr>\n",
       "    <tr>\n",
       "      <th>1</th>\n",
       "      <td>0</td>\n",
       "      <td>19.0</td>\n",
       "      <td>0</td>\n",
       "      <td>0.0</td>\n",
       "      <td>9.0</td>\n",
       "      <td>0.0</td>\n",
       "      <td>2823.0</td>\n",
       "      <td>0.0</td>\n",
       "      <td>1.0</td>\n",
       "      <td>0.0</td>\n",
       "      <td>0.0</td>\n",
       "      <td>0.0</td>\n",
       "      <td>0.0</td>\n",
       "      <td>1.0</td>\n",
       "    </tr>\n",
       "    <tr>\n",
       "      <th>2</th>\n",
       "      <td>1</td>\n",
       "      <td>31.0</td>\n",
       "      <td>0</td>\n",
       "      <td>0.0</td>\n",
       "      <td>0.0</td>\n",
       "      <td>0.0</td>\n",
       "      <td>0.0</td>\n",
       "      <td>0.0</td>\n",
       "      <td>0.0</td>\n",
       "      <td>1.0</td>\n",
       "      <td>0.0</td>\n",
       "      <td>1.0</td>\n",
       "      <td>0.0</td>\n",
       "      <td>0.0</td>\n",
       "    </tr>\n",
       "    <tr>\n",
       "      <th>3</th>\n",
       "      <td>0</td>\n",
       "      <td>38.0</td>\n",
       "      <td>0</td>\n",
       "      <td>0.0</td>\n",
       "      <td>6652.0</td>\n",
       "      <td>0.0</td>\n",
       "      <td>181.0</td>\n",
       "      <td>585.0</td>\n",
       "      <td>0.0</td>\n",
       "      <td>1.0</td>\n",
       "      <td>0.0</td>\n",
       "      <td>0.0</td>\n",
       "      <td>0.0</td>\n",
       "      <td>1.0</td>\n",
       "    </tr>\n",
       "    <tr>\n",
       "      <th>4</th>\n",
       "      <td>0</td>\n",
       "      <td>20.0</td>\n",
       "      <td>0</td>\n",
       "      <td>10.0</td>\n",
       "      <td>0.0</td>\n",
       "      <td>635.0</td>\n",
       "      <td>0.0</td>\n",
       "      <td>0.0</td>\n",
       "      <td>1.0</td>\n",
       "      <td>0.0</td>\n",
       "      <td>0.0</td>\n",
       "      <td>0.0</td>\n",
       "      <td>0.0</td>\n",
       "      <td>1.0</td>\n",
       "    </tr>\n",
       "    <tr>\n",
       "      <th>...</th>\n",
       "      <td>...</td>\n",
       "      <td>...</td>\n",
       "      <td>...</td>\n",
       "      <td>...</td>\n",
       "      <td>...</td>\n",
       "      <td>...</td>\n",
       "      <td>...</td>\n",
       "      <td>...</td>\n",
       "      <td>...</td>\n",
       "      <td>...</td>\n",
       "      <td>...</td>\n",
       "      <td>...</td>\n",
       "      <td>...</td>\n",
       "      <td>...</td>\n",
       "    </tr>\n",
       "    <tr>\n",
       "      <th>4272</th>\n",
       "      <td>1</td>\n",
       "      <td>34.0</td>\n",
       "      <td>0</td>\n",
       "      <td>0.0</td>\n",
       "      <td>0.0</td>\n",
       "      <td>0.0</td>\n",
       "      <td>0.0</td>\n",
       "      <td>0.0</td>\n",
       "      <td>1.0</td>\n",
       "      <td>0.0</td>\n",
       "      <td>0.0</td>\n",
       "      <td>0.0</td>\n",
       "      <td>0.0</td>\n",
       "      <td>1.0</td>\n",
       "    </tr>\n",
       "    <tr>\n",
       "      <th>4273</th>\n",
       "      <td>0</td>\n",
       "      <td>42.0</td>\n",
       "      <td>0</td>\n",
       "      <td>0.0</td>\n",
       "      <td>847.0</td>\n",
       "      <td>17.0</td>\n",
       "      <td>10.0</td>\n",
       "      <td>144.0</td>\n",
       "      <td>1.0</td>\n",
       "      <td>0.0</td>\n",
       "      <td>0.0</td>\n",
       "      <td>0.0</td>\n",
       "      <td>0.0</td>\n",
       "      <td>1.0</td>\n",
       "    </tr>\n",
       "    <tr>\n",
       "      <th>4274</th>\n",
       "      <td>1</td>\n",
       "      <td>29.0</td>\n",
       "      <td>0</td>\n",
       "      <td>0.0</td>\n",
       "      <td>0.0</td>\n",
       "      <td>0.0</td>\n",
       "      <td>0.0</td>\n",
       "      <td>0.0</td>\n",
       "      <td>0.0</td>\n",
       "      <td>0.0</td>\n",
       "      <td>1.0</td>\n",
       "      <td>1.0</td>\n",
       "      <td>0.0</td>\n",
       "      <td>0.0</td>\n",
       "    </tr>\n",
       "    <tr>\n",
       "      <th>4275</th>\n",
       "      <td>0</td>\n",
       "      <td>29.0</td>\n",
       "      <td>0</td>\n",
       "      <td>0.0</td>\n",
       "      <td>2680.0</td>\n",
       "      <td>0.0</td>\n",
       "      <td>0.0</td>\n",
       "      <td>523.0</td>\n",
       "      <td>0.0</td>\n",
       "      <td>1.0</td>\n",
       "      <td>0.0</td>\n",
       "      <td>0.0</td>\n",
       "      <td>1.0</td>\n",
       "      <td>0.0</td>\n",
       "    </tr>\n",
       "    <tr>\n",
       "      <th>4276</th>\n",
       "      <td>1</td>\n",
       "      <td>43.0</td>\n",
       "      <td>0</td>\n",
       "      <td>0.0</td>\n",
       "      <td>0.0</td>\n",
       "      <td>0.0</td>\n",
       "      <td>0.0</td>\n",
       "      <td>0.0</td>\n",
       "      <td>1.0</td>\n",
       "      <td>0.0</td>\n",
       "      <td>0.0</td>\n",
       "      <td>0.0</td>\n",
       "      <td>1.0</td>\n",
       "      <td>0.0</td>\n",
       "    </tr>\n",
       "  </tbody>\n",
       "</table>\n",
       "<p>4277 rows × 14 columns</p>\n",
       "</div>"
      ],
      "text/plain": [
       "     CryoSleep   Age VIP  RoomService  FoodCourt  ShoppingMall     Spa  \\\n",
       "0            1  27.0   0          0.0        0.0           0.0     0.0   \n",
       "1            0  19.0   0          0.0        9.0           0.0  2823.0   \n",
       "2            1  31.0   0          0.0        0.0           0.0     0.0   \n",
       "3            0  38.0   0          0.0     6652.0           0.0   181.0   \n",
       "4            0  20.0   0         10.0        0.0         635.0     0.0   \n",
       "...        ...   ...  ..          ...        ...           ...     ...   \n",
       "4272         1  34.0   0          0.0        0.0           0.0     0.0   \n",
       "4273         0  42.0   0          0.0      847.0          17.0    10.0   \n",
       "4274         1  29.0   0          0.0        0.0           0.0     0.0   \n",
       "4275         0  29.0   0          0.0     2680.0           0.0     0.0   \n",
       "4276         1  43.0   0          0.0        0.0           0.0     0.0   \n",
       "\n",
       "      VRDeck    0    1    2    3    4    5  \n",
       "0        0.0  1.0  0.0  0.0  0.0  0.0  1.0  \n",
       "1        0.0  1.0  0.0  0.0  0.0  0.0  1.0  \n",
       "2        0.0  0.0  1.0  0.0  1.0  0.0  0.0  \n",
       "3      585.0  0.0  1.0  0.0  0.0  0.0  1.0  \n",
       "4        0.0  1.0  0.0  0.0  0.0  0.0  1.0  \n",
       "...      ...  ...  ...  ...  ...  ...  ...  \n",
       "4272     0.0  1.0  0.0  0.0  0.0  0.0  1.0  \n",
       "4273   144.0  1.0  0.0  0.0  0.0  0.0  1.0  \n",
       "4274     0.0  0.0  0.0  1.0  1.0  0.0  0.0  \n",
       "4275   523.0  0.0  1.0  0.0  0.0  1.0  0.0  \n",
       "4276     0.0  1.0  0.0  0.0  0.0  1.0  0.0  \n",
       "\n",
       "[4277 rows x 14 columns]"
      ]
     },
     "execution_count": 72,
     "metadata": {},
     "output_type": "execute_result"
    }
   ],
   "source": [
    "test_df"
   ]
  },
  {
   "cell_type": "code",
   "execution_count": 73,
   "id": "987c71bc",
   "metadata": {
    "execution": {
     "iopub.execute_input": "2023-03-22T13:03:12.844847Z",
     "iopub.status.busy": "2023-03-22T13:03:12.844112Z",
     "iopub.status.idle": "2023-03-22T13:03:12.858503Z",
     "shell.execute_reply": "2023-03-22T13:03:12.857285Z"
    },
    "id": "0IU3WpP1PgM1",
    "outputId": "22097289-0491-4c1c-b1ce-11fa877a2c73",
    "papermill": {
     "duration": 0.054776,
     "end_time": "2023-03-22T13:03:12.860715",
     "exception": false,
     "start_time": "2023-03-22T13:03:12.805939",
     "status": "completed"
    },
    "tags": []
   },
   "outputs": [
    {
     "data": {
      "text/plain": [
       "array([[0., 1., 0., 0., 0., 1.],\n",
       "       [1., 0., 0., 0., 0., 1.],\n",
       "       [0., 1., 0., 0., 0., 1.],\n",
       "       ...,\n",
       "       [1., 0., 0., 0., 0., 1.],\n",
       "       [0., 1., 0., 1., 0., 0.],\n",
       "       [0., 1., 0., 0., 0., 1.]])"
      ]
     },
     "execution_count": 73,
     "metadata": {},
     "output_type": "execute_result"
    }
   ],
   "source": [
    "from sklearn.preprocessing import OneHotEncoder\n",
    "\n",
    "le = OneHotEncoder()\n",
    "\n",
    "categ_cols = train_df[['HomePlanet', 'Destination']]\n",
    "\n",
    "le = le.fit_transform(categ_cols).toarray()\n",
    "\n",
    "le"
   ]
  },
  {
   "cell_type": "code",
   "execution_count": 74,
   "id": "93102442",
   "metadata": {
    "execution": {
     "iopub.execute_input": "2023-03-22T13:03:12.935015Z",
     "iopub.status.busy": "2023-03-22T13:03:12.934365Z",
     "iopub.status.idle": "2023-03-22T13:03:12.939500Z",
     "shell.execute_reply": "2023-03-22T13:03:12.938854Z"
    },
    "id": "9GluJNKkYbMH",
    "outputId": "7a184de8-bbff-4907-bae3-e6a4bb64517c",
    "papermill": {
     "duration": 0.045069,
     "end_time": "2023-03-22T13:03:12.941479",
     "exception": false,
     "start_time": "2023-03-22T13:03:12.896410",
     "status": "completed"
    },
    "tags": []
   },
   "outputs": [
    {
     "data": {
      "text/plain": [
       "numpy.ndarray"
      ]
     },
     "execution_count": 74,
     "metadata": {},
     "output_type": "execute_result"
    }
   ],
   "source": [
    "type(le)"
   ]
  },
  {
   "cell_type": "code",
   "execution_count": 75,
   "id": "c76b2f29",
   "metadata": {
    "execution": {
     "iopub.execute_input": "2023-03-22T13:03:13.018063Z",
     "iopub.status.busy": "2023-03-22T13:03:13.017436Z",
     "iopub.status.idle": "2023-03-22T13:03:13.023472Z",
     "shell.execute_reply": "2023-03-22T13:03:13.022350Z"
    },
    "id": "zDWaPmt8Z5O9",
    "outputId": "0c473458-f1f6-42cc-c35f-424e295e810d",
    "papermill": {
     "duration": 0.047523,
     "end_time": "2023-03-22T13:03:13.025993",
     "exception": false,
     "start_time": "2023-03-22T13:03:12.978470",
     "status": "completed"
    },
    "tags": []
   },
   "outputs": [
    {
     "data": {
      "text/plain": [
       "pandas.core.frame.DataFrame"
      ]
     },
     "execution_count": 75,
     "metadata": {},
     "output_type": "execute_result"
    }
   ],
   "source": [
    "le = pd.DataFrame(le)\n",
    "type(le)"
   ]
  },
  {
   "cell_type": "code",
   "execution_count": 76,
   "id": "33cee63a",
   "metadata": {
    "execution": {
     "iopub.execute_input": "2023-03-22T13:03:13.102976Z",
     "iopub.status.busy": "2023-03-22T13:03:13.101547Z",
     "iopub.status.idle": "2023-03-22T13:03:13.135042Z",
     "shell.execute_reply": "2023-03-22T13:03:13.133844Z"
    },
    "id": "5L7BicTxYc7n",
    "outputId": "42faf42c-85c2-4851-9627-0e2d3ac2540d",
    "papermill": {
     "duration": 0.073592,
     "end_time": "2023-03-22T13:03:13.137301",
     "exception": false,
     "start_time": "2023-03-22T13:03:13.063709",
     "status": "completed"
    },
    "tags": []
   },
   "outputs": [
    {
     "data": {
      "text/html": [
       "<div>\n",
       "<style scoped>\n",
       "    .dataframe tbody tr th:only-of-type {\n",
       "        vertical-align: middle;\n",
       "    }\n",
       "\n",
       "    .dataframe tbody tr th {\n",
       "        vertical-align: top;\n",
       "    }\n",
       "\n",
       "    .dataframe thead th {\n",
       "        text-align: right;\n",
       "    }\n",
       "</style>\n",
       "<table border=\"1\" class=\"dataframe\">\n",
       "  <thead>\n",
       "    <tr style=\"text-align: right;\">\n",
       "      <th></th>\n",
       "      <th>HomePlanet</th>\n",
       "      <th>CryoSleep</th>\n",
       "      <th>Destination</th>\n",
       "      <th>Age</th>\n",
       "      <th>VIP</th>\n",
       "      <th>RoomService</th>\n",
       "      <th>FoodCourt</th>\n",
       "      <th>ShoppingMall</th>\n",
       "      <th>Spa</th>\n",
       "      <th>VRDeck</th>\n",
       "      <th>Transported</th>\n",
       "      <th>0</th>\n",
       "      <th>1</th>\n",
       "      <th>2</th>\n",
       "      <th>3</th>\n",
       "      <th>4</th>\n",
       "      <th>5</th>\n",
       "    </tr>\n",
       "  </thead>\n",
       "  <tbody>\n",
       "    <tr>\n",
       "      <th>0</th>\n",
       "      <td>Europa</td>\n",
       "      <td>0</td>\n",
       "      <td>TRAPPIST-1e</td>\n",
       "      <td>39.0</td>\n",
       "      <td>0</td>\n",
       "      <td>0.0</td>\n",
       "      <td>0.0</td>\n",
       "      <td>0.0</td>\n",
       "      <td>0.0</td>\n",
       "      <td>0.0</td>\n",
       "      <td>0</td>\n",
       "      <td>0.0</td>\n",
       "      <td>1.0</td>\n",
       "      <td>0.0</td>\n",
       "      <td>0.0</td>\n",
       "      <td>0.0</td>\n",
       "      <td>1.0</td>\n",
       "    </tr>\n",
       "    <tr>\n",
       "      <th>1</th>\n",
       "      <td>Earth</td>\n",
       "      <td>0</td>\n",
       "      <td>TRAPPIST-1e</td>\n",
       "      <td>24.0</td>\n",
       "      <td>0</td>\n",
       "      <td>109.0</td>\n",
       "      <td>9.0</td>\n",
       "      <td>25.0</td>\n",
       "      <td>549.0</td>\n",
       "      <td>44.0</td>\n",
       "      <td>1</td>\n",
       "      <td>1.0</td>\n",
       "      <td>0.0</td>\n",
       "      <td>0.0</td>\n",
       "      <td>0.0</td>\n",
       "      <td>0.0</td>\n",
       "      <td>1.0</td>\n",
       "    </tr>\n",
       "    <tr>\n",
       "      <th>2</th>\n",
       "      <td>Europa</td>\n",
       "      <td>0</td>\n",
       "      <td>TRAPPIST-1e</td>\n",
       "      <td>58.0</td>\n",
       "      <td>1</td>\n",
       "      <td>43.0</td>\n",
       "      <td>3576.0</td>\n",
       "      <td>0.0</td>\n",
       "      <td>6715.0</td>\n",
       "      <td>49.0</td>\n",
       "      <td>0</td>\n",
       "      <td>0.0</td>\n",
       "      <td>1.0</td>\n",
       "      <td>0.0</td>\n",
       "      <td>0.0</td>\n",
       "      <td>0.0</td>\n",
       "      <td>1.0</td>\n",
       "    </tr>\n",
       "    <tr>\n",
       "      <th>3</th>\n",
       "      <td>Europa</td>\n",
       "      <td>0</td>\n",
       "      <td>TRAPPIST-1e</td>\n",
       "      <td>33.0</td>\n",
       "      <td>0</td>\n",
       "      <td>0.0</td>\n",
       "      <td>1283.0</td>\n",
       "      <td>371.0</td>\n",
       "      <td>3329.0</td>\n",
       "      <td>193.0</td>\n",
       "      <td>0</td>\n",
       "      <td>0.0</td>\n",
       "      <td>1.0</td>\n",
       "      <td>0.0</td>\n",
       "      <td>0.0</td>\n",
       "      <td>0.0</td>\n",
       "      <td>1.0</td>\n",
       "    </tr>\n",
       "    <tr>\n",
       "      <th>4</th>\n",
       "      <td>Earth</td>\n",
       "      <td>0</td>\n",
       "      <td>TRAPPIST-1e</td>\n",
       "      <td>16.0</td>\n",
       "      <td>0</td>\n",
       "      <td>303.0</td>\n",
       "      <td>70.0</td>\n",
       "      <td>151.0</td>\n",
       "      <td>565.0</td>\n",
       "      <td>2.0</td>\n",
       "      <td>1</td>\n",
       "      <td>1.0</td>\n",
       "      <td>0.0</td>\n",
       "      <td>0.0</td>\n",
       "      <td>0.0</td>\n",
       "      <td>0.0</td>\n",
       "      <td>1.0</td>\n",
       "    </tr>\n",
       "    <tr>\n",
       "      <th>...</th>\n",
       "      <td>...</td>\n",
       "      <td>...</td>\n",
       "      <td>...</td>\n",
       "      <td>...</td>\n",
       "      <td>...</td>\n",
       "      <td>...</td>\n",
       "      <td>...</td>\n",
       "      <td>...</td>\n",
       "      <td>...</td>\n",
       "      <td>...</td>\n",
       "      <td>...</td>\n",
       "      <td>...</td>\n",
       "      <td>...</td>\n",
       "      <td>...</td>\n",
       "      <td>...</td>\n",
       "      <td>...</td>\n",
       "      <td>...</td>\n",
       "    </tr>\n",
       "    <tr>\n",
       "      <th>8688</th>\n",
       "      <td>Europa</td>\n",
       "      <td>0</td>\n",
       "      <td>55 Cancri e</td>\n",
       "      <td>41.0</td>\n",
       "      <td>1</td>\n",
       "      <td>0.0</td>\n",
       "      <td>6819.0</td>\n",
       "      <td>0.0</td>\n",
       "      <td>1643.0</td>\n",
       "      <td>74.0</td>\n",
       "      <td>0</td>\n",
       "      <td>0.0</td>\n",
       "      <td>1.0</td>\n",
       "      <td>0.0</td>\n",
       "      <td>1.0</td>\n",
       "      <td>0.0</td>\n",
       "      <td>0.0</td>\n",
       "    </tr>\n",
       "    <tr>\n",
       "      <th>8689</th>\n",
       "      <td>Earth</td>\n",
       "      <td>1</td>\n",
       "      <td>PSO J318.5-22</td>\n",
       "      <td>18.0</td>\n",
       "      <td>0</td>\n",
       "      <td>0.0</td>\n",
       "      <td>0.0</td>\n",
       "      <td>0.0</td>\n",
       "      <td>0.0</td>\n",
       "      <td>0.0</td>\n",
       "      <td>0</td>\n",
       "      <td>1.0</td>\n",
       "      <td>0.0</td>\n",
       "      <td>0.0</td>\n",
       "      <td>0.0</td>\n",
       "      <td>1.0</td>\n",
       "      <td>0.0</td>\n",
       "    </tr>\n",
       "    <tr>\n",
       "      <th>8690</th>\n",
       "      <td>Earth</td>\n",
       "      <td>0</td>\n",
       "      <td>TRAPPIST-1e</td>\n",
       "      <td>26.0</td>\n",
       "      <td>0</td>\n",
       "      <td>0.0</td>\n",
       "      <td>0.0</td>\n",
       "      <td>1872.0</td>\n",
       "      <td>1.0</td>\n",
       "      <td>0.0</td>\n",
       "      <td>1</td>\n",
       "      <td>1.0</td>\n",
       "      <td>0.0</td>\n",
       "      <td>0.0</td>\n",
       "      <td>0.0</td>\n",
       "      <td>0.0</td>\n",
       "      <td>1.0</td>\n",
       "    </tr>\n",
       "    <tr>\n",
       "      <th>8691</th>\n",
       "      <td>Europa</td>\n",
       "      <td>0</td>\n",
       "      <td>55 Cancri e</td>\n",
       "      <td>32.0</td>\n",
       "      <td>0</td>\n",
       "      <td>0.0</td>\n",
       "      <td>1049.0</td>\n",
       "      <td>0.0</td>\n",
       "      <td>353.0</td>\n",
       "      <td>3235.0</td>\n",
       "      <td>0</td>\n",
       "      <td>0.0</td>\n",
       "      <td>1.0</td>\n",
       "      <td>0.0</td>\n",
       "      <td>1.0</td>\n",
       "      <td>0.0</td>\n",
       "      <td>0.0</td>\n",
       "    </tr>\n",
       "    <tr>\n",
       "      <th>8692</th>\n",
       "      <td>Europa</td>\n",
       "      <td>0</td>\n",
       "      <td>TRAPPIST-1e</td>\n",
       "      <td>44.0</td>\n",
       "      <td>0</td>\n",
       "      <td>126.0</td>\n",
       "      <td>4688.0</td>\n",
       "      <td>0.0</td>\n",
       "      <td>0.0</td>\n",
       "      <td>12.0</td>\n",
       "      <td>1</td>\n",
       "      <td>0.0</td>\n",
       "      <td>1.0</td>\n",
       "      <td>0.0</td>\n",
       "      <td>0.0</td>\n",
       "      <td>0.0</td>\n",
       "      <td>1.0</td>\n",
       "    </tr>\n",
       "  </tbody>\n",
       "</table>\n",
       "<p>8693 rows × 17 columns</p>\n",
       "</div>"
      ],
      "text/plain": [
       "     HomePlanet CryoSleep    Destination   Age VIP  RoomService  FoodCourt  \\\n",
       "0        Europa         0    TRAPPIST-1e  39.0   0          0.0        0.0   \n",
       "1         Earth         0    TRAPPIST-1e  24.0   0        109.0        9.0   \n",
       "2        Europa         0    TRAPPIST-1e  58.0   1         43.0     3576.0   \n",
       "3        Europa         0    TRAPPIST-1e  33.0   0          0.0     1283.0   \n",
       "4         Earth         0    TRAPPIST-1e  16.0   0        303.0       70.0   \n",
       "...         ...       ...            ...   ...  ..          ...        ...   \n",
       "8688     Europa         0    55 Cancri e  41.0   1          0.0     6819.0   \n",
       "8689      Earth         1  PSO J318.5-22  18.0   0          0.0        0.0   \n",
       "8690      Earth         0    TRAPPIST-1e  26.0   0          0.0        0.0   \n",
       "8691     Europa         0    55 Cancri e  32.0   0          0.0     1049.0   \n",
       "8692     Europa         0    TRAPPIST-1e  44.0   0        126.0     4688.0   \n",
       "\n",
       "      ShoppingMall     Spa  VRDeck Transported    0    1    2    3    4    5  \n",
       "0              0.0     0.0     0.0           0  0.0  1.0  0.0  0.0  0.0  1.0  \n",
       "1             25.0   549.0    44.0           1  1.0  0.0  0.0  0.0  0.0  1.0  \n",
       "2              0.0  6715.0    49.0           0  0.0  1.0  0.0  0.0  0.0  1.0  \n",
       "3            371.0  3329.0   193.0           0  0.0  1.0  0.0  0.0  0.0  1.0  \n",
       "4            151.0   565.0     2.0           1  1.0  0.0  0.0  0.0  0.0  1.0  \n",
       "...            ...     ...     ...         ...  ...  ...  ...  ...  ...  ...  \n",
       "8688           0.0  1643.0    74.0           0  0.0  1.0  0.0  1.0  0.0  0.0  \n",
       "8689           0.0     0.0     0.0           0  1.0  0.0  0.0  0.0  1.0  0.0  \n",
       "8690        1872.0     1.0     0.0           1  1.0  0.0  0.0  0.0  0.0  1.0  \n",
       "8691           0.0   353.0  3235.0           0  0.0  1.0  0.0  1.0  0.0  0.0  \n",
       "8692           0.0     0.0    12.0           1  0.0  1.0  0.0  0.0  0.0  1.0  \n",
       "\n",
       "[8693 rows x 17 columns]"
      ]
     },
     "execution_count": 76,
     "metadata": {},
     "output_type": "execute_result"
    }
   ],
   "source": [
    "train_df = pd.concat([train_df, le], axis=1)\n",
    "train_df"
   ]
  },
  {
   "cell_type": "code",
   "execution_count": 77,
   "id": "728c9717",
   "metadata": {
    "execution": {
     "iopub.execute_input": "2023-03-22T13:03:13.211446Z",
     "iopub.status.busy": "2023-03-22T13:03:13.211009Z",
     "iopub.status.idle": "2023-03-22T13:03:13.219447Z",
     "shell.execute_reply": "2023-03-22T13:03:13.218108Z"
    },
    "id": "rOFcY_UrVtm9",
    "papermill": {
     "duration": 0.048778,
     "end_time": "2023-03-22T13:03:13.222143",
     "exception": false,
     "start_time": "2023-03-22T13:03:13.173365",
     "status": "completed"
    },
    "tags": []
   },
   "outputs": [],
   "source": [
    "train_df.drop(['HomePlanet', 'Destination'], axis=1, inplace=True)"
   ]
  },
  {
   "cell_type": "code",
   "execution_count": 78,
   "id": "7e74c706",
   "metadata": {
    "execution": {
     "iopub.execute_input": "2023-03-22T13:03:13.299339Z",
     "iopub.status.busy": "2023-03-22T13:03:13.298816Z",
     "iopub.status.idle": "2023-03-22T13:03:13.327570Z",
     "shell.execute_reply": "2023-03-22T13:03:13.326365Z"
    },
    "id": "am43DOxfaHAL",
    "outputId": "4ff6250a-159b-402f-fac1-14cc34d67a5b",
    "papermill": {
     "duration": 0.068664,
     "end_time": "2023-03-22T13:03:13.329762",
     "exception": false,
     "start_time": "2023-03-22T13:03:13.261098",
     "status": "completed"
    },
    "tags": []
   },
   "outputs": [
    {
     "data": {
      "text/html": [
       "<div>\n",
       "<style scoped>\n",
       "    .dataframe tbody tr th:only-of-type {\n",
       "        vertical-align: middle;\n",
       "    }\n",
       "\n",
       "    .dataframe tbody tr th {\n",
       "        vertical-align: top;\n",
       "    }\n",
       "\n",
       "    .dataframe thead th {\n",
       "        text-align: right;\n",
       "    }\n",
       "</style>\n",
       "<table border=\"1\" class=\"dataframe\">\n",
       "  <thead>\n",
       "    <tr style=\"text-align: right;\">\n",
       "      <th></th>\n",
       "      <th>CryoSleep</th>\n",
       "      <th>Age</th>\n",
       "      <th>VIP</th>\n",
       "      <th>RoomService</th>\n",
       "      <th>FoodCourt</th>\n",
       "      <th>ShoppingMall</th>\n",
       "      <th>Spa</th>\n",
       "      <th>VRDeck</th>\n",
       "      <th>Transported</th>\n",
       "      <th>0</th>\n",
       "      <th>1</th>\n",
       "      <th>2</th>\n",
       "      <th>3</th>\n",
       "      <th>4</th>\n",
       "      <th>5</th>\n",
       "    </tr>\n",
       "  </thead>\n",
       "  <tbody>\n",
       "    <tr>\n",
       "      <th>0</th>\n",
       "      <td>0</td>\n",
       "      <td>39.0</td>\n",
       "      <td>0</td>\n",
       "      <td>0.0</td>\n",
       "      <td>0.0</td>\n",
       "      <td>0.0</td>\n",
       "      <td>0.0</td>\n",
       "      <td>0.0</td>\n",
       "      <td>0</td>\n",
       "      <td>0.0</td>\n",
       "      <td>1.0</td>\n",
       "      <td>0.0</td>\n",
       "      <td>0.0</td>\n",
       "      <td>0.0</td>\n",
       "      <td>1.0</td>\n",
       "    </tr>\n",
       "    <tr>\n",
       "      <th>1</th>\n",
       "      <td>0</td>\n",
       "      <td>24.0</td>\n",
       "      <td>0</td>\n",
       "      <td>109.0</td>\n",
       "      <td>9.0</td>\n",
       "      <td>25.0</td>\n",
       "      <td>549.0</td>\n",
       "      <td>44.0</td>\n",
       "      <td>1</td>\n",
       "      <td>1.0</td>\n",
       "      <td>0.0</td>\n",
       "      <td>0.0</td>\n",
       "      <td>0.0</td>\n",
       "      <td>0.0</td>\n",
       "      <td>1.0</td>\n",
       "    </tr>\n",
       "    <tr>\n",
       "      <th>2</th>\n",
       "      <td>0</td>\n",
       "      <td>58.0</td>\n",
       "      <td>1</td>\n",
       "      <td>43.0</td>\n",
       "      <td>3576.0</td>\n",
       "      <td>0.0</td>\n",
       "      <td>6715.0</td>\n",
       "      <td>49.0</td>\n",
       "      <td>0</td>\n",
       "      <td>0.0</td>\n",
       "      <td>1.0</td>\n",
       "      <td>0.0</td>\n",
       "      <td>0.0</td>\n",
       "      <td>0.0</td>\n",
       "      <td>1.0</td>\n",
       "    </tr>\n",
       "    <tr>\n",
       "      <th>3</th>\n",
       "      <td>0</td>\n",
       "      <td>33.0</td>\n",
       "      <td>0</td>\n",
       "      <td>0.0</td>\n",
       "      <td>1283.0</td>\n",
       "      <td>371.0</td>\n",
       "      <td>3329.0</td>\n",
       "      <td>193.0</td>\n",
       "      <td>0</td>\n",
       "      <td>0.0</td>\n",
       "      <td>1.0</td>\n",
       "      <td>0.0</td>\n",
       "      <td>0.0</td>\n",
       "      <td>0.0</td>\n",
       "      <td>1.0</td>\n",
       "    </tr>\n",
       "    <tr>\n",
       "      <th>4</th>\n",
       "      <td>0</td>\n",
       "      <td>16.0</td>\n",
       "      <td>0</td>\n",
       "      <td>303.0</td>\n",
       "      <td>70.0</td>\n",
       "      <td>151.0</td>\n",
       "      <td>565.0</td>\n",
       "      <td>2.0</td>\n",
       "      <td>1</td>\n",
       "      <td>1.0</td>\n",
       "      <td>0.0</td>\n",
       "      <td>0.0</td>\n",
       "      <td>0.0</td>\n",
       "      <td>0.0</td>\n",
       "      <td>1.0</td>\n",
       "    </tr>\n",
       "    <tr>\n",
       "      <th>...</th>\n",
       "      <td>...</td>\n",
       "      <td>...</td>\n",
       "      <td>...</td>\n",
       "      <td>...</td>\n",
       "      <td>...</td>\n",
       "      <td>...</td>\n",
       "      <td>...</td>\n",
       "      <td>...</td>\n",
       "      <td>...</td>\n",
       "      <td>...</td>\n",
       "      <td>...</td>\n",
       "      <td>...</td>\n",
       "      <td>...</td>\n",
       "      <td>...</td>\n",
       "      <td>...</td>\n",
       "    </tr>\n",
       "    <tr>\n",
       "      <th>8688</th>\n",
       "      <td>0</td>\n",
       "      <td>41.0</td>\n",
       "      <td>1</td>\n",
       "      <td>0.0</td>\n",
       "      <td>6819.0</td>\n",
       "      <td>0.0</td>\n",
       "      <td>1643.0</td>\n",
       "      <td>74.0</td>\n",
       "      <td>0</td>\n",
       "      <td>0.0</td>\n",
       "      <td>1.0</td>\n",
       "      <td>0.0</td>\n",
       "      <td>1.0</td>\n",
       "      <td>0.0</td>\n",
       "      <td>0.0</td>\n",
       "    </tr>\n",
       "    <tr>\n",
       "      <th>8689</th>\n",
       "      <td>1</td>\n",
       "      <td>18.0</td>\n",
       "      <td>0</td>\n",
       "      <td>0.0</td>\n",
       "      <td>0.0</td>\n",
       "      <td>0.0</td>\n",
       "      <td>0.0</td>\n",
       "      <td>0.0</td>\n",
       "      <td>0</td>\n",
       "      <td>1.0</td>\n",
       "      <td>0.0</td>\n",
       "      <td>0.0</td>\n",
       "      <td>0.0</td>\n",
       "      <td>1.0</td>\n",
       "      <td>0.0</td>\n",
       "    </tr>\n",
       "    <tr>\n",
       "      <th>8690</th>\n",
       "      <td>0</td>\n",
       "      <td>26.0</td>\n",
       "      <td>0</td>\n",
       "      <td>0.0</td>\n",
       "      <td>0.0</td>\n",
       "      <td>1872.0</td>\n",
       "      <td>1.0</td>\n",
       "      <td>0.0</td>\n",
       "      <td>1</td>\n",
       "      <td>1.0</td>\n",
       "      <td>0.0</td>\n",
       "      <td>0.0</td>\n",
       "      <td>0.0</td>\n",
       "      <td>0.0</td>\n",
       "      <td>1.0</td>\n",
       "    </tr>\n",
       "    <tr>\n",
       "      <th>8691</th>\n",
       "      <td>0</td>\n",
       "      <td>32.0</td>\n",
       "      <td>0</td>\n",
       "      <td>0.0</td>\n",
       "      <td>1049.0</td>\n",
       "      <td>0.0</td>\n",
       "      <td>353.0</td>\n",
       "      <td>3235.0</td>\n",
       "      <td>0</td>\n",
       "      <td>0.0</td>\n",
       "      <td>1.0</td>\n",
       "      <td>0.0</td>\n",
       "      <td>1.0</td>\n",
       "      <td>0.0</td>\n",
       "      <td>0.0</td>\n",
       "    </tr>\n",
       "    <tr>\n",
       "      <th>8692</th>\n",
       "      <td>0</td>\n",
       "      <td>44.0</td>\n",
       "      <td>0</td>\n",
       "      <td>126.0</td>\n",
       "      <td>4688.0</td>\n",
       "      <td>0.0</td>\n",
       "      <td>0.0</td>\n",
       "      <td>12.0</td>\n",
       "      <td>1</td>\n",
       "      <td>0.0</td>\n",
       "      <td>1.0</td>\n",
       "      <td>0.0</td>\n",
       "      <td>0.0</td>\n",
       "      <td>0.0</td>\n",
       "      <td>1.0</td>\n",
       "    </tr>\n",
       "  </tbody>\n",
       "</table>\n",
       "<p>8693 rows × 15 columns</p>\n",
       "</div>"
      ],
      "text/plain": [
       "     CryoSleep   Age VIP  RoomService  FoodCourt  ShoppingMall     Spa  \\\n",
       "0            0  39.0   0          0.0        0.0           0.0     0.0   \n",
       "1            0  24.0   0        109.0        9.0          25.0   549.0   \n",
       "2            0  58.0   1         43.0     3576.0           0.0  6715.0   \n",
       "3            0  33.0   0          0.0     1283.0         371.0  3329.0   \n",
       "4            0  16.0   0        303.0       70.0         151.0   565.0   \n",
       "...        ...   ...  ..          ...        ...           ...     ...   \n",
       "8688         0  41.0   1          0.0     6819.0           0.0  1643.0   \n",
       "8689         1  18.0   0          0.0        0.0           0.0     0.0   \n",
       "8690         0  26.0   0          0.0        0.0        1872.0     1.0   \n",
       "8691         0  32.0   0          0.0     1049.0           0.0   353.0   \n",
       "8692         0  44.0   0        126.0     4688.0           0.0     0.0   \n",
       "\n",
       "      VRDeck Transported    0    1    2    3    4    5  \n",
       "0        0.0           0  0.0  1.0  0.0  0.0  0.0  1.0  \n",
       "1       44.0           1  1.0  0.0  0.0  0.0  0.0  1.0  \n",
       "2       49.0           0  0.0  1.0  0.0  0.0  0.0  1.0  \n",
       "3      193.0           0  0.0  1.0  0.0  0.0  0.0  1.0  \n",
       "4        2.0           1  1.0  0.0  0.0  0.0  0.0  1.0  \n",
       "...      ...         ...  ...  ...  ...  ...  ...  ...  \n",
       "8688    74.0           0  0.0  1.0  0.0  1.0  0.0  0.0  \n",
       "8689     0.0           0  1.0  0.0  0.0  0.0  1.0  0.0  \n",
       "8690     0.0           1  1.0  0.0  0.0  0.0  0.0  1.0  \n",
       "8691  3235.0           0  0.0  1.0  0.0  1.0  0.0  0.0  \n",
       "8692    12.0           1  0.0  1.0  0.0  0.0  0.0  1.0  \n",
       "\n",
       "[8693 rows x 15 columns]"
      ]
     },
     "execution_count": 78,
     "metadata": {},
     "output_type": "execute_result"
    }
   ],
   "source": [
    "train_df"
   ]
  },
  {
   "cell_type": "code",
   "execution_count": 79,
   "id": "3bdc858e",
   "metadata": {
    "execution": {
     "iopub.execute_input": "2023-03-22T13:03:13.405030Z",
     "iopub.status.busy": "2023-03-22T13:03:13.404660Z",
     "iopub.status.idle": "2023-03-22T13:03:13.412074Z",
     "shell.execute_reply": "2023-03-22T13:03:13.411043Z"
    },
    "id": "CPs53FqGfe1g",
    "outputId": "c5794b98-18e7-4a1e-da2f-88ad24ba81f4",
    "papermill": {
     "duration": 0.048333,
     "end_time": "2023-03-22T13:03:13.413985",
     "exception": false,
     "start_time": "2023-03-22T13:03:13.365652",
     "status": "completed"
    },
    "tags": []
   },
   "outputs": [
    {
     "data": {
      "text/plain": [
       "CryoSleep        object\n",
       "Age             float64\n",
       "VIP              object\n",
       "RoomService     float64\n",
       "FoodCourt       float64\n",
       "ShoppingMall    float64\n",
       "Spa             float64\n",
       "VRDeck          float64\n",
       "Transported      object\n",
       "0               float64\n",
       "1               float64\n",
       "2               float64\n",
       "3               float64\n",
       "4               float64\n",
       "5               float64\n",
       "dtype: object"
      ]
     },
     "execution_count": 79,
     "metadata": {},
     "output_type": "execute_result"
    }
   ],
   "source": [
    "train_df.dtypes"
   ]
  },
  {
   "cell_type": "code",
   "execution_count": 80,
   "id": "62c7b0d3",
   "metadata": {
    "execution": {
     "iopub.execute_input": "2023-03-22T13:03:13.490616Z",
     "iopub.status.busy": "2023-03-22T13:03:13.490035Z",
     "iopub.status.idle": "2023-03-22T13:03:13.498335Z",
     "shell.execute_reply": "2023-03-22T13:03:13.497225Z"
    },
    "id": "wSNbdEQIfiWI",
    "papermill": {
     "duration": 0.048844,
     "end_time": "2023-03-22T13:03:13.500447",
     "exception": false,
     "start_time": "2023-03-22T13:03:13.451603",
     "status": "completed"
    },
    "tags": []
   },
   "outputs": [],
   "source": [
    "train_df[['CryoSleep', 'VIP', 'Transported']] = train_df[['CryoSleep', 'VIP', 'Transported']].astype('int64')"
   ]
  },
  {
   "cell_type": "code",
   "execution_count": 81,
   "id": "1f1bb0b0",
   "metadata": {
    "execution": {
     "iopub.execute_input": "2023-03-22T13:03:13.574494Z",
     "iopub.status.busy": "2023-03-22T13:03:13.574154Z",
     "iopub.status.idle": "2023-03-22T13:03:13.585424Z",
     "shell.execute_reply": "2023-03-22T13:03:13.584263Z"
    },
    "id": "_xy6ajc2upDK",
    "papermill": {
     "duration": 0.051519,
     "end_time": "2023-03-22T13:03:13.588466",
     "exception": false,
     "start_time": "2023-03-22T13:03:13.536947",
     "status": "completed"
    },
    "tags": []
   },
   "outputs": [],
   "source": [
    "test_df[['CryoSleep', 'VIP']] = train_df[['CryoSleep', 'VIP']].astype('int64')"
   ]
  },
  {
   "cell_type": "code",
   "execution_count": 82,
   "id": "cd58b031",
   "metadata": {
    "execution": {
     "iopub.execute_input": "2023-03-22T13:03:13.663331Z",
     "iopub.status.busy": "2023-03-22T13:03:13.662969Z",
     "iopub.status.idle": "2023-03-22T13:03:13.672797Z",
     "shell.execute_reply": "2023-03-22T13:03:13.671511Z"
    },
    "id": "2X_aud31frsa",
    "outputId": "617fcd0f-aa92-4f45-923a-b675310ab5d7",
    "papermill": {
     "duration": 0.049945,
     "end_time": "2023-03-22T13:03:13.675239",
     "exception": false,
     "start_time": "2023-03-22T13:03:13.625294",
     "status": "completed"
    },
    "tags": []
   },
   "outputs": [
    {
     "data": {
      "text/plain": [
       "CryoSleep         int64\n",
       "Age             float64\n",
       "VIP               int64\n",
       "RoomService     float64\n",
       "FoodCourt       float64\n",
       "ShoppingMall    float64\n",
       "Spa             float64\n",
       "VRDeck          float64\n",
       "Transported       int64\n",
       "0               float64\n",
       "1               float64\n",
       "2               float64\n",
       "3               float64\n",
       "4               float64\n",
       "5               float64\n",
       "dtype: object"
      ]
     },
     "execution_count": 82,
     "metadata": {},
     "output_type": "execute_result"
    }
   ],
   "source": [
    "train_df.dtypes"
   ]
  },
  {
   "cell_type": "code",
   "execution_count": 83,
   "id": "50d09207",
   "metadata": {
    "execution": {
     "iopub.execute_input": "2023-03-22T13:03:13.751142Z",
     "iopub.status.busy": "2023-03-22T13:03:13.750743Z",
     "iopub.status.idle": "2023-03-22T13:03:13.759844Z",
     "shell.execute_reply": "2023-03-22T13:03:13.758092Z"
    },
    "id": "m_CSB0m1vhvC",
    "outputId": "3b086c0f-5e1d-48bd-fd3b-052a42c06e8c",
    "papermill": {
     "duration": 0.051067,
     "end_time": "2023-03-22T13:03:13.762846",
     "exception": false,
     "start_time": "2023-03-22T13:03:13.711779",
     "status": "completed"
    },
    "tags": []
   },
   "outputs": [
    {
     "data": {
      "text/plain": [
       "CryoSleep         int64\n",
       "Age             float64\n",
       "VIP               int64\n",
       "RoomService     float64\n",
       "FoodCourt       float64\n",
       "ShoppingMall    float64\n",
       "Spa             float64\n",
       "VRDeck          float64\n",
       "0               float64\n",
       "1               float64\n",
       "2               float64\n",
       "3               float64\n",
       "4               float64\n",
       "5               float64\n",
       "dtype: object"
      ]
     },
     "execution_count": 83,
     "metadata": {},
     "output_type": "execute_result"
    }
   ],
   "source": [
    "test_df.dtypes"
   ]
  },
  {
   "cell_type": "code",
   "execution_count": 84,
   "id": "8f0e36fe",
   "metadata": {
    "execution": {
     "iopub.execute_input": "2023-03-22T13:03:13.901657Z",
     "iopub.status.busy": "2023-03-22T13:03:13.901303Z",
     "iopub.status.idle": "2023-03-22T13:03:13.934130Z",
     "shell.execute_reply": "2023-03-22T13:03:13.932105Z"
    },
    "id": "Uj-1b_Cxf_x3",
    "outputId": "09c8fa97-42a9-4596-e4ef-ea72772ba617",
    "papermill": {
     "duration": 0.074502,
     "end_time": "2023-03-22T13:03:13.937212",
     "exception": false,
     "start_time": "2023-03-22T13:03:13.862710",
     "status": "completed"
    },
    "tags": []
   },
   "outputs": [
    {
     "data": {
      "text/html": [
       "<div>\n",
       "<style scoped>\n",
       "    .dataframe tbody tr th:only-of-type {\n",
       "        vertical-align: middle;\n",
       "    }\n",
       "\n",
       "    .dataframe tbody tr th {\n",
       "        vertical-align: top;\n",
       "    }\n",
       "\n",
       "    .dataframe thead th {\n",
       "        text-align: right;\n",
       "    }\n",
       "</style>\n",
       "<table border=\"1\" class=\"dataframe\">\n",
       "  <thead>\n",
       "    <tr style=\"text-align: right;\">\n",
       "      <th></th>\n",
       "      <th>CryoSleep</th>\n",
       "      <th>Age</th>\n",
       "      <th>VIP</th>\n",
       "      <th>RoomService</th>\n",
       "      <th>FoodCourt</th>\n",
       "      <th>ShoppingMall</th>\n",
       "      <th>Spa</th>\n",
       "      <th>VRDeck</th>\n",
       "      <th>Transported</th>\n",
       "      <th>0</th>\n",
       "      <th>1</th>\n",
       "      <th>2</th>\n",
       "      <th>3</th>\n",
       "      <th>4</th>\n",
       "      <th>5</th>\n",
       "    </tr>\n",
       "  </thead>\n",
       "  <tbody>\n",
       "    <tr>\n",
       "      <th>0</th>\n",
       "      <td>0</td>\n",
       "      <td>39.0</td>\n",
       "      <td>0</td>\n",
       "      <td>0.0</td>\n",
       "      <td>0.0</td>\n",
       "      <td>0.0</td>\n",
       "      <td>0.0</td>\n",
       "      <td>0.0</td>\n",
       "      <td>0</td>\n",
       "      <td>0.0</td>\n",
       "      <td>1.0</td>\n",
       "      <td>0.0</td>\n",
       "      <td>0.0</td>\n",
       "      <td>0.0</td>\n",
       "      <td>1.0</td>\n",
       "    </tr>\n",
       "    <tr>\n",
       "      <th>1</th>\n",
       "      <td>0</td>\n",
       "      <td>24.0</td>\n",
       "      <td>0</td>\n",
       "      <td>109.0</td>\n",
       "      <td>9.0</td>\n",
       "      <td>25.0</td>\n",
       "      <td>549.0</td>\n",
       "      <td>44.0</td>\n",
       "      <td>1</td>\n",
       "      <td>1.0</td>\n",
       "      <td>0.0</td>\n",
       "      <td>0.0</td>\n",
       "      <td>0.0</td>\n",
       "      <td>0.0</td>\n",
       "      <td>1.0</td>\n",
       "    </tr>\n",
       "    <tr>\n",
       "      <th>2</th>\n",
       "      <td>0</td>\n",
       "      <td>58.0</td>\n",
       "      <td>1</td>\n",
       "      <td>43.0</td>\n",
       "      <td>3576.0</td>\n",
       "      <td>0.0</td>\n",
       "      <td>6715.0</td>\n",
       "      <td>49.0</td>\n",
       "      <td>0</td>\n",
       "      <td>0.0</td>\n",
       "      <td>1.0</td>\n",
       "      <td>0.0</td>\n",
       "      <td>0.0</td>\n",
       "      <td>0.0</td>\n",
       "      <td>1.0</td>\n",
       "    </tr>\n",
       "    <tr>\n",
       "      <th>3</th>\n",
       "      <td>0</td>\n",
       "      <td>33.0</td>\n",
       "      <td>0</td>\n",
       "      <td>0.0</td>\n",
       "      <td>1283.0</td>\n",
       "      <td>371.0</td>\n",
       "      <td>3329.0</td>\n",
       "      <td>193.0</td>\n",
       "      <td>0</td>\n",
       "      <td>0.0</td>\n",
       "      <td>1.0</td>\n",
       "      <td>0.0</td>\n",
       "      <td>0.0</td>\n",
       "      <td>0.0</td>\n",
       "      <td>1.0</td>\n",
       "    </tr>\n",
       "    <tr>\n",
       "      <th>4</th>\n",
       "      <td>0</td>\n",
       "      <td>16.0</td>\n",
       "      <td>0</td>\n",
       "      <td>303.0</td>\n",
       "      <td>70.0</td>\n",
       "      <td>151.0</td>\n",
       "      <td>565.0</td>\n",
       "      <td>2.0</td>\n",
       "      <td>1</td>\n",
       "      <td>1.0</td>\n",
       "      <td>0.0</td>\n",
       "      <td>0.0</td>\n",
       "      <td>0.0</td>\n",
       "      <td>0.0</td>\n",
       "      <td>1.0</td>\n",
       "    </tr>\n",
       "    <tr>\n",
       "      <th>...</th>\n",
       "      <td>...</td>\n",
       "      <td>...</td>\n",
       "      <td>...</td>\n",
       "      <td>...</td>\n",
       "      <td>...</td>\n",
       "      <td>...</td>\n",
       "      <td>...</td>\n",
       "      <td>...</td>\n",
       "      <td>...</td>\n",
       "      <td>...</td>\n",
       "      <td>...</td>\n",
       "      <td>...</td>\n",
       "      <td>...</td>\n",
       "      <td>...</td>\n",
       "      <td>...</td>\n",
       "    </tr>\n",
       "    <tr>\n",
       "      <th>8688</th>\n",
       "      <td>0</td>\n",
       "      <td>41.0</td>\n",
       "      <td>1</td>\n",
       "      <td>0.0</td>\n",
       "      <td>6819.0</td>\n",
       "      <td>0.0</td>\n",
       "      <td>1643.0</td>\n",
       "      <td>74.0</td>\n",
       "      <td>0</td>\n",
       "      <td>0.0</td>\n",
       "      <td>1.0</td>\n",
       "      <td>0.0</td>\n",
       "      <td>1.0</td>\n",
       "      <td>0.0</td>\n",
       "      <td>0.0</td>\n",
       "    </tr>\n",
       "    <tr>\n",
       "      <th>8689</th>\n",
       "      <td>1</td>\n",
       "      <td>18.0</td>\n",
       "      <td>0</td>\n",
       "      <td>0.0</td>\n",
       "      <td>0.0</td>\n",
       "      <td>0.0</td>\n",
       "      <td>0.0</td>\n",
       "      <td>0.0</td>\n",
       "      <td>0</td>\n",
       "      <td>1.0</td>\n",
       "      <td>0.0</td>\n",
       "      <td>0.0</td>\n",
       "      <td>0.0</td>\n",
       "      <td>1.0</td>\n",
       "      <td>0.0</td>\n",
       "    </tr>\n",
       "    <tr>\n",
       "      <th>8690</th>\n",
       "      <td>0</td>\n",
       "      <td>26.0</td>\n",
       "      <td>0</td>\n",
       "      <td>0.0</td>\n",
       "      <td>0.0</td>\n",
       "      <td>1872.0</td>\n",
       "      <td>1.0</td>\n",
       "      <td>0.0</td>\n",
       "      <td>1</td>\n",
       "      <td>1.0</td>\n",
       "      <td>0.0</td>\n",
       "      <td>0.0</td>\n",
       "      <td>0.0</td>\n",
       "      <td>0.0</td>\n",
       "      <td>1.0</td>\n",
       "    </tr>\n",
       "    <tr>\n",
       "      <th>8691</th>\n",
       "      <td>0</td>\n",
       "      <td>32.0</td>\n",
       "      <td>0</td>\n",
       "      <td>0.0</td>\n",
       "      <td>1049.0</td>\n",
       "      <td>0.0</td>\n",
       "      <td>353.0</td>\n",
       "      <td>3235.0</td>\n",
       "      <td>0</td>\n",
       "      <td>0.0</td>\n",
       "      <td>1.0</td>\n",
       "      <td>0.0</td>\n",
       "      <td>1.0</td>\n",
       "      <td>0.0</td>\n",
       "      <td>0.0</td>\n",
       "    </tr>\n",
       "    <tr>\n",
       "      <th>8692</th>\n",
       "      <td>0</td>\n",
       "      <td>44.0</td>\n",
       "      <td>0</td>\n",
       "      <td>126.0</td>\n",
       "      <td>4688.0</td>\n",
       "      <td>0.0</td>\n",
       "      <td>0.0</td>\n",
       "      <td>12.0</td>\n",
       "      <td>1</td>\n",
       "      <td>0.0</td>\n",
       "      <td>1.0</td>\n",
       "      <td>0.0</td>\n",
       "      <td>0.0</td>\n",
       "      <td>0.0</td>\n",
       "      <td>1.0</td>\n",
       "    </tr>\n",
       "  </tbody>\n",
       "</table>\n",
       "<p>8693 rows × 15 columns</p>\n",
       "</div>"
      ],
      "text/plain": [
       "      CryoSleep   Age  VIP  RoomService  FoodCourt  ShoppingMall     Spa  \\\n",
       "0             0  39.0    0          0.0        0.0           0.0     0.0   \n",
       "1             0  24.0    0        109.0        9.0          25.0   549.0   \n",
       "2             0  58.0    1         43.0     3576.0           0.0  6715.0   \n",
       "3             0  33.0    0          0.0     1283.0         371.0  3329.0   \n",
       "4             0  16.0    0        303.0       70.0         151.0   565.0   \n",
       "...         ...   ...  ...          ...        ...           ...     ...   \n",
       "8688          0  41.0    1          0.0     6819.0           0.0  1643.0   \n",
       "8689          1  18.0    0          0.0        0.0           0.0     0.0   \n",
       "8690          0  26.0    0          0.0        0.0        1872.0     1.0   \n",
       "8691          0  32.0    0          0.0     1049.0           0.0   353.0   \n",
       "8692          0  44.0    0        126.0     4688.0           0.0     0.0   \n",
       "\n",
       "      VRDeck  Transported    0    1    2    3    4    5  \n",
       "0        0.0            0  0.0  1.0  0.0  0.0  0.0  1.0  \n",
       "1       44.0            1  1.0  0.0  0.0  0.0  0.0  1.0  \n",
       "2       49.0            0  0.0  1.0  0.0  0.0  0.0  1.0  \n",
       "3      193.0            0  0.0  1.0  0.0  0.0  0.0  1.0  \n",
       "4        2.0            1  1.0  0.0  0.0  0.0  0.0  1.0  \n",
       "...      ...          ...  ...  ...  ...  ...  ...  ...  \n",
       "8688    74.0            0  0.0  1.0  0.0  1.0  0.0  0.0  \n",
       "8689     0.0            0  1.0  0.0  0.0  0.0  1.0  0.0  \n",
       "8690     0.0            1  1.0  0.0  0.0  0.0  0.0  1.0  \n",
       "8691  3235.0            0  0.0  1.0  0.0  1.0  0.0  0.0  \n",
       "8692    12.0            1  0.0  1.0  0.0  0.0  0.0  1.0  \n",
       "\n",
       "[8693 rows x 15 columns]"
      ]
     },
     "execution_count": 84,
     "metadata": {},
     "output_type": "execute_result"
    }
   ],
   "source": [
    "train_df"
   ]
  },
  {
   "cell_type": "code",
   "execution_count": 85,
   "id": "5a61bab1",
   "metadata": {
    "execution": {
     "iopub.execute_input": "2023-03-22T13:03:14.030543Z",
     "iopub.status.busy": "2023-03-22T13:03:14.030130Z",
     "iopub.status.idle": "2023-03-22T13:03:14.112494Z",
     "shell.execute_reply": "2023-03-22T13:03:14.111157Z"
    },
    "id": "BsysfLnnaHzb",
    "papermill": {
     "duration": 0.130706,
     "end_time": "2023-03-22T13:03:14.115397",
     "exception": false,
     "start_time": "2023-03-22T13:03:13.984691",
     "status": "completed"
    },
    "tags": []
   },
   "outputs": [],
   "source": [
    "from sklearn.model_selection import train_test_split\n",
    "\n",
    "X = train_df.drop('Transported', axis=1).values\n",
    "y = train_df['Transported']\n",
    "\n",
    "X_train,X_test,y_train,y_test = train_test_split(X, y, test_size=0.3)"
   ]
  },
  {
   "cell_type": "code",
   "execution_count": 86,
   "id": "274b6cf7",
   "metadata": {
    "execution": {
     "iopub.execute_input": "2023-03-22T13:03:14.194303Z",
     "iopub.status.busy": "2023-03-22T13:03:14.193770Z",
     "iopub.status.idle": "2023-03-22T13:03:14.201848Z",
     "shell.execute_reply": "2023-03-22T13:03:14.199704Z"
    },
    "id": "hUamfsi1cmxG",
    "outputId": "3ee7b2d0-6df7-4708-cf73-05c289d2fc25",
    "papermill": {
     "duration": 0.05108,
     "end_time": "2023-03-22T13:03:14.204517",
     "exception": false,
     "start_time": "2023-03-22T13:03:14.153437",
     "status": "completed"
    },
    "tags": []
   },
   "outputs": [
    {
     "data": {
      "text/plain": [
       "((6085, 14), (2608, 14))"
      ]
     },
     "execution_count": 86,
     "metadata": {},
     "output_type": "execute_result"
    }
   ],
   "source": [
    "X_train.shape, X_test.shape"
   ]
  },
  {
   "cell_type": "code",
   "execution_count": 87,
   "id": "7286355a",
   "metadata": {
    "execution": {
     "iopub.execute_input": "2023-03-22T13:03:14.282454Z",
     "iopub.status.busy": "2023-03-22T13:03:14.282092Z",
     "iopub.status.idle": "2023-03-22T13:03:14.290257Z",
     "shell.execute_reply": "2023-03-22T13:03:14.288740Z"
    },
    "id": "2qfRPw7icqNq",
    "outputId": "dbaf073b-98de-42af-d231-34386e558fd3",
    "papermill": {
     "duration": 0.04981,
     "end_time": "2023-03-22T13:03:14.292424",
     "exception": false,
     "start_time": "2023-03-22T13:03:14.242614",
     "status": "completed"
    },
    "tags": []
   },
   "outputs": [
    {
     "data": {
      "text/plain": [
       "((6085,), (2608,))"
      ]
     },
     "execution_count": 87,
     "metadata": {},
     "output_type": "execute_result"
    }
   ],
   "source": [
    "y_train.shape, y_test.shape"
   ]
  },
  {
   "cell_type": "code",
   "execution_count": 88,
   "id": "95765fc4",
   "metadata": {
    "execution": {
     "iopub.execute_input": "2023-03-22T13:03:14.369200Z",
     "iopub.status.busy": "2023-03-22T13:03:14.368818Z",
     "iopub.status.idle": "2023-03-22T13:03:14.374135Z",
     "shell.execute_reply": "2023-03-22T13:03:14.372853Z"
    },
    "id": "MSoxOaeRllFA",
    "papermill": {
     "duration": 0.047421,
     "end_time": "2023-03-22T13:03:14.376872",
     "exception": false,
     "start_time": "2023-03-22T13:03:14.329451",
     "status": "completed"
    },
    "tags": []
   },
   "outputs": [],
   "source": [
    "from sklearn.metrics import classification_report, confusion_matrix, accuracy_score"
   ]
  },
  {
   "cell_type": "markdown",
   "id": "532cf066",
   "metadata": {
    "id": "nHNNGgPxlgkf",
    "papermill": {
     "duration": 0.03716,
     "end_time": "2023-03-22T13:03:14.453159",
     "exception": false,
     "start_time": "2023-03-22T13:03:14.415999",
     "status": "completed"
    },
    "tags": []
   },
   "source": [
    "### Decision Tree"
   ]
  },
  {
   "cell_type": "code",
   "execution_count": 89,
   "id": "6ef2242a",
   "metadata": {
    "execution": {
     "iopub.execute_input": "2023-03-22T13:03:14.531532Z",
     "iopub.status.busy": "2023-03-22T13:03:14.531076Z",
     "iopub.status.idle": "2023-03-22T13:03:14.818626Z",
     "shell.execute_reply": "2023-03-22T13:03:14.817096Z"
    },
    "id": "ot7yhM6HeB9i",
    "outputId": "ff330270-33f0-4ea4-b952-91f4c5d38c3e",
    "papermill": {
     "duration": 0.328152,
     "end_time": "2023-03-22T13:03:14.820612",
     "exception": false,
     "start_time": "2023-03-22T13:03:14.492460",
     "status": "completed"
    },
    "tags": []
   },
   "outputs": [
    {
     "name": "stdout",
     "output_type": "stream",
     "text": [
      "0.7423312883435583\n"
     ]
    }
   ],
   "source": [
    "from sklearn.tree import DecisionTreeClassifier, plot_tree\n",
    "\n",
    "decision_tree = DecisionTreeClassifier()\n",
    "\n",
    "decision_tree.fit(X_train, y_train)\n",
    "y_pred = decision_tree.predict(X_test)\n",
    "\n",
    "print(accuracy_score(y_test, y_pred))"
   ]
  },
  {
   "cell_type": "code",
   "execution_count": 90,
   "id": "f9cfcbd2",
   "metadata": {
    "execution": {
     "iopub.execute_input": "2023-03-22T13:03:14.898766Z",
     "iopub.status.busy": "2023-03-22T13:03:14.898374Z",
     "iopub.status.idle": "2023-03-22T13:03:15.095211Z",
     "shell.execute_reply": "2023-03-22T13:03:15.093980Z"
    },
    "id": "JVw75vYbfVqZ",
    "outputId": "6f2cafdd-a8a1-462d-c3e4-1672636e34cd",
    "papermill": {
     "duration": 0.23815,
     "end_time": "2023-03-22T13:03:15.097247",
     "exception": false,
     "start_time": "2023-03-22T13:03:14.859097",
     "status": "completed"
    },
    "tags": []
   },
   "outputs": [
    {
     "data": {
      "text/plain": [
       "<AxesSubplot:>"
      ]
     },
     "execution_count": 90,
     "metadata": {},
     "output_type": "execute_result"
    },
    {
     "data": {
      "image/png": "[encoded data removed]",
      "text/plain": [
       "<Figure size 640x480 with 2 Axes>"
      ]
     },
     "metadata": {},
     "output_type": "display_data"
    }
   ],
   "source": [
    "cm = confusion_matrix(y_test, y_pred)\n",
    "sns.heatmap(cm, annot=True)"
   ]
  },
  {
   "cell_type": "code",
   "execution_count": 91,
   "id": "9426171a",
   "metadata": {
    "execution": {
     "iopub.execute_input": "2023-03-22T13:03:15.176170Z",
     "iopub.status.busy": "2023-03-22T13:03:15.175464Z",
     "iopub.status.idle": "2023-03-22T13:03:15.186618Z",
     "shell.execute_reply": "2023-03-22T13:03:15.185217Z"
    },
    "id": "KbUEFMfohb4J",
    "outputId": "73cdc2e4-13b7-4de0-f808-5e7caaeb8e84",
    "papermill": {
     "duration": 0.053825,
     "end_time": "2023-03-22T13:03:15.189302",
     "exception": false,
     "start_time": "2023-03-22T13:03:15.135477",
     "status": "completed"
    },
    "tags": []
   },
   "outputs": [
    {
     "name": "stdout",
     "output_type": "stream",
     "text": [
      "              precision    recall  f1-score   support\n",
      "\n",
      "           0       0.76      0.73      0.74      1335\n",
      "           1       0.73      0.75      0.74      1273\n",
      "\n",
      "    accuracy                           0.74      2608\n",
      "   macro avg       0.74      0.74      0.74      2608\n",
      "weighted avg       0.74      0.74      0.74      2608\n",
      "\n"
     ]
    }
   ],
   "source": [
    "print(classification_report(y_test, y_pred))"
   ]
  },
  {
   "cell_type": "markdown",
   "id": "30c0d7e6",
   "metadata": {
    "id": "KuGW4RdcmCzz",
    "papermill": {
     "duration": 0.037469,
     "end_time": "2023-03-22T13:03:15.264385",
     "exception": false,
     "start_time": "2023-03-22T13:03:15.226916",
     "status": "completed"
    },
    "tags": []
   },
   "source": [
    "### Naive Bayes"
   ]
  },
  {
   "cell_type": "code",
   "execution_count": 92,
   "id": "f311185c",
   "metadata": {
    "execution": {
     "iopub.execute_input": "2023-03-22T13:03:15.342487Z",
     "iopub.status.busy": "2023-03-22T13:03:15.341697Z",
     "iopub.status.idle": "2023-03-22T13:03:15.353350Z",
     "shell.execute_reply": "2023-03-22T13:03:15.352497Z"
    },
    "id": "WA37OXe0iPw3",
    "papermill": {
     "duration": 0.053935,
     "end_time": "2023-03-22T13:03:15.355827",
     "exception": false,
     "start_time": "2023-03-22T13:03:15.301892",
     "status": "completed"
    },
    "tags": []
   },
   "outputs": [],
   "source": [
    "from sklearn.naive_bayes import MultinomialNB"
   ]
  },
  {
   "cell_type": "code",
   "execution_count": 93,
   "id": "cf002427",
   "metadata": {
    "execution": {
     "iopub.execute_input": "2023-03-22T13:03:15.435411Z",
     "iopub.status.busy": "2023-03-22T13:03:15.435003Z",
     "iopub.status.idle": "2023-03-22T13:03:15.442920Z",
     "shell.execute_reply": "2023-03-22T13:03:15.441360Z"
    },
    "id": "OP5kzRmUmTYG",
    "papermill": {
     "duration": 0.051174,
     "end_time": "2023-03-22T13:03:15.445673",
     "exception": false,
     "start_time": "2023-03-22T13:03:15.394499",
     "status": "completed"
    },
    "tags": []
   },
   "outputs": [],
   "source": [
    "naive_bayes = MultinomialNB()\n",
    "naive_bayes.fit(X_train, y_train)\n",
    "\n",
    "y_pred = naive_bayes.predict(X_test)"
   ]
  },
  {
   "cell_type": "code",
   "execution_count": 94,
   "id": "9b882cad",
   "metadata": {
    "execution": {
     "iopub.execute_input": "2023-03-22T13:03:15.527393Z",
     "iopub.status.busy": "2023-03-22T13:03:15.526970Z",
     "iopub.status.idle": "2023-03-22T13:03:15.534639Z",
     "shell.execute_reply": "2023-03-22T13:03:15.532456Z"
    },
    "id": "OMmtN720mWbe",
    "outputId": "fe90db15-c111-4ac6-a416-7a48360a8245",
    "papermill": {
     "duration": 0.052119,
     "end_time": "2023-03-22T13:03:15.538354",
     "exception": false,
     "start_time": "2023-03-22T13:03:15.486235",
     "status": "completed"
    },
    "tags": []
   },
   "outputs": [
    {
     "name": "stdout",
     "output_type": "stream",
     "text": [
      "0.7799079754601227\n"
     ]
    }
   ],
   "source": [
    "print(accuracy_score(y_test, y_pred))"
   ]
  },
  {
   "cell_type": "code",
   "execution_count": 95,
   "id": "8d9ccf55",
   "metadata": {
    "execution": {
     "iopub.execute_input": "2023-03-22T13:03:15.620639Z",
     "iopub.status.busy": "2023-03-22T13:03:15.620223Z",
     "iopub.status.idle": "2023-03-22T13:03:15.813823Z",
     "shell.execute_reply": "2023-03-22T13:03:15.812666Z"
    },
    "id": "k7tG4TAnmhAu",
    "outputId": "91916ef5-d92d-42d0-946e-0fb3a38ba8cb",
    "papermill": {
     "duration": 0.238168,
     "end_time": "2023-03-22T13:03:15.816870",
     "exception": false,
     "start_time": "2023-03-22T13:03:15.578702",
     "status": "completed"
    },
    "tags": []
   },
   "outputs": [
    {
     "data": {
      "text/plain": [
       "<AxesSubplot:>"
      ]
     },
     "execution_count": 95,
     "metadata": {},
     "output_type": "execute_result"
    },
    {
     "data": {
      "image/png": "[encoded data removed]",
      "text/plain": [
       "<Figure size 640x480 with 2 Axes>"
      ]
     },
     "metadata": {},
     "output_type": "display_data"
    }
   ],
   "source": [
    "cm = confusion_matrix(y_test, y_pred)\n",
    "sns.heatmap(cm, annot=True)"
   ]
  },
  {
   "cell_type": "code",
   "execution_count": 96,
   "id": "3d8fe0b2",
   "metadata": {
    "execution": {
     "iopub.execute_input": "2023-03-22T13:03:15.896782Z",
     "iopub.status.busy": "2023-03-22T13:03:15.896297Z",
     "iopub.status.idle": "2023-03-22T13:03:15.907627Z",
     "shell.execute_reply": "2023-03-22T13:03:15.906802Z"
    },
    "id": "xbjooNUCmik-",
    "outputId": "a2177863-0112-465a-d7ec-af9d78aba37e",
    "papermill": {
     "duration": 0.054198,
     "end_time": "2023-03-22T13:03:15.910155",
     "exception": false,
     "start_time": "2023-03-22T13:03:15.855957",
     "status": "completed"
    },
    "tags": []
   },
   "outputs": [
    {
     "name": "stdout",
     "output_type": "stream",
     "text": [
      "              precision    recall  f1-score   support\n",
      "\n",
      "           0       0.89      0.65      0.75      1335\n",
      "           1       0.71      0.92      0.80      1273\n",
      "\n",
      "    accuracy                           0.78      2608\n",
      "   macro avg       0.80      0.78      0.78      2608\n",
      "weighted avg       0.80      0.78      0.78      2608\n",
      "\n"
     ]
    }
   ],
   "source": [
    "print(classification_report(y_test, y_pred))"
   ]
  },
  {
   "cell_type": "markdown",
   "id": "82b83a15",
   "metadata": {
    "id": "60sVifOJpcH6",
    "papermill": {
     "duration": 0.037866,
     "end_time": "2023-03-22T13:03:15.986913",
     "exception": false,
     "start_time": "2023-03-22T13:03:15.949047",
     "status": "completed"
    },
    "tags": []
   },
   "source": [
    "### Logistic Regression"
   ]
  },
  {
   "cell_type": "code",
   "execution_count": 97,
   "id": "1e66a50d",
   "metadata": {
    "execution": {
     "iopub.execute_input": "2023-03-22T13:03:16.066576Z",
     "iopub.status.busy": "2023-03-22T13:03:16.065956Z",
     "iopub.status.idle": "2023-03-22T13:03:16.070569Z",
     "shell.execute_reply": "2023-03-22T13:03:16.069157Z"
    },
    "id": "Hax5R2OPnEz2",
    "papermill": {
     "duration": 0.048029,
     "end_time": "2023-03-22T13:03:16.073434",
     "exception": false,
     "start_time": "2023-03-22T13:03:16.025405",
     "status": "completed"
    },
    "tags": []
   },
   "outputs": [],
   "source": [
    "from sklearn.linear_model import LogisticRegression"
   ]
  },
  {
   "cell_type": "code",
   "execution_count": 98,
   "id": "d6245aef",
   "metadata": {
    "execution": {
     "iopub.execute_input": "2023-03-22T13:03:16.152879Z",
     "iopub.status.busy": "2023-03-22T13:03:16.152338Z",
     "iopub.status.idle": "2023-03-22T13:03:16.234425Z",
     "shell.execute_reply": "2023-03-22T13:03:16.233432Z"
    },
    "id": "9E_-bqZAqCq8",
    "outputId": "75afbd02-2aa4-46ba-8b99-f827462559e9",
    "papermill": {
     "duration": 0.125271,
     "end_time": "2023-03-22T13:03:16.237406",
     "exception": false,
     "start_time": "2023-03-22T13:03:16.112135",
     "status": "completed"
    },
    "tags": []
   },
   "outputs": [
    {
     "name": "stderr",
     "output_type": "stream",
     "text": [
      "/opt/conda/lib/python3.7/site-packages/sklearn/linear_model/_logistic.py:818: ConvergenceWarning: lbfgs failed to converge (status=1):\n",
      "STOP: TOTAL NO. of ITERATIONS REACHED LIMIT.\n",
      "\n",
      "Increase the number of iterations (max_iter) or scale the data as shown in:\n",
      "    https://scikit-learn.org/stable/modules/preprocessing.html\n",
      "Please also refer to the documentation for alternative solver options:\n",
      "    https://scikit-learn.org/stable/modules/linear_model.html#logistic-regression\n",
      "  extra_warning_msg=_LOGISTIC_SOLVER_CONVERGENCE_MSG,\n"
     ]
    }
   ],
   "source": [
    "logistic_regression = LogisticRegression()\n",
    "\n",
    "logistic_regression.fit(X_train, y_train)\n",
    "y_pred = logistic_regression.predict(X_test)"
   ]
  },
  {
   "cell_type": "code",
   "execution_count": 99,
   "id": "5d927028",
   "metadata": {
    "execution": {
     "iopub.execute_input": "2023-03-22T13:03:16.341555Z",
     "iopub.status.busy": "2023-03-22T13:03:16.340157Z",
     "iopub.status.idle": "2023-03-22T13:03:16.346627Z",
     "shell.execute_reply": "2023-03-22T13:03:16.345857Z"
    },
    "id": "rsM14mPsIFbM",
    "outputId": "c408a661-56e7-42b9-c8df-adb66ef6f3d8",
    "papermill": {
     "duration": 0.063673,
     "end_time": "2023-03-22T13:03:16.350626",
     "exception": false,
     "start_time": "2023-03-22T13:03:16.286953",
     "status": "completed"
    },
    "tags": []
   },
   "outputs": [
    {
     "name": "stdout",
     "output_type": "stream",
     "text": [
      "0.7963957055214724\n"
     ]
    }
   ],
   "source": [
    "print(accuracy_score(y_test, y_pred))"
   ]
  },
  {
   "cell_type": "code",
   "execution_count": 100,
   "id": "80d29a32",
   "metadata": {
    "execution": {
     "iopub.execute_input": "2023-03-22T13:03:16.430710Z",
     "iopub.status.busy": "2023-03-22T13:03:16.430343Z",
     "iopub.status.idle": "2023-03-22T13:03:16.633040Z",
     "shell.execute_reply": "2023-03-22T13:03:16.632064Z"
    },
    "id": "g5Dl53nBILM0",
    "outputId": "b20a1035-791f-45af-8937-acb878a0ba7a",
    "papermill": {
     "duration": 0.245415,
     "end_time": "2023-03-22T13:03:16.635153",
     "exception": false,
     "start_time": "2023-03-22T13:03:16.389738",
     "status": "completed"
    },
    "tags": []
   },
   "outputs": [
    {
     "data": {
      "text/plain": [
       "<AxesSubplot:>"
      ]
     },
     "execution_count": 100,
     "metadata": {},
     "output_type": "execute_result"
    },
    {
     "data": {
      "image/png": "[encoded data removed]",
      "text/plain": [
       "<Figure size 640x480 with 2 Axes>"
      ]
     },
     "metadata": {},
     "output_type": "display_data"
    }
   ],
   "source": [
    "cm = confusion_matrix(y_test, y_pred)\n",
    "sns.heatmap(cm, annot=True)"
   ]
  },
  {
   "cell_type": "code",
   "execution_count": 101,
   "id": "e137fd8e",
   "metadata": {
    "execution": {
     "iopub.execute_input": "2023-03-22T13:03:16.717590Z",
     "iopub.status.busy": "2023-03-22T13:03:16.717175Z",
     "iopub.status.idle": "2023-03-22T13:03:16.728837Z",
     "shell.execute_reply": "2023-03-22T13:03:16.727278Z"
    },
    "id": "8Ejcfo4OqDLc",
    "outputId": "2872a999-fea0-454f-8931-f77f868a029f",
    "papermill": {
     "duration": 0.055144,
     "end_time": "2023-03-22T13:03:16.730895",
     "exception": false,
     "start_time": "2023-03-22T13:03:16.675751",
     "status": "completed"
    },
    "tags": []
   },
   "outputs": [
    {
     "name": "stdout",
     "output_type": "stream",
     "text": [
      "              precision    recall  f1-score   support\n",
      "\n",
      "           0       0.81      0.79      0.80      1335\n",
      "           1       0.79      0.80      0.79      1273\n",
      "\n",
      "    accuracy                           0.80      2608\n",
      "   macro avg       0.80      0.80      0.80      2608\n",
      "weighted avg       0.80      0.80      0.80      2608\n",
      "\n"
     ]
    }
   ],
   "source": [
    "print(classification_report(y_test, y_pred))"
   ]
  },
  {
   "cell_type": "markdown",
   "id": "f5f9abe1",
   "metadata": {
    "id": "rlO7r9FnWRyZ",
    "papermill": {
     "duration": 0.040295,
     "end_time": "2023-03-22T13:03:16.810601",
     "exception": false,
     "start_time": "2023-03-22T13:03:16.770306",
     "status": "completed"
    },
    "tags": []
   },
   "source": [
    "### Random Forest"
   ]
  },
  {
   "cell_type": "code",
   "execution_count": 102,
   "id": "f53890e6",
   "metadata": {
    "execution": {
     "iopub.execute_input": "2023-03-22T13:03:16.892521Z",
     "iopub.status.busy": "2023-03-22T13:03:16.891624Z",
     "iopub.status.idle": "2023-03-22T13:03:17.019730Z",
     "shell.execute_reply": "2023-03-22T13:03:17.018171Z"
    },
    "id": "FX7VJxL1WTgB",
    "papermill": {
     "duration": 0.17201,
     "end_time": "2023-03-22T13:03:17.022546",
     "exception": false,
     "start_time": "2023-03-22T13:03:16.850536",
     "status": "completed"
    },
    "tags": []
   },
   "outputs": [],
   "source": [
    "from sklearn.ensemble import RandomForestClassifier"
   ]
  },
  {
   "cell_type": "code",
   "execution_count": 103,
   "id": "d148c6c9",
   "metadata": {
    "execution": {
     "iopub.execute_input": "2023-03-22T13:03:17.102149Z",
     "iopub.status.busy": "2023-03-22T13:03:17.101714Z",
     "iopub.status.idle": "2023-03-22T13:03:17.784784Z",
     "shell.execute_reply": "2023-03-22T13:03:17.783809Z"
    },
    "id": "MzBfRc_aXSgr",
    "papermill": {
     "duration": 0.726242,
     "end_time": "2023-03-22T13:03:17.787572",
     "exception": false,
     "start_time": "2023-03-22T13:03:17.061330",
     "status": "completed"
    },
    "tags": []
   },
   "outputs": [],
   "source": [
    "random_forest = RandomForestClassifier()\n",
    "\n",
    "random_forest.fit(X_train, y_train)\n",
    "y_pred = random_forest.predict(X_test)"
   ]
  },
  {
   "cell_type": "code",
   "execution_count": 104,
   "id": "65a77136",
   "metadata": {
    "execution": {
     "iopub.execute_input": "2023-03-22T13:03:17.873650Z",
     "iopub.status.busy": "2023-03-22T13:03:17.873059Z",
     "iopub.status.idle": "2023-03-22T13:03:17.879983Z",
     "shell.execute_reply": "2023-03-22T13:03:17.878503Z"
    },
    "id": "5VNUr6BWXgCm",
    "outputId": "96bcdd4f-d262-496f-80b4-75abe71b4368",
    "papermill": {
     "duration": 0.054462,
     "end_time": "2023-03-22T13:03:17.882092",
     "exception": false,
     "start_time": "2023-03-22T13:03:17.827630",
     "status": "completed"
    },
    "tags": []
   },
   "outputs": [
    {
     "name": "stdout",
     "output_type": "stream",
     "text": [
      "0.7917944785276073\n"
     ]
    }
   ],
   "source": [
    "print(accuracy_score(y_test, y_pred))"
   ]
  },
  {
   "cell_type": "code",
   "execution_count": 105,
   "id": "4bf431f9",
   "metadata": {
    "execution": {
     "iopub.execute_input": "2023-03-22T13:03:17.966883Z",
     "iopub.status.busy": "2023-03-22T13:03:17.966142Z",
     "iopub.status.idle": "2023-03-22T13:03:18.162816Z",
     "shell.execute_reply": "2023-03-22T13:03:18.160882Z"
    },
    "id": "Knt4wC2bXjMu",
    "outputId": "c5d9d3e8-ce4e-4a67-f198-4566b37fb5b3",
    "papermill": {
     "duration": 0.240401,
     "end_time": "2023-03-22T13:03:18.165554",
     "exception": false,
     "start_time": "2023-03-22T13:03:17.925153",
     "status": "completed"
    },
    "tags": []
   },
   "outputs": [
    {
     "data": {
      "text/plain": [
       "<AxesSubplot:>"
      ]
     },
     "execution_count": 105,
     "metadata": {},
     "output_type": "execute_result"
    },
    {
     "data": {
      "image/png": "[encoded data removed]",
      "text/plain": [
       "<Figure size 640x480 with 2 Axes>"
      ]
     },
     "metadata": {},
     "output_type": "display_data"
    }
   ],
   "source": [
    "cm = confusion_matrix(y_test, y_pred)\n",
    "sns.heatmap(cm, annot=True)"
   ]
  },
  {
   "cell_type": "code",
   "execution_count": 106,
   "id": "ca3125bb",
   "metadata": {
    "execution": {
     "iopub.execute_input": "2023-03-22T13:03:18.247960Z",
     "iopub.status.busy": "2023-03-22T13:03:18.247543Z",
     "iopub.status.idle": "2023-03-22T13:03:18.259315Z",
     "shell.execute_reply": "2023-03-22T13:03:18.258418Z"
    },
    "id": "uw_O6W4CXiuV",
    "outputId": "fd5fbc63-6075-4fa5-96ad-1936f186bdb6",
    "papermill": {
     "duration": 0.054782,
     "end_time": "2023-03-22T13:03:18.261205",
     "exception": false,
     "start_time": "2023-03-22T13:03:18.206423",
     "status": "completed"
    },
    "tags": []
   },
   "outputs": [
    {
     "name": "stdout",
     "output_type": "stream",
     "text": [
      "              precision    recall  f1-score   support\n",
      "\n",
      "           0       0.79      0.81      0.80      1335\n",
      "           1       0.79      0.78      0.78      1273\n",
      "\n",
      "    accuracy                           0.79      2608\n",
      "   macro avg       0.79      0.79      0.79      2608\n",
      "weighted avg       0.79      0.79      0.79      2608\n",
      "\n"
     ]
    }
   ],
   "source": [
    "print(classification_report(y_test, y_pred))"
   ]
  },
  {
   "cell_type": "markdown",
   "id": "ee360721",
   "metadata": {
    "id": "Slij9aqsXqYI",
    "papermill": {
     "duration": 0.041142,
     "end_time": "2023-03-22T13:03:18.342239",
     "exception": false,
     "start_time": "2023-03-22T13:03:18.301097",
     "status": "completed"
    },
    "tags": []
   },
   "source": [
    "## KNN"
   ]
  },
  {
   "cell_type": "code",
   "execution_count": 107,
   "id": "e4987991",
   "metadata": {
    "execution": {
     "iopub.execute_input": "2023-03-22T13:03:18.422987Z",
     "iopub.status.busy": "2023-03-22T13:03:18.422291Z",
     "iopub.status.idle": "2023-03-22T13:03:18.427513Z",
     "shell.execute_reply": "2023-03-22T13:03:18.426046Z"
    },
    "id": "xWy834mtXr12",
    "papermill": {
     "duration": 0.048093,
     "end_time": "2023-03-22T13:03:18.429738",
     "exception": false,
     "start_time": "2023-03-22T13:03:18.381645",
     "status": "completed"
    },
    "tags": []
   },
   "outputs": [],
   "source": [
    "from sklearn.neighbors import KNeighborsClassifier"
   ]
  },
  {
   "cell_type": "code",
   "execution_count": 108,
   "id": "bb9865c7",
   "metadata": {
    "execution": {
     "iopub.execute_input": "2023-03-22T13:03:18.509428Z",
     "iopub.status.busy": "2023-03-22T13:03:18.509072Z",
     "iopub.status.idle": "2023-03-22T13:03:18.654849Z",
     "shell.execute_reply": "2023-03-22T13:03:18.653328Z"
    },
    "id": "brLr6SzIYTo1",
    "papermill": {
     "duration": 0.188374,
     "end_time": "2023-03-22T13:03:18.657468",
     "exception": false,
     "start_time": "2023-03-22T13:03:18.469094",
     "status": "completed"
    },
    "tags": []
   },
   "outputs": [],
   "source": [
    "knn = KNeighborsClassifier(n_neighbors=3)\n",
    "knn.fit(X_train, y_train)\n",
    "y_pred = knn.predict(X_test)"
   ]
  },
  {
   "cell_type": "code",
   "execution_count": 109,
   "id": "7fc96457",
   "metadata": {
    "execution": {
     "iopub.execute_input": "2023-03-22T13:03:18.740836Z",
     "iopub.status.busy": "2023-03-22T13:03:18.740424Z",
     "iopub.status.idle": "2023-03-22T13:03:18.748480Z",
     "shell.execute_reply": "2023-03-22T13:03:18.746711Z"
    },
    "id": "C2ak8LbyYZPu",
    "outputId": "49e81c25-dd04-43e5-a713-9b32927e6356",
    "papermill": {
     "duration": 0.052989,
     "end_time": "2023-03-22T13:03:18.750973",
     "exception": false,
     "start_time": "2023-03-22T13:03:18.697984",
     "status": "completed"
    },
    "tags": []
   },
   "outputs": [
    {
     "name": "stdout",
     "output_type": "stream",
     "text": [
      "0.7653374233128835\n"
     ]
    }
   ],
   "source": [
    "print(accuracy_score(y_test, y_pred))"
   ]
  },
  {
   "cell_type": "code",
   "execution_count": 110,
   "id": "73d4953e",
   "metadata": {
    "execution": {
     "iopub.execute_input": "2023-03-22T13:03:18.831257Z",
     "iopub.status.busy": "2023-03-22T13:03:18.830817Z",
     "iopub.status.idle": "2023-03-22T13:03:19.039455Z",
     "shell.execute_reply": "2023-03-22T13:03:19.038032Z"
    },
    "id": "5ku2_tkeYacS",
    "outputId": "11e4b3b8-a46c-4674-cd03-66362dc6136b",
    "papermill": {
     "duration": 0.251659,
     "end_time": "2023-03-22T13:03:19.041974",
     "exception": false,
     "start_time": "2023-03-22T13:03:18.790315",
     "status": "completed"
    },
    "tags": []
   },
   "outputs": [
    {
     "data": {
      "text/plain": [
       "<AxesSubplot:>"
      ]
     },
     "execution_count": 110,
     "metadata": {},
     "output_type": "execute_result"
    },
    {
     "data": {
      "image/png": "[encoded data removed]",
      "text/plain": [
       "<Figure size 640x480 with 2 Axes>"
      ]
     },
     "metadata": {},
     "output_type": "display_data"
    }
   ],
   "source": [
    "cm = confusion_matrix(y_test, y_pred)\n",
    "sns.heatmap(cm, annot=True)"
   ]
  },
  {
   "cell_type": "code",
   "execution_count": 111,
   "id": "a8aebb3c",
   "metadata": {
    "execution": {
     "iopub.execute_input": "2023-03-22T13:03:19.125979Z",
     "iopub.status.busy": "2023-03-22T13:03:19.124919Z",
     "iopub.status.idle": "2023-03-22T13:03:19.136694Z",
     "shell.execute_reply": "2023-03-22T13:03:19.135626Z"
    },
    "id": "WNX7f7iKYbol",
    "outputId": "7f398c8c-246c-4da8-c592-0dc9d7a8f978",
    "papermill": {
     "duration": 0.056919,
     "end_time": "2023-03-22T13:03:19.139602",
     "exception": false,
     "start_time": "2023-03-22T13:03:19.082683",
     "status": "completed"
    },
    "tags": []
   },
   "outputs": [
    {
     "name": "stdout",
     "output_type": "stream",
     "text": [
      "              precision    recall  f1-score   support\n",
      "\n",
      "           0       0.78      0.76      0.77      1335\n",
      "           1       0.75      0.77      0.76      1273\n",
      "\n",
      "    accuracy                           0.77      2608\n",
      "   macro avg       0.77      0.77      0.77      2608\n",
      "weighted avg       0.77      0.77      0.77      2608\n",
      "\n"
     ]
    }
   ],
   "source": [
    "print(classification_report(y_test, y_pred))"
   ]
  },
  {
   "cell_type": "markdown",
   "id": "0cc9f9a9",
   "metadata": {
    "id": "Qu52SD30Jjw7",
    "papermill": {
     "duration": 0.040976,
     "end_time": "2023-03-22T13:03:19.221205",
     "exception": false,
     "start_time": "2023-03-22T13:03:19.180229",
     "status": "completed"
    },
    "tags": []
   },
   "source": [
    "## Applying the best model on the test dataset"
   ]
  },
  {
   "cell_type": "code",
   "execution_count": 112,
   "id": "8ab51d55",
   "metadata": {
    "execution": {
     "iopub.execute_input": "2023-03-22T13:03:19.304960Z",
     "iopub.status.busy": "2023-03-22T13:03:19.304424Z",
     "iopub.status.idle": "2023-03-22T13:03:19.530399Z",
     "shell.execute_reply": "2023-03-22T13:03:19.529215Z"
    },
    "id": "ZqykZMGp1n6Y",
    "papermill": {
     "duration": 0.272299,
     "end_time": "2023-03-22T13:03:19.533027",
     "exception": false,
     "start_time": "2023-03-22T13:03:19.260728",
     "status": "completed"
    },
    "tags": []
   },
   "outputs": [],
   "source": [
    "y_pred_test = knn.predict(test_df.values)"
   ]
  },
  {
   "cell_type": "markdown",
   "id": "c712153a",
   "metadata": {
    "id": "yg4k4C5oJ6JN",
    "papermill": {
     "duration": 0.040648,
     "end_time": "2023-03-22T13:03:19.614807",
     "exception": false,
     "start_time": "2023-03-22T13:03:19.574159",
     "status": "completed"
    },
    "tags": []
   },
   "source": [
    "## Submiting the results"
   ]
  },
  {
   "cell_type": "code",
   "execution_count": 113,
   "id": "602ecef0",
   "metadata": {
    "execution": {
     "iopub.execute_input": "2023-03-22T13:03:19.699595Z",
     "iopub.status.busy": "2023-03-22T13:03:19.698443Z",
     "iopub.status.idle": "2023-03-22T13:03:19.704449Z",
     "shell.execute_reply": "2023-03-22T13:03:19.703444Z"
    },
    "id": "0aK5-hdiJ8wt",
    "papermill": {
     "duration": 0.051387,
     "end_time": "2023-03-22T13:03:19.707136",
     "exception": false,
     "start_time": "2023-03-22T13:03:19.655749",
     "status": "completed"
    },
    "tags": []
   },
   "outputs": [],
   "source": [
    "submission = pd.DataFrame({\n",
    "    \"PassengerId\": test_passenger_id['PassengerId'],\n",
    "    'Transported': y_pred_test\n",
    "})"
   ]
  },
  {
   "cell_type": "code",
   "execution_count": 114,
   "id": "dc7732d3",
   "metadata": {
    "execution": {
     "iopub.execute_input": "2023-03-22T13:03:19.790254Z",
     "iopub.status.busy": "2023-03-22T13:03:19.789880Z",
     "iopub.status.idle": "2023-03-22T13:03:19.869017Z",
     "shell.execute_reply": "2023-03-22T13:03:19.867613Z"
    },
    "id": "uolSSd9CJ-Nh",
    "outputId": "89ad21b4-c228-4a76-c064-90aee2758a4d",
    "papermill": {
     "duration": 0.12382,
     "end_time": "2023-03-22T13:03:19.871809",
     "exception": false,
     "start_time": "2023-03-22T13:03:19.747989",
     "status": "completed"
    },
    "tags": []
   },
   "outputs": [
    {
     "name": "stderr",
     "output_type": "stream",
     "text": [
      "/opt/conda/lib/python3.7/site-packages/ipykernel_launcher.py:5: SettingWithCopyWarning: \n",
      "A value is trying to be set on a copy of a slice from a DataFrame\n",
      "\n",
      "See the caveats in the documentation: https://pandas.pydata.org/pandas-docs/stable/user_guide/indexing.html#returning-a-view-versus-a-copy\n",
      "  \"\"\"\n",
      "/opt/conda/lib/python3.7/site-packages/pandas/core/indexing.py:1732: SettingWithCopyWarning: \n",
      "A value is trying to be set on a copy of a slice from a DataFrame\n",
      "\n",
      "See the caveats in the documentation: https://pandas.pydata.org/pandas-docs/stable/user_guide/indexing.html#returning-a-view-versus-a-copy\n",
      "  self._setitem_single_block(indexer, value, name)\n"
     ]
    }
   ],
   "source": [
    "for i in submission.index:\n",
    "  if submission['Transported'][i] == 0:\n",
    "    submission['Transported'][i] = False\n",
    "  elif submission['Transported'][i] == 1:\n",
    "    submission['Transported'][i] = True"
   ]
  },
  {
   "cell_type": "code",
   "execution_count": 115,
   "id": "a407716b",
   "metadata": {
    "execution": {
     "iopub.execute_input": "2023-03-22T13:03:19.956613Z",
     "iopub.status.busy": "2023-03-22T13:03:19.955911Z",
     "iopub.status.idle": "2023-03-22T13:03:19.967901Z",
     "shell.execute_reply": "2023-03-22T13:03:19.966122Z"
    },
    "id": "Kn8IP38LKjrw",
    "outputId": "a29bf20c-83ac-476e-a6c5-bf718310f96d",
    "papermill": {
     "duration": 0.057203,
     "end_time": "2023-03-22T13:03:19.970227",
     "exception": false,
     "start_time": "2023-03-22T13:03:19.913024",
     "status": "completed"
    },
    "tags": []
   },
   "outputs": [
    {
     "data": {
      "text/html": [
       "<div>\n",
       "<style scoped>\n",
       "    .dataframe tbody tr th:only-of-type {\n",
       "        vertical-align: middle;\n",
       "    }\n",
       "\n",
       "    .dataframe tbody tr th {\n",
       "        vertical-align: top;\n",
       "    }\n",
       "\n",
       "    .dataframe thead th {\n",
       "        text-align: right;\n",
       "    }\n",
       "</style>\n",
       "<table border=\"1\" class=\"dataframe\">\n",
       "  <thead>\n",
       "    <tr style=\"text-align: right;\">\n",
       "      <th></th>\n",
       "      <th>PassengerId</th>\n",
       "      <th>Transported</th>\n",
       "    </tr>\n",
       "  </thead>\n",
       "  <tbody>\n",
       "    <tr>\n",
       "      <th>0</th>\n",
       "      <td>0013_01</td>\n",
       "      <td>True</td>\n",
       "    </tr>\n",
       "    <tr>\n",
       "      <th>1</th>\n",
       "      <td>0018_01</td>\n",
       "      <td>False</td>\n",
       "    </tr>\n",
       "    <tr>\n",
       "      <th>2</th>\n",
       "      <td>0019_01</td>\n",
       "      <td>True</td>\n",
       "    </tr>\n",
       "    <tr>\n",
       "      <th>3</th>\n",
       "      <td>0021_01</td>\n",
       "      <td>True</td>\n",
       "    </tr>\n",
       "    <tr>\n",
       "      <th>4</th>\n",
       "      <td>0023_01</td>\n",
       "      <td>False</td>\n",
       "    </tr>\n",
       "    <tr>\n",
       "      <th>...</th>\n",
       "      <td>...</td>\n",
       "      <td>...</td>\n",
       "    </tr>\n",
       "    <tr>\n",
       "      <th>4272</th>\n",
       "      <td>9266_02</td>\n",
       "      <td>True</td>\n",
       "    </tr>\n",
       "    <tr>\n",
       "      <th>4273</th>\n",
       "      <td>9269_01</td>\n",
       "      <td>True</td>\n",
       "    </tr>\n",
       "    <tr>\n",
       "      <th>4274</th>\n",
       "      <td>9271_01</td>\n",
       "      <td>True</td>\n",
       "    </tr>\n",
       "    <tr>\n",
       "      <th>4275</th>\n",
       "      <td>9273_01</td>\n",
       "      <td>True</td>\n",
       "    </tr>\n",
       "    <tr>\n",
       "      <th>4276</th>\n",
       "      <td>9277_01</td>\n",
       "      <td>False</td>\n",
       "    </tr>\n",
       "  </tbody>\n",
       "</table>\n",
       "<p>4277 rows × 2 columns</p>\n",
       "</div>"
      ],
      "text/plain": [
       "     PassengerId Transported\n",
       "0        0013_01        True\n",
       "1        0018_01       False\n",
       "2        0019_01        True\n",
       "3        0021_01        True\n",
       "4        0023_01       False\n",
       "...          ...         ...\n",
       "4272     9266_02        True\n",
       "4273     9269_01        True\n",
       "4274     9271_01        True\n",
       "4275     9273_01        True\n",
       "4276     9277_01       False\n",
       "\n",
       "[4277 rows x 2 columns]"
      ]
     },
     "execution_count": 115,
     "metadata": {},
     "output_type": "execute_result"
    }
   ],
   "source": [
    "submission"
   ]
  },
  {
   "cell_type": "code",
   "execution_count": 116,
   "id": "8053f01b",
   "metadata": {
    "execution": {
     "iopub.execute_input": "2023-03-22T13:03:20.057651Z",
     "iopub.status.busy": "2023-03-22T13:03:20.057229Z",
     "iopub.status.idle": "2023-03-22T13:03:20.071592Z",
     "shell.execute_reply": "2023-03-22T13:03:20.070068Z"
    },
    "id": "pnwFaFR9K_NA",
    "papermill": {
     "duration": 0.062017,
     "end_time": "2023-03-22T13:03:20.074040",
     "exception": false,
     "start_time": "2023-03-22T13:03:20.012023",
     "status": "completed"
    },
    "tags": []
   },
   "outputs": [],
   "source": [
    "submission.to_csv('submission.csv', index=False)"
   ]
  }
 ],
 "metadata": {
  "kernelspec": {
   "display_name": "Python 3",
   "language": "python",
   "name": "python3"
  },
  "language_info": {
   "codemirror_mode": {
    "name": "ipython",
    "version": 3
   },
   "file_extension": ".py",
   "mimetype": "text/x-python",
   "name": "python",
   "nbconvert_exporter": "python",
   "pygments_lexer": "ipython3",
   "version": "3.7.12"
  },
  "papermill": {
   "default_parameters": {},
   "duration": 27.980462,
   "end_time": "2023-03-22T13:03:21.040984",
   "environment_variables": {},
   "exception": null,
   "input_path": "__notebook__.ipynb",
   "output_path": "__notebook__.ipynb",
   "parameters": {},
   "start_time": "2023-03-22T13:02:53.060522",
   "version": "2.4.0"
  }
 },
 "nbformat": 4,
 "nbformat_minor": 5
}
